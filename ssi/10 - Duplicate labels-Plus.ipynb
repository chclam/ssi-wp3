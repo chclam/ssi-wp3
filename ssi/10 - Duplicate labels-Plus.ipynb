{
 "cells": [
  {
   "cell_type": "code",
   "execution_count": null,
   "id": "royal-annual",
   "metadata": {},
   "outputs": [],
   "source": [
    "import pandas as pd\n",
    "from dotenv import load_dotenv\n",
    "from pathlib import Path\n",
    "import os\n",
    "\n",
    "# load environment variables from .env file for project\n",
    "dotenv_path = Path('../.env')\n",
    "load_dotenv(dotenv_path=dotenv_path)\n",
    "\n",
    "data_directory = os.getenv(\"OUTPUT_DIRECTORY\")\n",
    "feature_directory = os.path.join(data_directory, \"features\")"
   ]
  },
  {
   "cell_type": "code",
   "execution_count": null,
   "id": "first-marijuana",
   "metadata": {},
   "outputs": [],
   "source": [
    "plus_df = pd.read_parquet(os.path.join(data_directory, \"ssi_plus_revenue.parquet\"), engine=\"pyarrow\")\n",
    "plus_df.rename(columns={\"bg_number\": \"supermarket_id\", \"ean_name\": \"receipt_text\"}, inplace=True)\n",
    "plus_df.receipt_text = plus_df.receipt_text.str.replace('[^0-9a-zA-Z.,-/ ]', '', regex=True).str.lstrip().str.rstrip().str.lower()\n",
    "plus_df.head()"
   ]
  },
  {
   "cell_type": "markdown",
   "id": "applied-relay",
   "metadata": {},
   "source": [
    "## Unique products"
   ]
  },
  {
   "cell_type": "code",
   "execution_count": null,
   "id": "descending-marks",
   "metadata": {},
   "outputs": [],
   "source": [
    "unique_products = plus_df[[\"receipt_text\", \"ean_number\"]].nunique()\n",
    "unique_products.to_latex(\"../Notebooks/tables/plus_unique_products_total.tex\")\n",
    "unique_products"
   ]
  },
  {
   "cell_type": "code",
   "execution_count": null,
   "id": "apparent-outline",
   "metadata": {},
   "outputs": [],
   "source": [
    "unique_products_per_month = plus_df.groupby(by=[\"year_month\"])[[\"receipt_text\", \"ean_number\"]].nunique()\n",
    "unique_products_per_month.to_latex(\"../Notebooks/tables/plus_unique_product_per_month.tex\")\n",
    "unique_products_per_month"
   ]
  },
  {
   "cell_type": "code",
   "execution_count": null,
   "id": "administrative-information",
   "metadata": {},
   "outputs": [],
   "source": [
    "unique_products_per_month.plot.bar(figsize=(15,10)).figure.savefig(\"../Notebooks/plots/plus_unique_products_per_month.png\")"
   ]
  },
  {
   "cell_type": "code",
   "execution_count": null,
   "id": "phantom-style",
   "metadata": {},
   "outputs": [],
   "source": [
    "unique_products_per_coicop = plus_df.groupby(by=[\"coicop_level_1\"])[[\"receipt_text\", \"ean_number\"]].nunique()\n",
    "unique_products_per_coicop.to_latex(\"../Notebooks/tables/plus_unique_products_coicop_level_1.tex\")\n",
    "unique_products_per_coicop"
   ]
  },
  {
   "cell_type": "code",
   "execution_count": null,
   "id": "martial-nickname",
   "metadata": {},
   "outputs": [],
   "source": [
    "unique_products_per_coicop.plot.bar().figure.savefig(\"../Notebooks/plots/plus_unique_products_per_coicop.png\")"
   ]
  },
  {
   "cell_type": "markdown",
   "id": "copyrighted-pulse",
   "metadata": {},
   "source": [
    "## New/removed products per month"
   ]
  },
  {
   "cell_type": "code",
   "execution_count": null,
   "id": "intimate-priest",
   "metadata": {},
   "outputs": [],
   "source": [
    "from text_analysis import compare_receipt_texts_per_period\n",
    "\n",
    "plus_new_products_df = compare_receipt_texts_per_period(plus_df, \"year_month\", \"receipt_text\")\n",
    "plus_new_products_df.head()"
   ]
  },
  {
   "cell_type": "code",
   "execution_count": null,
   "id": "secondary-gasoline",
   "metadata": {},
   "outputs": [],
   "source": [
    "plus_new_products_df.columns"
   ]
  },
  {
   "cell_type": "code",
   "execution_count": null,
   "id": "naughty-level",
   "metadata": {},
   "outputs": [],
   "source": [
    "from text_analysis import series_to_set\n",
    "\n",
    "grouped_texts_per_month = plus_new_products_df.groupby(by=\"year_month\")[\"receipt_text\"].apply(series_to_set)\n",
    "grouped_texts_per_month = grouped_texts_per_month.reset_index()\n",
    "grouped_texts_per_month "
   ]
  },
  {
   "cell_type": "code",
   "execution_count": null,
   "id": "fancy-moment",
   "metadata": {},
   "outputs": [],
   "source": [
    "grouped_eans_per_month = plus_new_products_df.groupby(by=\"year_month\")[\"ean_number\"].apply(series_to_set)\n",
    "grouped_eans_per_month = grouped_eans_per_month.reset_index()\n",
    "grouped_eans_per_month"
   ]
  },
  {
   "cell_type": "code",
   "execution_count": null,
   "id": "short-affiliate",
   "metadata": {},
   "outputs": [],
   "source": [
    "grouped_texts_eans_per_month = grouped_texts_per_month.merge(grouped_eans_per_month, on=\"year_month\")\n",
    "grouped_texts_eans_per_month"
   ]
  },
  {
   "cell_type": "code",
   "execution_count": null,
   "id": "weighted-reality",
   "metadata": {},
   "outputs": [],
   "source": [
    "grouped_texts_eans_per_month = grouped_texts_eans_per_month.set_index(\"year_month\")\n",
    "grouped_texts_eans_per_month"
   ]
  },
  {
   "cell_type": "code",
   "execution_count": null,
   "id": "electronic-reasoning",
   "metadata": {},
   "outputs": [],
   "source": [
    "grouped_texts_eans_per_month[\"receipt_text_lagged\"] = grouped_texts_eans_per_month[\"receipt_text\"].shift(1)\n",
    "grouped_texts_eans_per_month[\"ean_number_lagged\"] = grouped_texts_eans_per_month[\"ean_number\"].shift(1)\n",
    "grouped_texts_eans_per_month"
   ]
  },
  {
   "cell_type": "code",
   "execution_count": null,
   "id": "finite-brunei",
   "metadata": {},
   "outputs": [],
   "source": [
    "from typing import Optional\n",
    "\n",
    "def intersection(left_column: Optional[set], right_column: Optional[set]) -> Optional[set]:\n",
    "    if not left_column or not right_column:\n",
    "        return None    \n",
    "    return left_column.intersection(right_column)\n",
    "\n",
    "def introduced_products(left_column: Optional[set], right_column: Optional[set]) -> Optional[set]:\n",
    "    if not left_column or not right_column:\n",
    "        return None    \n",
    "    return left_column.difference(right_column)\n",
    "\n",
    "def removed_products(left_column: Optional[set], right_column: Optional[set]) -> Optional[set]:\n",
    "    if not left_column or not right_column:\n",
    "        return None    \n",
    "    return right_column.difference(left_column)\n",
    "\n",
    "def number_of_products(column: Optional[set]) -> int:\n",
    "    if not column:\n",
    "        return 0\n",
    "    return len(column)\n",
    "\n",
    "grouped_texts_eans_per_month[\"receipt_text_intersection\"] = grouped_texts_eans_per_month.apply(lambda row: intersection(row[\"receipt_text\"], row[\"receipt_text_lagged\"]), axis=1)\n",
    "grouped_texts_eans_per_month[\"receipt_text_introduced\"] = grouped_texts_eans_per_month.apply(lambda row: introduced_products(row[\"receipt_text\"], row[\"receipt_text_lagged\"]), axis=1)\n",
    "grouped_texts_eans_per_month[\"number_receipt_text_introduced\"] = grouped_texts_eans_per_month[\"receipt_text_introduced\"].apply(number_of_products)\n",
    "grouped_texts_eans_per_month[\"receipt_text_removed\"] = grouped_texts_eans_per_month.apply(lambda row: removed_products(row[\"receipt_text\"], row[\"receipt_text_lagged\"]), axis=1)\n",
    "grouped_texts_eans_per_month[\"number_receipt_text_removed\"] = grouped_texts_eans_per_month[\"receipt_text_removed\"].apply(number_of_products)\n",
    "\n",
    "grouped_texts_eans_per_month[\"ean_intersection\"] = grouped_texts_eans_per_month.apply(lambda row: intersection(row[\"ean_number\"], row[\"ean_number_lagged\"]), axis=1)\n",
    "grouped_texts_eans_per_month[\"ean_introduced\"] = grouped_texts_eans_per_month.apply(lambda row: introduced_products(row[\"ean_number\"], row[\"ean_number_lagged\"]), axis=1)\n",
    "grouped_texts_eans_per_month[\"number_ean_introduced\"] = grouped_texts_eans_per_month[\"ean_introduced\"].apply(number_of_products)\n",
    "grouped_texts_eans_per_month[\"ean_removed\"] = grouped_texts_eans_per_month.apply(lambda row: removed_products(row[\"ean_number\"], row[\"ean_number_lagged\"]), axis=1)\n",
    "grouped_texts_eans_per_month[\"number_ean_removed\"] = grouped_texts_eans_per_month[\"ean_removed\"].apply(number_of_products)\n",
    "\n",
    "grouped_texts_eans_per_month"
   ]
  },
  {
   "cell_type": "code",
   "execution_count": null,
   "id": "environmental-array",
   "metadata": {
    "tags": []
   },
   "outputs": [],
   "source": [
    "os.getcwd()"
   ]
  },
  {
   "cell_type": "code",
   "execution_count": null,
   "id": "contained-physiology",
   "metadata": {},
   "outputs": [],
   "source": [
    "os.makedirs(\"../Notebooks/tables\", exist_ok=True)\n",
    "\n",
    "grouped_texts_eans_per_month[[\"number_receipt_text_introduced\", \"number_ean_introduced\"]].to_latex(\"../Notebooks/tables/plus_unique_receipt_texts_eans_introducted_per_month.tex\")"
   ]
  },
  {
   "cell_type": "code",
   "execution_count": null,
   "id": "supreme-airplane",
   "metadata": {},
   "outputs": [],
   "source": [
    "grouped_texts_eans_per_month[[\"number_receipt_text_removed\", \"number_ean_removed\"]].to_latex(\"../Notebooks/tables/plus_unique_receipt_texts_eans_removed_per_month.tex\")"
   ]
  },
  {
   "cell_type": "code",
   "execution_count": null,
   "id": "labeled-pioneer",
   "metadata": {},
   "outputs": [],
   "source": [
    "grouped_texts_eans_per_month[[\"number_receipt_text_introduced\", \"number_ean_introduced\"]].plot(title=\"Number of unique texts/ean introduced per month\").figure.savefig(os.path.join(\"../Notebooks/plots\", \"plus_unique_receipt_texts_eans_introducted_per_month.png\"))"
   ]
  },
  {
   "cell_type": "code",
   "execution_count": null,
   "id": "blond-lotus",
   "metadata": {},
   "outputs": [],
   "source": [
    "grouped_texts_eans_per_month[[\"number_receipt_text_removed\", \"number_ean_removed\"]].plot(title=\"Number of unique texts/ean removed per month\").figure.savefig(os.path.join(\"../Notebooks/plots\", \"plus_unique_receipt_texts_eans_removed_per_month.png\"))"
   ]
  },
  {
   "cell_type": "code",
   "execution_count": null,
   "id": "assumed-league",
   "metadata": {},
   "outputs": [],
   "source": [
    "texts_per_ean = plus_df.groupby(by=\"ean_number\")[\"receipt_text\"].nunique()\n",
    "texts_per_ean = texts_per_ean.reset_index()\n",
    "texts_per_ean "
   ]
  },
  {
   "cell_type": "code",
   "execution_count": null,
   "id": "august-syndrome",
   "metadata": {},
   "outputs": [],
   "source": [
    "receipt_text_counts = texts_per_ean.receipt_text.value_counts().sort_index()\n",
    "receipt_text_counts"
   ]
  },
  {
   "cell_type": "code",
   "execution_count": null,
   "id": "visible-terminal",
   "metadata": {},
   "outputs": [],
   "source": [
    "receipt_text_counts.max()"
   ]
  },
  {
   "cell_type": "code",
   "execution_count": null,
   "id": "comparable-tissue",
   "metadata": {},
   "outputs": [],
   "source": [
    "receipt_text_counts = receipt_text_counts.sort_index()\n",
    "receipt_text_counts"
   ]
  },
  {
   "cell_type": "code",
   "execution_count": null,
   "id": "unauthorized-attraction",
   "metadata": {},
   "outputs": [],
   "source": [
    "texts_per_ean = plus_df.groupby(by=\"ean_number\")[\"receipt_text\"].nunique()\n",
    "texts_per_ean = texts_per_ean.reset_index()\n",
    "receipt_text_counts = texts_per_ean.receipt_text.value_counts()\n",
    "receipt_text_counts = receipt_text_counts.sort_index()\n",
    "receipt_text_counts = np.log(receipt_text_counts)\n",
    "receipt_text_counts"
   ]
  },
  {
   "cell_type": "code",
   "execution_count": null,
   "id": "tracked-health",
   "metadata": {},
   "outputs": [],
   "source": [
    "import numpy as np\n",
    "\n",
    "texts_per_ean = plus_df.groupby(by=\"ean_number\")[\"receipt_text\"].nunique()\n",
    "texts_per_ean = texts_per_ean.reset_index()\n",
    "receipt_text_counts = texts_per_ean.receipt_text.value_counts()\n",
    "receipt_text_counts = receipt_text_counts.sort_index()\n",
    "receipt_text_counts = np.log(receipt_text_counts)\n",
    "\n",
    "receipt_text_counts.plot.bar(y=\"receipt_text\", rot=90, figsize=(10,10), xlabel=\"Number of receipt texts per EAN\", ylabel=\"Log(count)\", xticks=list(range(receipt_text_counts.index.min(), receipt_text_counts.index.max()+1, (receipt_text_counts.index.max() - 1) // 20))).figure.savefig(\"../Notebooks/plots/plus_hist_receipt_texts_per_ean.png\")\n"
   ]
  },
  {
   "cell_type": "code",
   "execution_count": null,
   "id": "wired-murder",
   "metadata": {},
   "outputs": [],
   "source": [
    "texts_per_ean.plot.hist(column=\"receipt_text\", bins=100)"
   ]
  },
  {
   "cell_type": "code",
   "execution_count": null,
   "id": "isolated-brown",
   "metadata": {},
   "outputs": [],
   "source": [
    "\n",
    "grouped_texts_per_month_coicop = plus_new_products_df.groupby(by=[\"year_month\", \"coicop_level_1\"])[\"receipt_text\"].apply(series_to_set)\n",
    "grouped_texts_per_month_coicop = grouped_texts_per_month_coicop.reset_index()\n",
    "grouped_eans_per_month_coicop = plus_new_products_df.groupby(by=[\"year_month\", \"coicop_level_1\"])[\"ean_number\"].apply(series_to_set)\n",
    "grouped_eans_per_month_coicop = grouped_eans_per_month_coicop.reset_index()\n",
    "\n",
    "grouped_texts_eans_per_month_coicop = grouped_texts_per_month_coicop.merge(grouped_eans_per_month_coicop, on=[\"year_month\", \"coicop_level_1\"])\n",
    "grouped_texts_eans_per_month_coicop[\"receipt_text_lagged\"] = grouped_texts_eans_per_month_coicop[\"receipt_text\"].shift(1)\n",
    "grouped_texts_eans_per_month_coicop[\"ean_number_lagged\"] = grouped_texts_eans_per_month_coicop[\"ean_number\"].shift(1)\n",
    "\n",
    "grouped_texts_eans_per_month_coicop[\"receipt_text_intersection\"] = grouped_texts_eans_per_month_coicop.apply(lambda row: intersection(row[\"receipt_text\"], row[\"receipt_text_lagged\"]), axis=1)\n",
    "grouped_texts_eans_per_month_coicop[\"receipt_text_introduced\"] = grouped_texts_eans_per_month_coicop.apply(lambda row: introduced_products(row[\"receipt_text\"], row[\"receipt_text_lagged\"]), axis=1)\n",
    "grouped_texts_eans_per_month_coicop[\"number_receipt_text_introduced\"] = grouped_texts_eans_per_month_coicop[\"receipt_text_introduced\"].apply(number_of_products)\n",
    "grouped_texts_eans_per_month_coicop[\"receipt_text_removed\"] = grouped_texts_eans_per_month_coicop.apply(lambda row: removed_products(row[\"receipt_text\"], row[\"receipt_text_lagged\"]), axis=1)\n",
    "grouped_texts_eans_per_month_coicop[\"number_receipt_text_removed\"] = grouped_texts_eans_per_month_coicop[\"receipt_text_removed\"].apply(number_of_products)\n",
    "\n",
    "grouped_texts_eans_per_month_coicop[\"ean_intersection\"] = grouped_texts_eans_per_month_coicop.apply(lambda row: intersection(row[\"ean_number\"], row[\"ean_number_lagged\"]), axis=1)\n",
    "grouped_texts_eans_per_month_coicop[\"ean_introduced\"] = grouped_texts_eans_per_month_coicop.apply(lambda row: introduced_products(row[\"ean_number\"], row[\"ean_number_lagged\"]), axis=1)\n",
    "grouped_texts_eans_per_month_coicop[\"number_ean_introduced\"] = grouped_texts_eans_per_month_coicop[\"ean_introduced\"].apply(number_of_products)\n",
    "grouped_texts_eans_per_month_coicop[\"ean_removed\"] = grouped_texts_eans_per_month_coicop.apply(lambda row: removed_products(row[\"ean_number\"], row[\"ean_number_lagged\"]), axis=1)\n",
    "grouped_texts_eans_per_month_coicop[\"number_ean_removed\"] = grouped_texts_eans_per_month_coicop[\"ean_removed\"].apply(number_of_products)\n",
    "\n",
    "\n",
    "grouped_texts_eans_per_month_coicop "
   ]
  },
  {
   "cell_type": "code",
   "execution_count": null,
   "id": "unknown-album",
   "metadata": {},
   "outputs": [],
   "source": [
    "for coicop_level in grouped_texts_eans_per_month_coicop.coicop_level_1.unique():\n",
    "    grouped_texts_eans_per_month_coicop_level = grouped_texts_eans_per_month_coicop[grouped_texts_eans_per_month_coicop.coicop_level_1 == coicop_level]\n",
    "    grouped_texts_eans_per_month_coicop_level[[\"year_month\",\"number_receipt_text_introduced\", \"number_ean_introduced\"]].plot(x=\"year_month\", title=f\"Number of introduced texts/eans per month for coicop {coicop_level}\").figure.savefig(os.path.join(\"../Notebooks/plots\", f\"plus_introduced_receipt_texts_eans_per_month_coicop_{coicop_level}.png\"))"
   ]
  },
  {
   "cell_type": "code",
   "execution_count": null,
   "id": "abroad-saying",
   "metadata": {},
   "outputs": [],
   "source": [
    "for coicop_level in grouped_texts_eans_per_month_coicop.coicop_level_1.unique():\n",
    "    grouped_texts_eans_per_month_coicop_level = grouped_texts_eans_per_month_coicop[grouped_texts_eans_per_month_coicop.coicop_level_1 == coicop_level]\n",
    "    grouped_texts_eans_per_month_coicop_level[[\"year_month\",\"number_receipt_text_removed\", \"number_ean_removed\"]].plot(x=\"year_month\", title=f\"Number of removed texts/eans per month for coicop {coicop_level}\").figure.savefig(os.path.join(\"../Notebooks/plots\", f\"plus_removed_receipt_texts_eans_per_month_coicop_{coicop_level}.png\"))"
   ]
  },
  {
   "cell_type": "markdown",
   "id": "quarterly-victorian",
   "metadata": {},
   "source": [
    "# Product Availability"
   ]
  },
  {
   "cell_type": "code",
   "execution_count": null,
   "id": "second-awareness",
   "metadata": {},
   "outputs": [],
   "source": [
    "unique_receipt_texts = plus_df.receipt_text.unique()\n",
    "unique_receipt_texts"
   ]
  },
  {
   "cell_type": "code",
   "execution_count": null,
   "id": "solid-aquarium",
   "metadata": {},
   "outputs": [],
   "source": [
    "len(unique_receipt_texts)"
   ]
  },
  {
   "cell_type": "code",
   "execution_count": null,
   "id": "useful-distance",
   "metadata": {},
   "outputs": [],
   "source": [
    "unique_periods = plus_df[\"year_month\"].unique()\n",
    "unique_periods"
   ]
  },
  {
   "cell_type": "code",
   "execution_count": null,
   "id": "refined-decline",
   "metadata": {},
   "outputs": [],
   "source": [
    "from typing import List\n",
    "\n",
    "def availability_in_period(dataframe: pd.DataFrame, unique_receipt_texts: List[str], period: str) -> List[bool]:\n",
    "    period_texts = dataframe.loc[period][\"receipt_text\"]\n",
    "    return [receipt_text in period_texts for receipt_text in unique_receipt_texts]\n",
    "\n",
    "    \n",
    "unique_receipt_texts = plus_df.receipt_text.unique()\n",
    "unique_periods = plus_df[\"year_month\"].unique()    \n",
    "\n",
    "availability_per_period = {year_month: availability_in_period(grouped_texts_eans_per_month, unique_receipt_texts, year_month) for year_month in unique_periods}\n",
    "availability_per_period[\"receipt_texts\"] = unique_receipt_texts\n",
    "\n",
    "product_availability_df = pd.DataFrame(availability_per_period)\n",
    "product_availability_df = product_availability_df[[\"receipt_texts\"] + unique_periods.tolist()]\n",
    "product_availability_df.head()"
   ]
  },
  {
   "cell_type": "code",
   "execution_count": null,
   "id": "inner-digest",
   "metadata": {},
   "outputs": [],
   "source": [
    "product_availability_sorted_df = product_availability_df.sort_values(by=product_availability_df.columns[1:].tolist())\n",
    "product_availability_sorted_df"
   ]
  },
  {
   "cell_type": "code",
   "execution_count": null,
   "id": "efficient-rates",
   "metadata": {},
   "outputs": [],
   "source": [
    "month_columns = [column for column in product_availability_sorted_df.columns if column not in [\"receipt_texts\", \"number_of_months_available\"]]\n",
    "month_columns"
   ]
  },
  {
   "cell_type": "code",
   "execution_count": null,
   "id": "local-sydney",
   "metadata": {},
   "outputs": [],
   "source": [
    "total_number_of_months = len(month_columns)\n",
    "total_number_of_months"
   ]
  },
  {
   "cell_type": "code",
   "execution_count": null,
   "id": "ordinary-mailman",
   "metadata": {},
   "outputs": [],
   "source": [
    "product_availability_sorted_df[\"number_of_months_available\"] = product_availability_sorted_df[month_columns].sum(axis=1)\n",
    "product_availability_sorted_df"
   ]
  },
  {
   "cell_type": "code",
   "execution_count": null,
   "id": "positive-change",
   "metadata": {},
   "outputs": [],
   "source": [
    "product_availability_sorted_df.plot.hist(column=\"number_of_months_available\", bins=total_number_of_months).figure.savefig(\"../Notebooks/plots/plus_product_lifetime_histogram.png\")"
   ]
  },
  {
   "cell_type": "code",
   "execution_count": null,
   "id": "cognitive-integral",
   "metadata": {},
   "outputs": [],
   "source": [
    "import matplotlib.pyplot as plt\n",
    "from matplotlib import colors\n",
    "import seaborn as sns\n",
    "\n",
    "fig, ax = plt.subplots(figsize=(20,20))\n",
    "sns.heatmap(product_availability_sorted_df[product_availability_sorted_df.columns[:-1]].set_index(\"receipt_texts\"), cmap=\"tab20\", ax=ax)\n",
    "plt.savefig(\"../Notebooks/plots/plus_products_over_time.png\")"
   ]
  },
  {
   "cell_type": "code",
   "execution_count": null,
   "id": "national-answer",
   "metadata": {},
   "outputs": [],
   "source": [
    "import matplotlib.pyplot as plt\n",
    "from matplotlib import colors\n",
    "import seaborn as sns\n",
    "\n",
    "years = [year_month_columns[:4] for year_month_columns in product_availability_sorted_df.columns[1:]]\n",
    "\n",
    "for year in years:\n",
    "    fig, ax = plt.subplots(figsize=(20,20))\n",
    "    \n",
    "    year_columns = [\"receipt_texts\"] + [year_column for year_column in  product_availability_sorted_df.columns[1:] if year_column.startswith(year)]\n",
    "    sns.heatmap(product_availability_sorted_df[year_columns].set_index(\"receipt_texts\"), cmap=\"tab20\", ax=ax)\n",
    "    plt.savefig(f\"../Notebooks/plots/plus_products_over_time_{year}.png\")"
   ]
  },
  {
   "cell_type": "code",
   "execution_count": null,
   "id": "boolean-constraint",
   "metadata": {},
   "outputs": [],
   "source": [
    "new_products_202202 = product_availability_sorted_df[[\"receipt_texts\", \"202202\"]][product_availability_sorted_df[\"202202\"] == True]\n",
    "new_products_202202"
   ]
  },
  {
   "cell_type": "code",
   "execution_count": null,
   "id": "handmade-nancy",
   "metadata": {},
   "outputs": [],
   "source": [
    "from wordcloud import WordCloud\n",
    "\n",
    "w = WordCloud().generate(\" \".join([word for word in new_products_202202.receipt_texts]))\n",
    "plt.imshow(w, interpolation='bilinear')\n",
    "plt.axis(\"off\")\n",
    "plt.show()"
   ]
  },
  {
   "cell_type": "code",
   "execution_count": null,
   "id": "chicken-highlight",
   "metadata": {},
   "outputs": [],
   "source": [
    "import spacy\n",
    "\n",
    "nlp = spacy.load(\"nl_core_news_md\")"
   ]
  },
  {
   "cell_type": "code",
   "execution_count": null,
   "id": "rational-helen",
   "metadata": {},
   "outputs": [],
   "source": [
    "plus_new_products_df[\"features\"] = [doc.vector for doc in nlp.pipe(plus_new_products_df[\"receipt_text\"], disable=[\"tagger\", \"parser\", \"ner\"])]"
   ]
  },
  {
   "cell_type": "code",
   "execution_count": null,
   "id": "nonprofit-joshua",
   "metadata": {},
   "outputs": [],
   "source": [
    "month = \"201801\"\n",
    "period_df = plus_new_products_df[plus_new_products_df.month == month]\n",
    "period_df.head()"
   ]
  },
  {
   "cell_type": "code",
   "execution_count": null,
   "id": "dimensional-phone",
   "metadata": {},
   "outputs": [],
   "source": [
    "from sklearn.linear_model import LogisticRegression\n",
    "\n",
    "lr = LogisticRegression()\n",
    "lr.fit(period_df.features.values.tolist(), period_df.coicop_division.values.tolist())"
   ]
  },
  {
   "cell_type": "code",
   "execution_count": null,
   "id": "aggregate-pregnancy",
   "metadata": {},
   "outputs": [],
   "source": [
    "plus_new_products_df.rename(columns={\"month\": \"year_month\"}, inplace=True)\n",
    "plus_new_products_df[\"year\"] = plus_new_products_df.year_month.str[:4].astype(int)\n",
    "plus_new_products_df[\"month\"] = plus_new_products_df.year_month.str[4:].astype(int)\n",
    "plus_new_products_df.head()"
   ]
  },
  {
   "cell_type": "code",
   "execution_count": null,
   "id": "eleven-fence",
   "metadata": {},
   "outputs": [],
   "source": [
    "from sklearn.exceptions import ConvergenceWarning\n",
    "import warnings\n",
    "import os\n",
    "\n",
    "\n",
    "os.makedirs(\"lr_eval\", exist_ok=True)\n",
    "\n",
    "with warnings.catch_warnings():\n",
    "    warnings.filterwarnings(\"ignore\", category=ConvergenceWarning)\n",
    "\n",
    "    eval_dfs = []\n",
    "    periods = plus_new_products_df[\"year_month\"].unique()\n",
    "    for period in periods[:-1]:\n",
    "        year, month = int(period[:4]), int(period[4:])\n",
    "\n",
    "        train_period_df = plus_new_products_df[(plus_new_products_df.year == year) & (plus_new_products_df.month == month)]\n",
    "        train_period_df.to_csv(os.path.join(\"lr_eval\", f\"train_df_{period}.csv\"), index=False, sep=\";\")\n",
    "    \n",
    "    \n",
    "        lr = LogisticRegression()\n",
    "        lr.fit(train_period_df.features.values.tolist(), train_period_df.coicop_division.values.tolist())\n",
    "\n",
    "        eval_period_df = plus_new_products_df[((plus_new_products_df.year == year) & (plus_new_products_df.month > month) | (plus_new_products_df.year > year))].copy()\n",
    "        eval_period_df[\"y_pred\"] = lr.predict(eval_period_df.features.values.tolist())\n",
    "        eval_period_df.to_csv(os.path.join(\"lr_eval\", f\"eval_df_{period}.csv\"), index=False, sep=\";\")\n",
    "        \n",
    "        eval_dfs.append(eval_period_df)\n",
    "        del eval_period_df\n",
    "        "
   ]
  },
  {
   "cell_type": "code",
   "execution_count": null,
   "id": "settled-dryer",
   "metadata": {},
   "outputs": [],
   "source": [
    "for eval_df in evals_dfs:\n",
    "    eval_df.head()"
   ]
  },
  {
   "cell_type": "code",
   "execution_count": null,
   "id": "exclusive-leadership",
   "metadata": {},
   "outputs": [],
   "source": [
    "plus_new_products_df[\"y_pred\"] = lr.predict(plus_new_products_df.features.values.tolist())\n",
    "plus_new_products_df.head()"
   ]
  },
  {
   "cell_type": "code",
   "execution_count": null,
   "id": "pregnant-sheet",
   "metadata": {},
   "outputs": [],
   "source": [
    "from sklearn.metrics import f1_score\n",
    "\n",
    "f1_score(plus_new_products_df.coicop_division, plus_new_products_df.y_pred, average=\"macro\")"
   ]
  },
  {
   "cell_type": "code",
   "execution_count": null,
   "id": "regulation-professional",
   "metadata": {},
   "outputs": [],
   "source": [
    "products_201801_df =  plus_new_products_df[plus_new_products_df.month == \"201801\"]\n",
    "f1_score(products_201801_df.coicop_division, products_201801_df.y_pred, average=\"macro\")"
   ]
  },
  {
   "cell_type": "code",
   "execution_count": null,
   "id": "prompt-maria",
   "metadata": {},
   "outputs": [],
   "source": [
    "products_201802_df =  plus_new_products_df[plus_new_products_df.month == \"201802\"]\n",
    "old_products = products_201802_df[products_201802_df.new_text == False]\n",
    "new_products = products_201802_df[products_201802_df.new_text == True]\n",
    "\n",
    "f1_score(old_products.coicop_division, old_products.y_pred, average=\"macro\"), f1_score(new_products.coicop_division, new_products.y_pred, average=\"macro\")"
   ]
  },
  {
   "cell_type": "code",
   "execution_count": null,
   "id": "handy-stock",
   "metadata": {},
   "outputs": [],
   "source": [
    "products_201802_df[(products_201802_df.new_text == True) & (products_201802_df.coicop_division == products_201802_df.y_pred)]"
   ]
  },
  {
   "cell_type": "code",
   "execution_count": null,
   "id": "forward-mobile",
   "metadata": {},
   "outputs": [],
   "source": [
    "products_201802_df[(products_201802_df.new_text == True) & (products_201802_df.coicop_division != products_201802_df.y_pred)]"
   ]
  },
  {
   "cell_type": "code",
   "execution_count": null,
   "id": "architectural-chrome",
   "metadata": {},
   "outputs": [],
   "source": [
    "len(products_201802_df[(products_201802_df.new_text == True) & (products_201802_df.coicop_division != products_201802_df.y_pred)])"
   ]
  },
  {
   "cell_type": "code",
   "execution_count": null,
   "id": "novel-pilot",
   "metadata": {},
   "outputs": [],
   "source": [
    "283 / (283+26)"
   ]
  },
  {
   "cell_type": "code",
   "execution_count": null,
   "id": "premier-relative",
   "metadata": {},
   "outputs": [],
   "source": [
    "products_201802_df[(products_201802_df.new_text == False) & (products_201802_df.coicop_division == products_201802_df.y_pred)]"
   ]
  },
  {
   "cell_type": "code",
   "execution_count": null,
   "id": "acceptable-lancaster",
   "metadata": {},
   "outputs": [],
   "source": [
    "products_201802_df[(products_201802_df.new_text == False) & (products_201802_df.coicop_division != products_201802_df.y_pred)]"
   ]
  }
 ],
 "metadata": {
  "kernelspec": {
   "display_name": "ssi",
   "language": "python",
   "name": "ssi"
  },
  "language_info": {
   "codemirror_mode": {
    "name": "ipython",
    "version": 3
   },
   "file_extension": ".py",
   "mimetype": "text/x-python",
   "name": "python",
   "nbconvert_exporter": "python",
   "pygments_lexer": "ipython3",
   "version": "3.11.5"
  }
 },
 "nbformat": 4,
 "nbformat_minor": 5
}
