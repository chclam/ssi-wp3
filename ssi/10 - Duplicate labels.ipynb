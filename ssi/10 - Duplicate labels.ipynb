{
 "cells": [
  {
   "cell_type": "code",
   "execution_count": null,
   "id": "stock-target",
   "metadata": {},
   "outputs": [],
   "source": [
    "import pandas as pd\n",
    "from dotenv import load_dotenv\n",
    "from pathlib import Path\n",
    "import os\n",
    "\n",
    "# load environment variables from .env file for project\n",
    "dotenv_path = Path('../.env')\n",
    "load_dotenv(dotenv_path=dotenv_path)\n",
    "\n",
    "data_directory = os.getenv(\"OUTPUT_DIRECTORY\")\n",
    "feature_directory = os.path.join(data_directory, \"features\")"
   ]
  },
  {
   "cell_type": "code",
   "execution_count": null,
   "id": "prospective-thomson",
   "metadata": {},
   "outputs": [],
   "source": [
    "lidl_df = pd.read_parquet(os.path.join(data_directory, \"ssi_lidl_revenue.parquet\"), engine=\"pyarrow\")\n",
    "lidl_df.rename(columns={\"bg_number\": \"supermarket_id\", \"ean_name\": \"receipt_text\"}, inplace=True)\n",
    "lidl_df.receipt_text = lidl_df.receipt_text.str.replace('[^0-9a-zA-Z.,-/ ]', '', regex=True).str.lstrip().str.rstrip().str.lower()\n",
    "lidl_df.head()"
   ]
  },
  {
   "cell_type": "markdown",
   "id": "careful-sponsorship",
   "metadata": {},
   "source": [
    "## Unique products "
   ]
  },
  {
   "cell_type": "code",
   "execution_count": null,
   "id": "recorded-shopper",
   "metadata": {},
   "outputs": [],
   "source": [
    "unique_products = lidl_df[[\"receipt_text\", \"ean_number\"]].nunique()\n",
    "unique_products.to_latex(\"../Notebooks/tables/lidl_unique_products_total.tex\")\n",
    "unique_products"
   ]
  },
  {
   "cell_type": "code",
   "execution_count": null,
   "id": "certain-holly",
   "metadata": {},
   "outputs": [],
   "source": [
    "unique_products_per_month = lidl_df.groupby(by=[\"year_month\"])[[\"receipt_text\", \"ean_number\"]].nunique()\n",
    "unique_products_per_month.to_latex(\"../Notebooks/tables/lidl_unique_product_per_month.tex\")\n",
    "unique_products_per_month"
   ]
  },
  {
   "cell_type": "code",
   "execution_count": null,
   "id": "abandoned-hands",
   "metadata": {},
   "outputs": [],
   "source": [
    "unique_products_per_month.plot.bar(figsize=(15,10)).figure.savefig(\"../Notebooks/plots/lidl_unique_products_per_month.png\")"
   ]
  },
  {
   "cell_type": "code",
   "execution_count": null,
   "id": "disciplinary-cookie",
   "metadata": {},
   "outputs": [],
   "source": [
    "unique_products_per_coicop = lidl_df.groupby(by=[\"coicop_level_1\"])[[\"receipt_text\", \"ean_number\"]].nunique()\n",
    "unique_products_per_coicop.to_latex(\"../Notebooks/tables/lidl_unique_products_coicop_level_1.tex\")\n",
    "unique_products_per_coicop"
   ]
  },
  {
   "cell_type": "code",
   "execution_count": null,
   "id": "organizational-georgia",
   "metadata": {},
   "outputs": [],
   "source": [
    "unique_products_per_coicop.plot.bar().figure.savefig(\"../Notebooks/plots/lidl_unique_products_per_coicop.png\")"
   ]
  },
  {
   "cell_type": "code",
   "execution_count": null,
   "id": "protected-mills",
   "metadata": {},
   "outputs": [],
   "source": [
    "texts_per_ean.receipt_text.value_counts().sort_index()"
   ]
  },
  {
   "cell_type": "code",
   "execution_count": null,
   "id": "together-level",
   "metadata": {},
   "outputs": [],
   "source": [
    "texts_per_ean = lidl_df.groupby(by=\"ean_number\")[\"receipt_text\"].nunique()\n",
    "texts_per_ean = texts_per_ean.reset_index()\n",
    "receipt_text_counts = texts_per_ean.receipt_text.value_counts()\n",
    "receipt_text_counts = receipt_text_counts.sort_index()\n",
    "receipt_text_counts = np.log(receipt_text_counts)\n",
    "receipt_text_counts"
   ]
  },
  {
   "cell_type": "code",
   "execution_count": null,
   "id": "widespread-employer",
   "metadata": {},
   "outputs": [],
   "source": [
    "import numpy as np\n",
    "\n",
    "texts_per_ean = lidl_df.groupby(by=\"ean_number\")[\"receipt_text\"].nunique()\n",
    "texts_per_ean = texts_per_ean.reset_index()\n",
    "receipt_text_counts = texts_per_ean.receipt_text.value_counts()\n",
    "receipt_text_counts = receipt_text_counts.sort_index()\n",
    "receipt_text_counts = np.log(receipt_text_counts)\n",
    "\n",
    "receipt_text_counts.plot.bar(y=\"receipt_text\", rot=90, figsize=(10,10), xlabel=\"Number of receipt texts per EAN\", ylabel=\"Log(count)\").figure.savefig(\"../Notebooks/plots/lidl_hist_receipt_texts_per_ean.png\")\n"
   ]
  },
  {
   "cell_type": "markdown",
   "id": "premium-resistance",
   "metadata": {},
   "source": [
    "## New/removed Products per Month"
   ]
  },
  {
   "cell_type": "code",
   "execution_count": null,
   "id": "handled-retro",
   "metadata": {},
   "outputs": [],
   "source": [
    "from text_analysis import compare_receipt_texts_per_period\n",
    "\n",
    "lidl_new_products_df = compare_receipt_texts_per_period(lidl_df, \"year_month\", \"receipt_text\")\n",
    "lidl_new_products_df.head()"
   ]
  },
  {
   "cell_type": "code",
   "execution_count": null,
   "id": "multiple-leader",
   "metadata": {},
   "outputs": [],
   "source": [
    "lidl_new_products_df.columns"
   ]
  },
  {
   "cell_type": "code",
   "execution_count": null,
   "id": "current-greek",
   "metadata": {},
   "outputs": [],
   "source": [
    "from text_analysis import series_to_set\n",
    "\n",
    "grouped_texts_per_month = lidl_new_products_df.groupby(by=\"year_month\")[\"receipt_text\"].apply(series_to_set)\n",
    "grouped_texts_per_month = grouped_texts_per_month.reset_index()\n",
    "grouped_texts_per_month "
   ]
  },
  {
   "cell_type": "code",
   "execution_count": null,
   "id": "wooden-confidence",
   "metadata": {},
   "outputs": [],
   "source": [
    "grouped_eans_per_month = lidl_new_products_df.groupby(by=\"year_month\")[\"ean_number\"].apply(series_to_set)\n",
    "grouped_eans_per_month = grouped_eans_per_month.reset_index()\n",
    "grouped_eans_per_month"
   ]
  },
  {
   "cell_type": "code",
   "execution_count": null,
   "id": "broadband-tracy",
   "metadata": {},
   "outputs": [],
   "source": [
    "grouped_texts_eans_per_month = grouped_texts_per_month.merge(grouped_eans_per_month, on=\"year_month\")\n",
    "grouped_texts_eans_per_month"
   ]
  },
  {
   "cell_type": "code",
   "execution_count": null,
   "id": "actual-banks",
   "metadata": {},
   "outputs": [],
   "source": [
    "grouped_texts_eans_per_month = grouped_texts_eans_per_month.set_index(\"year_month\")\n",
    "grouped_texts_eans_per_month"
   ]
  },
  {
   "cell_type": "code",
   "execution_count": null,
   "id": "marked-costs",
   "metadata": {},
   "outputs": [],
   "source": [
    "grouped_texts_eans_per_month[\"receipt_text_lagged\"] = grouped_texts_eans_per_month[\"receipt_text\"].shift(1)\n",
    "grouped_texts_eans_per_month[\"ean_number_lagged\"] = grouped_texts_eans_per_month[\"ean_number\"].shift(1)\n",
    "grouped_texts_eans_per_month"
   ]
  },
  {
   "cell_type": "code",
   "execution_count": null,
   "id": "frozen-happening",
   "metadata": {},
   "outputs": [],
   "source": [
    "from typing import Optional\n",
    "\n",
    "def intersection(left_column: Optional[set], right_column: Optional[set]) -> Optional[set]:\n",
    "    if not left_column or not right_column:\n",
    "        return None    \n",
    "    return left_column.intersection(right_column)\n",
    "\n",
    "def introduced_products(left_column: Optional[set], right_column: Optional[set]) -> Optional[set]:\n",
    "    if not left_column or not right_column:\n",
    "        return None    \n",
    "    return left_column.difference(right_column)\n",
    "\n",
    "def removed_products(left_column: Optional[set], right_column: Optional[set]) -> Optional[set]:\n",
    "    if not left_column or not right_column:\n",
    "        return None    \n",
    "    return right_column.difference(left_column)\n",
    "\n",
    "def number_of_products(column: Optional[set]) -> int:\n",
    "    if not column:\n",
    "        return 0\n",
    "    return len(column)\n",
    "\n",
    "grouped_texts_eans_per_month[\"receipt_text_intersection\"] = grouped_texts_eans_per_month.apply(lambda row: intersection(row[\"receipt_text\"], row[\"receipt_text_lagged\"]), axis=1)\n",
    "grouped_texts_eans_per_month[\"receipt_text_introduced\"] = grouped_texts_eans_per_month.apply(lambda row: introduced_products(row[\"receipt_text\"], row[\"receipt_text_lagged\"]), axis=1)\n",
    "grouped_texts_eans_per_month[\"number_receipt_text_introduced\"] = grouped_texts_eans_per_month[\"receipt_text_introduced\"].apply(number_of_products)\n",
    "grouped_texts_eans_per_month[\"receipt_text_removed\"] = grouped_texts_eans_per_month.apply(lambda row: removed_products(row[\"receipt_text\"], row[\"receipt_text_lagged\"]), axis=1)\n",
    "grouped_texts_eans_per_month[\"number_receipt_text_removed\"] = grouped_texts_eans_per_month[\"receipt_text_removed\"].apply(number_of_products)\n",
    "\n",
    "grouped_texts_eans_per_month[\"ean_intersection\"] = grouped_texts_eans_per_month.apply(lambda row: intersection(row[\"ean_number\"], row[\"ean_number_lagged\"]), axis=1)\n",
    "grouped_texts_eans_per_month[\"ean_introduced\"] = grouped_texts_eans_per_month.apply(lambda row: introduced_products(row[\"ean_number\"], row[\"ean_number_lagged\"]), axis=1)\n",
    "grouped_texts_eans_per_month[\"number_ean_introduced\"] = grouped_texts_eans_per_month[\"ean_introduced\"].apply(number_of_products)\n",
    "grouped_texts_eans_per_month[\"ean_removed\"] = grouped_texts_eans_per_month.apply(lambda row: removed_products(row[\"ean_number\"], row[\"ean_number_lagged\"]), axis=1)\n",
    "grouped_texts_eans_per_month[\"number_ean_removed\"] = grouped_texts_eans_per_month[\"ean_removed\"].apply(number_of_products)\n",
    "\n",
    "grouped_texts_eans_per_month"
   ]
  },
  {
   "cell_type": "code",
   "execution_count": null,
   "id": "romance-negotiation",
   "metadata": {},
   "outputs": [],
   "source": [
    "lidl_2022_02_03 = grouped_texts_eans_per_month[(grouped_texts_eans_per_month.index  == \"202202\") | (grouped_texts_eans_per_month.index  == \"202203\")]\n",
    "lidl_2022_02_03"
   ]
  },
  {
   "cell_type": "code",
   "execution_count": null,
   "id": "funded-catch",
   "metadata": {},
   "outputs": [],
   "source": [
    "len(lidl_2022_02_03.iloc[0].receipt_text_introduced), len(lidl_2022_02_03.iloc[1].receipt_text_removed)"
   ]
  },
  {
   "cell_type": "code",
   "execution_count": null,
   "id": "planned-investment",
   "metadata": {},
   "outputs": [],
   "source": [
    "receipt_text_different_02 = lidl_2022_02_03.iloc[0].receipt_text_introduced - lidl_2022_02_03.iloc[1].receipt_text_removed\n",
    "receipt_text_different_02"
   ]
  },
  {
   "cell_type": "code",
   "execution_count": null,
   "id": "funded-cause",
   "metadata": {},
   "outputs": [],
   "source": [
    "lidl_2022_02_03.iloc[0].receipt_text.intersection(receipt_text_different_02)"
   ]
  },
  {
   "cell_type": "code",
   "execution_count": null,
   "id": "radical-reverse",
   "metadata": {},
   "outputs": [],
   "source": [
    "eans_different_02 = set(lidl_df[lidl_df.receipt_text.isin(receipt_text_different_02)].ean_number)\n",
    "eans_different_02 = set([int(float(ean)) for ean in eans_different_02])\n",
    "eans_different_02"
   ]
  },
  {
   "cell_type": "code",
   "execution_count": null,
   "id": "different-documentation",
   "metadata": {},
   "outputs": [],
   "source": [
    "len(lidl_2022_02_03.iloc[0].receipt_text_introduced - lidl_2022_02_03.iloc[1].receipt_text_removed)"
   ]
  },
  {
   "cell_type": "code",
   "execution_count": null,
   "id": "impressive-financing",
   "metadata": {},
   "outputs": [],
   "source": [
    "receipt_text_different_03 = lidl_2022_02_03.iloc[1].receipt_text_removed - lidl_2022_02_03.iloc[0].receipt_text_introduced\n",
    "receipt_text_different_03"
   ]
  },
  {
   "cell_type": "code",
   "execution_count": null,
   "id": "mature-pension",
   "metadata": {},
   "outputs": [],
   "source": [
    "lidl_2022_02_03.iloc[1].receipt_text.intersection(receipt_text_different_03)"
   ]
  },
  {
   "cell_type": "code",
   "execution_count": null,
   "id": "hearing-interpretation",
   "metadata": {},
   "outputs": [],
   "source": [
    "eans_different_03 = set(lidl_df[lidl_df.receipt_text.isin(receipt_text_different_03)].ean_number)\n",
    "eans_different_03 = set([int(float(ean)) for ean in eans_different_03])\n",
    "eans_different_03"
   ]
  },
  {
   "cell_type": "code",
   "execution_count": null,
   "id": "greater-language",
   "metadata": {},
   "outputs": [],
   "source": [
    "len(eans_different_03 - eans_different_02)"
   ]
  },
  {
   "cell_type": "code",
   "execution_count": null,
   "id": "corporate-stationery",
   "metadata": {},
   "outputs": [],
   "source": [
    "len(lidl_2022_02_03.iloc[1].receipt_text_removed - lidl_2022_02_03.iloc[0].receipt_text_introduced)"
   ]
  },
  {
   "cell_type": "code",
   "execution_count": null,
   "id": "colonial-karen",
   "metadata": {},
   "outputs": [],
   "source": [
    "len(lidl_2022_02_03.iloc[0].receipt_text_introduced.intersection(lidl_2022_02_03.iloc[1].receipt_text_removed))"
   ]
  },
  {
   "cell_type": "code",
   "execution_count": null,
   "id": "alleged-illustration",
   "metadata": {},
   "outputs": [],
   "source": [
    "same_texts_03 = lidl_2022_02_03.iloc[0].receipt_text_introduced.intersection(lidl_2022_02_03.iloc[1].receipt_text_removed)\n",
    "sorted(same_texts)[2500:2550]"
   ]
  },
  {
   "cell_type": "code",
   "execution_count": null,
   "id": "crude-acoustic",
   "metadata": {},
   "outputs": [],
   "source": [
    "same_texts_02 = lidl_2022_02_03.iloc[1].receipt_text_removed.intersection(lidl_2022_02_03.iloc[0].receipt_text_introduced)\n",
    "same_texts_02"
   ]
  },
  {
   "cell_type": "code",
   "execution_count": null,
   "id": "bronze-finnish",
   "metadata": {
    "tags": []
   },
   "outputs": [],
   "source": [
    "os.getcwd()"
   ]
  },
  {
   "cell_type": "code",
   "execution_count": null,
   "id": "trained-somewhere",
   "metadata": {},
   "outputs": [],
   "source": [
    "grouped_texts_eans_per_month[[\"number_receipt_text_introduced\", \"number_ean_introduced\"]].to_latex(\"../Notebooks/tables/lidl_unique_receipt_texts_eans_introducted_per_month.tex\")\n",
    "grouped_texts_eans_per_month[[\"number_receipt_text_removed\", \"number_ean_removed\"]].to_latex(\"../Notebooks/tables/lidl_unique_receipt_texts_eans_removed_per_month.tex\")"
   ]
  },
  {
   "cell_type": "code",
   "execution_count": null,
   "id": "timely-anderson",
   "metadata": {},
   "outputs": [],
   "source": [
    "grouped_texts_eans_per_month[[\"number_receipt_text_introduced\", \"number_ean_introduced\"]].plot(title=\"Number of unique texts/ean introduced per month\").figure.savefig(os.path.join(\"../Notebooks/plots\", \"lidl_unique_receipt_texts_eans_introducted_per_month.png\"))"
   ]
  },
  {
   "cell_type": "code",
   "execution_count": null,
   "id": "pending-guarantee",
   "metadata": {},
   "outputs": [],
   "source": [
    "grouped_texts_eans_per_month[[\"number_receipt_text_removed\", \"number_ean_removed\"]].plot(title=\"Number of unique texts/ean removed per month\").figure.savefig(os.path.join(\"../Notebooks/plots\", \"lidl_unique_receipt_texts_eans_removed_per_month.png\"))"
   ]
  },
  {
   "cell_type": "code",
   "execution_count": null,
   "id": "apparent-mandate",
   "metadata": {},
   "outputs": [],
   "source": [
    "\n",
    "grouped_texts_per_month_coicop = lidl_new_products_df.groupby(by=[\"year_month\", \"coicop_level_1\"])[\"receipt_text\"].apply(series_to_set)\n",
    "grouped_texts_per_month_coicop = grouped_texts_per_month_coicop.reset_index()\n",
    "grouped_eans_per_month_coicop = lidl_new_products_df.groupby(by=[\"year_month\", \"coicop_level_1\"])[\"ean_number\"].apply(series_to_set)\n",
    "grouped_eans_per_month_coicop = grouped_eans_per_month_coicop.reset_index()\n",
    "\n",
    "grouped_texts_eans_per_month_coicop = grouped_texts_per_month_coicop.merge(grouped_eans_per_month_coicop, on=[\"year_month\", \"coicop_level_1\"])\n",
    "grouped_texts_eans_per_month_coicop[\"receipt_text_lagged\"] = grouped_texts_eans_per_month_coicop[\"receipt_text\"].shift(1)\n",
    "grouped_texts_eans_per_month_coicop[\"ean_number_lagged\"] = grouped_texts_eans_per_month_coicop[\"ean_number\"].shift(1)\n",
    "\n",
    "grouped_texts_eans_per_month_coicop[\"receipt_text_intersection\"] = grouped_texts_eans_per_month_coicop.apply(lambda row: intersection(row[\"receipt_text\"], row[\"receipt_text_lagged\"]), axis=1)\n",
    "grouped_texts_eans_per_month_coicop[\"receipt_text_introduced\"] = grouped_texts_eans_per_month_coicop.apply(lambda row: introduced_products(row[\"receipt_text\"], row[\"receipt_text_lagged\"]), axis=1)\n",
    "grouped_texts_eans_per_month_coicop[\"number_receipt_text_introduced\"] = grouped_texts_eans_per_month_coicop[\"receipt_text_introduced\"].apply(number_of_products)\n",
    "grouped_texts_eans_per_month_coicop[\"receipt_text_removed\"] = grouped_texts_eans_per_month_coicop.apply(lambda row: removed_products(row[\"receipt_text\"], row[\"receipt_text_lagged\"]), axis=1)\n",
    "grouped_texts_eans_per_month_coicop[\"number_receipt_text_removed\"] = grouped_texts_eans_per_month_coicop[\"receipt_text_removed\"].apply(number_of_products)\n",
    "\n",
    "grouped_texts_eans_per_month_coicop[\"ean_intersection\"] = grouped_texts_eans_per_month_coicop.apply(lambda row: intersection(row[\"ean_number\"], row[\"ean_number_lagged\"]), axis=1)\n",
    "grouped_texts_eans_per_month_coicop[\"ean_introduced\"] = grouped_texts_eans_per_month_coicop.apply(lambda row: introduced_products(row[\"ean_number\"], row[\"ean_number_lagged\"]), axis=1)\n",
    "grouped_texts_eans_per_month_coicop[\"number_ean_introduced\"] = grouped_texts_eans_per_month_coicop[\"ean_introduced\"].apply(number_of_products)\n",
    "grouped_texts_eans_per_month_coicop[\"ean_removed\"] = grouped_texts_eans_per_month_coicop.apply(lambda row: removed_products(row[\"ean_number\"], row[\"ean_number_lagged\"]), axis=1)\n",
    "grouped_texts_eans_per_month_coicop[\"number_ean_removed\"] = grouped_texts_eans_per_month_coicop[\"ean_removed\"].apply(number_of_products)\n",
    "\n",
    "\n",
    "grouped_texts_eans_per_month_coicop "
   ]
  },
  {
   "cell_type": "code",
   "execution_count": null,
   "id": "impaired-compression",
   "metadata": {},
   "outputs": [],
   "source": [
    "for coicop_level in grouped_texts_eans_per_month_coicop.coicop_level_1.unique():\n",
    "    grouped_texts_eans_per_month_coicop_level = grouped_texts_eans_per_month_coicop[grouped_texts_eans_per_month_coicop.coicop_level_1 == coicop_level]\n",
    "    grouped_texts_eans_per_month_coicop_level[[\"year_month\",\"number_receipt_text_introduced\", \"number_ean_introduced\"]].plot(x=\"year_month\", title=f\"Number of introduced texts/eans per month for coicop {coicop_level}\").figure.savefig(os.path.join(\"../Notebooks/plots\", f\"lidl_introduced_receipt_texts_eans_per_month_coicop_{coicop_level}.png\"))"
   ]
  },
  {
   "cell_type": "code",
   "execution_count": null,
   "id": "formal-artwork",
   "metadata": {},
   "outputs": [],
   "source": [
    "for coicop_level in grouped_texts_eans_per_month_coicop.coicop_level_1.unique():\n",
    "    grouped_texts_eans_per_month_coicop_level = grouped_texts_eans_per_month_coicop[grouped_texts_eans_per_month_coicop.coicop_level_1 == coicop_level]\n",
    "    grouped_texts_eans_per_month_coicop_level[[\"year_month\",\"number_receipt_text_removed\", \"number_ean_removed\"]].plot(x=\"year_month\", title=f\"Number of removed texts/eans per month for coicop {coicop_level}\").figure.savefig(os.path.join(\"../Notebooks/plots\", f\"lidl_removed_receipt_texts_eans_per_month_coicop_{coicop_level}.png\"))"
   ]
  },
  {
   "cell_type": "markdown",
   "id": "wrong-emerald",
   "metadata": {},
   "source": [
    "# Product Availability"
   ]
  },
  {
   "cell_type": "code",
   "execution_count": null,
   "id": "practical-hometown",
   "metadata": {},
   "outputs": [],
   "source": [
    "unique_receipt_texts = lidl_df.receipt_text.unique()\n",
    "unique_receipt_texts"
   ]
  },
  {
   "cell_type": "code",
   "execution_count": null,
   "id": "surface-joshua",
   "metadata": {},
   "outputs": [],
   "source": [
    "len(unique_receipt_texts)"
   ]
  },
  {
   "cell_type": "code",
   "execution_count": null,
   "id": "complicated-warrant",
   "metadata": {},
   "outputs": [],
   "source": [
    "unique_periods = lidl_df[\"year_month\"].unique()\n",
    "unique_periods"
   ]
  },
  {
   "cell_type": "code",
   "execution_count": null,
   "id": "cooked-farmer",
   "metadata": {},
   "outputs": [],
   "source": [
    "from typing import List\n",
    "\n",
    "def availability_in_period(dataframe: pd.DataFrame, unique_receipt_texts: List[str], period: str) -> List[bool]:\n",
    "    period_texts = dataframe.loc[period][\"receipt_text\"]\n",
    "    return [receipt_text in period_texts for receipt_text in unique_receipt_texts]\n",
    "\n",
    "    \n",
    "unique_receipt_texts = lidl_df.receipt_text.unique()\n",
    "unique_periods = lidl_df[\"year_month\"].unique()    \n",
    "\n",
    "availability_per_period = {year_month: availability_in_period(grouped_texts_eans_per_month, unique_receipt_texts, year_month) for year_month in unique_periods}\n",
    "availability_per_period[\"receipt_texts\"] = unique_receipt_texts\n",
    "\n",
    "product_availability_df = pd.DataFrame(availability_per_period)\n",
    "product_availability_df = product_availability_df[[\"receipt_texts\"] + unique_periods.tolist()]\n",
    "product_availability_df.head()"
   ]
  },
  {
   "cell_type": "code",
   "execution_count": null,
   "id": "capable-saying",
   "metadata": {},
   "outputs": [],
   "source": [
    "product_availability_sorted_df = product_availability_df.sort_values(by=product_availability_df.columns[1:].tolist())\n",
    "product_availability_sorted_df"
   ]
  },
  {
   "cell_type": "code",
   "execution_count": null,
   "id": "important-lucas",
   "metadata": {},
   "outputs": [],
   "source": [
    "month_columns = [column for column in product_availability_sorted_df.columns if column not in [\"receipt_texts\", \"number_of_months_available\"]]\n",
    "month_columns"
   ]
  },
  {
   "cell_type": "code",
   "execution_count": null,
   "id": "popular-humanity",
   "metadata": {},
   "outputs": [],
   "source": [
    "total_number_of_months = len(month_columns)\n",
    "total_number_of_months"
   ]
  },
  {
   "cell_type": "code",
   "execution_count": null,
   "id": "adapted-medicine",
   "metadata": {},
   "outputs": [],
   "source": [
    "product_availability_sorted_df[\"number_of_months_available\"] = product_availability_sorted_df[month_columns].sum(axis=1)\n",
    "product_availability_sorted_df"
   ]
  },
  {
   "cell_type": "code",
   "execution_count": null,
   "id": "reserved-champagne",
   "metadata": {},
   "outputs": [],
   "source": [
    "product_availability_sorted_df.plot.hist(column=\"number_of_months_available\", bins=total_number_of_months).figure.savefig(\"../Notebooks/plots/lidl_product_lifetime_histogram.png\")"
   ]
  },
  {
   "cell_type": "code",
   "execution_count": null,
   "id": "emotional-baltimore",
   "metadata": {},
   "outputs": [],
   "source": [
    "same_period_as_plus = [column for column in product_availability_sorted_df.columns if \"20\" in column and column not in [f\"20210{month}\" for month in range(7)] and int(column[:4]) >= 2021 ] + [\"number_of_months_available\"]\n",
    "same_period_as_plus"
   ]
  },
  {
   "cell_type": "code",
   "execution_count": null,
   "id": "looking-generation",
   "metadata": {},
   "outputs": [],
   "source": [
    "import matplotlib.pyplot as plt\n",
    "\n",
    "fig, ax = plt.subplots(figsize=(10,10))\n",
    "\n",
    "lidl_product_available_plus_period = product_availability_sorted_df[same_period_as_plus].copy()\n",
    "lidl_product_available_plus_period[\"number_of_months_available_plus\"] = lidl_product_available_plus_period[same_period_as_plus[:-1]].sum(axis=1)\n",
    "lidl_product_available_plus_period = lidl_product_available_plus_period[lidl_product_available_plus_period[\"number_of_months_available_plus\"] > 0]\n",
    "\n",
    "min_month, max_month = lidl_product_available_plus_period[\"number_of_months_available_plus\"].min(), lidl_product_available_plus_period[\"number_of_months_available_plus\"].max()\n",
    "lidl_product_available_plus_period.plot.hist(column=\"number_of_months_available_plus\", bins=len(same_period_as_plus[:-1]), ax=ax, range=(min_month,max_month)).figure.savefig(\"../Notebooks/plots/lidl_product_lifetime_histogram_plus_period.png\")"
   ]
  },
  {
   "cell_type": "code",
   "execution_count": null,
   "id": "portable-footage",
   "metadata": {},
   "outputs": [],
   "source": [
    "lidl_product_available_plus_period[lidl_product_available_plus_period[\"number_of_months_available_plus\"] > 0][\"number_of_months_available_plus\"] .min()"
   ]
  },
  {
   "cell_type": "code",
   "execution_count": null,
   "id": "explicit-visitor",
   "metadata": {},
   "outputs": [],
   "source": [
    "import matplotlib.pyplot as plt\n",
    "from matplotlib import colors\n",
    "import seaborn as sns\n",
    "\n",
    "fig, ax = plt.subplots(figsize=(20,20))\n",
    "sns.heatmap(product_availability_sorted_df[product_availability_sorted_df.columns[:-1]].set_index(\"receipt_texts\"), cmap=\"tab20\", ax=ax)\n",
    "plt.savefig(\"../Notebooks/plots/lidl_products_over_time.png\")"
   ]
  },
  {
   "cell_type": "code",
   "execution_count": null,
   "id": "essential-valuable",
   "metadata": {},
   "outputs": [],
   "source": [
    "import matplotlib.pyplot as plt\n",
    "from matplotlib import colors\n",
    "import seaborn as sns\n",
    "\n",
    "years = [year_month_columns[:4] for year_month_columns in product_availability_sorted_df.columns[1:]]\n",
    "\n",
    "for year in years:\n",
    "    fig, ax = plt.subplots(figsize=(20,20))\n",
    "    \n",
    "    year_columns = [\"receipt_texts\"] + [year_column for year_column in  product_availability_sorted_df.columns[1:] if year_column.startswith(year)]\n",
    "    sns.heatmap(product_availability_sorted_df[year_columns].set_index(\"receipt_texts\"), cmap=\"tab20\", ax=ax)\n",
    "    plt.savefig(f\"../Notebooks/plots/lidl_products_over_time_{year}.png\")"
   ]
  },
  {
   "cell_type": "code",
   "execution_count": null,
   "id": "functional-idaho",
   "metadata": {},
   "outputs": [],
   "source": [
    "new_products_202202 = product_availability_sorted_df[[\"receipt_texts\", \"202202\"]][product_availability_sorted_df[\"202202\"] == True]\n",
    "new_products_202202"
   ]
  },
  {
   "cell_type": "code",
   "execution_count": null,
   "id": "improved-seeking",
   "metadata": {},
   "outputs": [],
   "source": [
    "from wordcloud import WordCloud\n",
    "\n",
    "w = WordCloud().generate(\" \".join([word for word in new_products_202202.receipt_texts]))\n",
    "plt.imshow(w, interpolation='bilinear')\n",
    "plt.axis(\"off\")\n",
    "plt.show()"
   ]
  },
  {
   "cell_type": "code",
   "execution_count": null,
   "id": "juvenile-holly",
   "metadata": {},
   "outputs": [],
   "source": [
    "import spacy\n",
    "\n",
    "nlp = spacy.load(\"nl_core_news_md\")"
   ]
  },
  {
   "cell_type": "code",
   "execution_count": null,
   "id": "collectible-opera",
   "metadata": {},
   "outputs": [],
   "source": [
    "lidl_new_products_df[\"features\"] = [doc.vector for doc in nlp.pipe(lidl_new_products_df[\"receipt_text\"], disable=[\"tagger\", \"parser\", \"ner\"])]"
   ]
  },
  {
   "cell_type": "code",
   "execution_count": null,
   "id": "psychological-florist",
   "metadata": {},
   "outputs": [],
   "source": [
    "month = \"201801\"\n",
    "period_df = lidl_new_products_df[lidl_new_products_df.month == month]\n",
    "period_df.head()"
   ]
  },
  {
   "cell_type": "code",
   "execution_count": null,
   "id": "presidential-letter",
   "metadata": {},
   "outputs": [],
   "source": [
    "from sklearn.linear_model import LogisticRegression\n",
    "\n",
    "lr = LogisticRegression()\n",
    "lr.fit(period_df.features.values.tolist(), period_df.coicop_division.values.tolist())"
   ]
  },
  {
   "cell_type": "code",
   "execution_count": null,
   "id": "young-extra",
   "metadata": {},
   "outputs": [],
   "source": [
    "lidl_new_products_df.rename(columns={\"month\": \"year_month\"}, inplace=True)\n",
    "lidl_new_products_df[\"year\"] = lidl_new_products_df.year_month.str[:4].astype(int)\n",
    "lidl_new_products_df[\"month\"] = lidl_new_products_df.year_month.str[4:].astype(int)\n",
    "lidl_new_products_df.head()"
   ]
  },
  {
   "cell_type": "code",
   "execution_count": null,
   "id": "detailed-clock",
   "metadata": {},
   "outputs": [],
   "source": [
    "from sklearn.exceptions import ConvergenceWarning\n",
    "import warnings\n",
    "import os\n",
    "\n",
    "\n",
    "os.makedirs(\"lr_eval\", exist_ok=True)\n",
    "\n",
    "with warnings.catch_warnings():\n",
    "    warnings.filterwarnings(\"ignore\", category=ConvergenceWarning)\n",
    "\n",
    "    eval_dfs = []\n",
    "    periods = lidl_new_products_df[\"year_month\"].unique()\n",
    "    for period in periods[:-1]:\n",
    "        year, month = int(period[:4]), int(period[4:])\n",
    "\n",
    "        train_period_df = lidl_new_products_df[(lidl_new_products_df.year == year) & (lidl_new_products_df.month == month)]\n",
    "        train_period_df.to_csv(os.path.join(\"lr_eval\", f\"train_df_{period}.csv\"), index=False, sep=\";\")\n",
    "    \n",
    "    \n",
    "        lr = LogisticRegression()\n",
    "        lr.fit(train_period_df.features.values.tolist(), train_period_df.coicop_division.values.tolist())\n",
    "\n",
    "        eval_period_df = lidl_new_products_df[((lidl_new_products_df.year == year) & (lidl_new_products_df.month > month) | (lidl_new_products_df.year > year))].copy()\n",
    "        eval_period_df[\"y_pred\"] = lr.predict(eval_period_df.features.values.tolist())\n",
    "        eval_period_df.to_csv(os.path.join(\"lr_eval\", f\"eval_df_{period}.csv\"), index=False, sep=\";\")\n",
    "        \n",
    "        eval_dfs.append(eval_period_df)\n",
    "        del eval_period_df\n",
    "        "
   ]
  },
  {
   "cell_type": "code",
   "execution_count": null,
   "id": "suited-night",
   "metadata": {},
   "outputs": [],
   "source": [
    "for eval_df in evals_dfs:\n",
    "    eval_df.head()"
   ]
  },
  {
   "cell_type": "code",
   "execution_count": null,
   "id": "metric-funds",
   "metadata": {},
   "outputs": [],
   "source": [
    "lidl_new_products_df[\"y_pred\"] = lr.predict(lidl_new_products_df.features.values.tolist())\n",
    "lidl_new_products_df.head()"
   ]
  },
  {
   "cell_type": "code",
   "execution_count": null,
   "id": "surface-swimming",
   "metadata": {},
   "outputs": [],
   "source": [
    "from sklearn.metrics import f1_score\n",
    "\n",
    "f1_score(lidl_new_products_df.coicop_division, lidl_new_products_df.y_pred, average=\"macro\")"
   ]
  },
  {
   "cell_type": "code",
   "execution_count": null,
   "id": "criminal-portugal",
   "metadata": {},
   "outputs": [],
   "source": [
    "products_201801_df =  lidl_new_products_df[lidl_new_products_df.month == \"201801\"]\n",
    "f1_score(products_201801_df.coicop_division, products_201801_df.y_pred, average=\"macro\")"
   ]
  },
  {
   "cell_type": "code",
   "execution_count": null,
   "id": "divided-bulletin",
   "metadata": {},
   "outputs": [],
   "source": [
    "products_201802_df =  lidl_new_products_df[lidl_new_products_df.month == \"201802\"]\n",
    "old_products = products_201802_df[products_201802_df.new_text == False]\n",
    "new_products = products_201802_df[products_201802_df.new_text == True]\n",
    "\n",
    "f1_score(old_products.coicop_division, old_products.y_pred, average=\"macro\"), f1_score(new_products.coicop_division, new_products.y_pred, average=\"macro\")"
   ]
  },
  {
   "cell_type": "code",
   "execution_count": null,
   "id": "excited-gather",
   "metadata": {},
   "outputs": [],
   "source": [
    "products_201802_df[(products_201802_df.new_text == True) & (products_201802_df.coicop_division == products_201802_df.y_pred)]"
   ]
  },
  {
   "cell_type": "code",
   "execution_count": null,
   "id": "sixth-stationery",
   "metadata": {},
   "outputs": [],
   "source": [
    "products_201802_df[(products_201802_df.new_text == True) & (products_201802_df.coicop_division != products_201802_df.y_pred)]"
   ]
  },
  {
   "cell_type": "code",
   "execution_count": null,
   "id": "smooth-bikini",
   "metadata": {},
   "outputs": [],
   "source": [
    "len(products_201802_df[(products_201802_df.new_text == True) & (products_201802_df.coicop_division != products_201802_df.y_pred)])"
   ]
  },
  {
   "cell_type": "code",
   "execution_count": null,
   "id": "bigger-future",
   "metadata": {},
   "outputs": [],
   "source": [
    "283 / (283+26)"
   ]
  },
  {
   "cell_type": "code",
   "execution_count": null,
   "id": "dominican-designation",
   "metadata": {},
   "outputs": [],
   "source": [
    "products_201802_df[(products_201802_df.new_text == False) & (products_201802_df.coicop_division == products_201802_df.y_pred)]"
   ]
  },
  {
   "cell_type": "code",
   "execution_count": null,
   "id": "corrected-regulation",
   "metadata": {},
   "outputs": [],
   "source": [
    "products_201802_df[(products_201802_df.new_text == False) & (products_201802_df.coicop_division != products_201802_df.y_pred)]"
   ]
  }
 ],
 "metadata": {
  "kernelspec": {
   "display_name": "ssi",
   "language": "python",
   "name": "ssi"
  },
  "language_info": {
   "codemirror_mode": {
    "name": "ipython",
    "version": 3
   },
   "file_extension": ".py",
   "mimetype": "text/x-python",
   "name": "python",
   "nbconvert_exporter": "python",
   "pygments_lexer": "ipython3",
   "version": "3.11.5"
  }
 },
 "nbformat": 4,
 "nbformat_minor": 5
}
