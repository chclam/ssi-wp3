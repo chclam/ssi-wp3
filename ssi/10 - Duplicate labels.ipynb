{
 "cells": [
  {
   "cell_type": "code",
   "execution_count": null,
   "id": "endangered-chinese",
   "metadata": {},
   "outputs": [],
   "source": [
    "import pandas as pd\n",
    "from dotenv import load_dotenv\n",
    "from pathlib import Path\n",
    "import os\n",
    "\n",
    "# load environment variables from .env file for project\n",
    "dotenv_path = Path('../.env')\n",
    "load_dotenv(dotenv_path=dotenv_path)\n",
    "\n",
    "data_directory = os.getenv(\"OUTPUT_DIRECTORY\")\n",
    "feature_directory = os.path.join(data_directory, \"features\")"
   ]
  },
  {
   "cell_type": "code",
   "execution_count": null,
   "id": "dynamic-berkeley",
   "metadata": {},
   "outputs": [],
   "source": [
    "lidl_df = pd.read_parquet(os.path.join(data_directory, \"ssi_lidl_revenue.parquet\"), engine=\"pyarrow\")\n",
    "lidl_df.rename(columns={\"bg_number\": \"supermarket_id\", \"ean_name\": \"receipt_text\"}, inplace=True)\n",
    "lidl_df.receipt_text = lidl_df.receipt_text.str.replace('[^0-9a-zA-Z.,-/ ]', '', regex=True).str.lstrip().str.rstrip().str.lower()\n",
    "lidl_df.head()"
   ]
  },
  {
   "cell_type": "code",
   "execution_count": null,
   "id": "synthetic-reason",
   "metadata": {},
   "outputs": [],
   "source": [
    "from text_analysis import compare_receipt_texts_per_period\n",
    "\n",
    "lidl_new_products_df = compare_receipt_texts_per_period(lidl_df, \"year_month\", \"receipt_text\")\n",
    "lidl_new_products_df.head()"
   ]
  },
  {
   "cell_type": "code",
   "execution_count": null,
   "id": "warming-contrary",
   "metadata": {},
   "outputs": [],
   "source": [
    "lidl_new_products_df.columns"
   ]
  },
  {
   "cell_type": "code",
   "execution_count": null,
   "id": "atomic-austin",
   "metadata": {},
   "outputs": [],
   "source": [
    "from text_analysis import series_to_set\n",
    "\n",
    "grouped_texts_per_month = lidl_new_products_df.groupby(by=\"year_month\")[\"receipt_text\"].apply(series_to_set)\n",
    "grouped_texts_per_month = grouped_texts_per_month.reset_index()\n",
    "grouped_texts_per_month "
   ]
  },
  {
   "cell_type": "code",
   "execution_count": null,
   "id": "furnished-counter",
   "metadata": {},
   "outputs": [],
   "source": [
    "grouped_eans_per_month = lidl_new_products_df.groupby(by=\"year_month\")[\"ean_number\"].apply(series_to_set)\n",
    "grouped_eans_per_month = grouped_eans_per_month.reset_index()\n",
    "grouped_eans_per_month"
   ]
  },
  {
   "cell_type": "code",
   "execution_count": null,
   "id": "concerned-block",
   "metadata": {},
   "outputs": [],
   "source": [
    "grouped_texts_eans_per_month = grouped_texts_per_month.merge(grouped_eans_per_month, on=\"year_month\")\n",
    "grouped_texts_eans_per_month"
   ]
  },
  {
   "cell_type": "code",
   "execution_count": null,
   "id": "pressed-jefferson",
   "metadata": {},
   "outputs": [],
   "source": [
    "grouped_texts_eans_per_month = grouped_texts_eans_per_month.set_index(\"year_month\")\n",
    "grouped_texts_eans_per_month"
   ]
  },
  {
   "cell_type": "code",
   "execution_count": null,
   "id": "facial-taylor",
   "metadata": {},
   "outputs": [],
   "source": [
    "grouped_texts_eans_per_month[\"receipt_text_lagged\"] = grouped_texts_eans_per_month[\"receipt_text\"].shift(1)\n",
    "grouped_texts_eans_per_month[\"ean_number_lagged\"] = grouped_texts_eans_per_month[\"ean_number\"].shift(1)\n",
    "grouped_texts_eans_per_month"
   ]
  },
  {
   "cell_type": "code",
   "execution_count": null,
   "id": "pretty-constitution",
   "metadata": {},
   "outputs": [],
   "source": [
    "from typing import Optional\n",
    "\n",
    "def intersection(left_column: Optional[set], right_column: Optional[set]) -> Optional[set]:\n",
    "    if not left_column or not right_column:\n",
    "        return None    \n",
    "    return left_column.intersection(right_column)\n",
    "\n",
    "def introduced_products(left_column: Optional[set], right_column: Optional[set]) -> Optional[set]:\n",
    "    if not left_column or not right_column:\n",
    "        return None    \n",
    "    return left_column.difference(right_column)\n",
    "\n",
    "def removed_products(left_column: Optional[set], right_column: Optional[set]) -> Optional[set]:\n",
    "    if not left_column or not right_column:\n",
    "        return None    \n",
    "    return right_column.difference(left_column)\n",
    "\n",
    "def number_of_products(column: Optional[set]) -> int:\n",
    "    if not column:\n",
    "        return 0\n",
    "    return len(column)\n",
    "\n",
    "grouped_texts_eans_per_month[\"receipt_text_intersection\"] = grouped_texts_eans_per_month.apply(lambda row: intersection(row[\"receipt_text\"], row[\"receipt_text_lagged\"]), axis=1)\n",
    "grouped_texts_eans_per_month[\"receipt_text_introduced\"] = grouped_texts_eans_per_month.apply(lambda row: introduced_products(row[\"receipt_text\"], row[\"receipt_text_lagged\"]), axis=1)\n",
    "grouped_texts_eans_per_month[\"number_receipt_text_introduced\"] = grouped_texts_eans_per_month[\"receipt_text_introduced\"].apply(number_of_products)\n",
    "grouped_texts_eans_per_month[\"receipt_text_removed\"] = grouped_texts_eans_per_month.apply(lambda row: removed_products(row[\"receipt_text\"], row[\"receipt_text_lagged\"]), axis=1)\n",
    "grouped_texts_eans_per_month[\"number_receipt_text_removed\"] = grouped_texts_eans_per_month[\"receipt_text_removed\"].apply(number_of_products)\n",
    "\n",
    "grouped_texts_eans_per_month[\"ean_intersection\"] = grouped_texts_eans_per_month.apply(lambda row: intersection(row[\"ean_number\"], row[\"ean_number_lagged\"]), axis=1)\n",
    "grouped_texts_eans_per_month[\"ean_introduced\"] = grouped_texts_eans_per_month.apply(lambda row: introduced_products(row[\"ean_number\"], row[\"ean_number_lagged\"]), axis=1)\n",
    "grouped_texts_eans_per_month[\"number_ean_introduced\"] = grouped_texts_eans_per_month[\"ean_introduced\"].apply(number_of_products)\n",
    "grouped_texts_eans_per_month[\"ean_removed\"] = grouped_texts_eans_per_month.apply(lambda row: removed_products(row[\"ean_number\"], row[\"ean_number_lagged\"]), axis=1)\n",
    "grouped_texts_eans_per_month[\"number_ean_removed\"] = grouped_texts_eans_per_month[\"ean_removed\"].apply(number_of_products)\n",
    "\n",
    "grouped_texts_eans_per_month"
   ]
  },
  {
   "cell_type": "code",
   "execution_count": null,
   "id": "broad-vacation",
   "metadata": {
    "jupyter": {
     "source_hidden": true
    },
    "tags": []
   },
   "outputs": [],
   "source": [
    "os.getcwd()"
   ]
  },
  {
   "cell_type": "code",
   "execution_count": null,
   "id": "sustained-lodging",
   "metadata": {},
   "outputs": [],
   "source": [
    "grouped_texts_eans_per_month[[\"number_receipt_text_introduced\", \"number_ean_introduced\"]].plot(title=\"Number of unique texts/ean introduced per month\").figure.savefig(os.path.join(\"../Notebooks/plots\", \"lidl_unique_receipt_texts_eans_introducted_per_month.png\"))"
   ]
  },
  {
   "cell_type": "code",
   "execution_count": null,
   "id": "gothic-driving",
   "metadata": {},
   "outputs": [],
   "source": [
    "grouped_texts_eans_per_month[[\"number_receipt_text_removed\", \"number_ean_removed\"]].plot(title=\"Number of unique texts/ean removed per month\").figure.savefig(os.path.join(\"../Notebooks/plots\", \"lidl_unique_receipt_texts_eans_removed_per_month.png\"))"
   ]
  },
  {
   "cell_type": "code",
   "execution_count": null,
   "id": "sublime-current",
   "metadata": {},
   "outputs": [],
   "source": [
    "\n",
    "grouped_texts_per_month_coicop = lidl_new_products_df.groupby(by=[\"year_month\", \"coicop_level_1\"])[\"receipt_text\"].apply(series_to_set)\n",
    "grouped_texts_per_month_coicop = grouped_texts_per_month_coicop.reset_index()\n",
    "grouped_eans_per_month_coicop = lidl_new_products_df.groupby(by=[\"year_month\", \"coicop_level_1\"])[\"ean_number\"].apply(series_to_set)\n",
    "grouped_eans_per_month_coicop = grouped_eans_per_month_coicop.reset_index()\n",
    "\n",
    "grouped_texts_eans_per_month_coicop = grouped_texts_per_month_coicop.merge(grouped_eans_per_month_coicop, on=[\"year_month\", \"coicop_level_1\"])\n",
    "grouped_texts_eans_per_month_coicop[\"receipt_text_lagged\"] = grouped_texts_eans_per_month_coicop[\"receipt_text\"].shift(1)\n",
    "grouped_texts_eans_per_month_coicop[\"ean_number_lagged\"] = grouped_texts_eans_per_month_coicop[\"ean_number\"].shift(1)\n",
    "\n",
    "grouped_texts_eans_per_month_coicop[\"receipt_text_intersection\"] = grouped_texts_eans_per_month_coicop.apply(lambda row: intersection(row[\"receipt_text\"], row[\"receipt_text_lagged\"]), axis=1)\n",
    "grouped_texts_eans_per_month_coicop[\"receipt_text_introduced\"] = grouped_texts_eans_per_month_coicop.apply(lambda row: introduced_products(row[\"receipt_text\"], row[\"receipt_text_lagged\"]), axis=1)\n",
    "grouped_texts_eans_per_month_coicop[\"number_receipt_text_introduced\"] = grouped_texts_eans_per_month_coicop[\"receipt_text_introduced\"].apply(number_of_products)\n",
    "grouped_texts_eans_per_month_coicop[\"receipt_text_removed\"] = grouped_texts_eans_per_month_coicop.apply(lambda row: removed_products(row[\"receipt_text\"], row[\"receipt_text_lagged\"]), axis=1)\n",
    "grouped_texts_eans_per_month_coicop[\"number_receipt_text_removed\"] = grouped_texts_eans_per_month_coicop[\"receipt_text_removed\"].apply(number_of_products)\n",
    "\n",
    "grouped_texts_eans_per_month_coicop[\"ean_intersection\"] = grouped_texts_eans_per_month_coicop.apply(lambda row: intersection(row[\"ean_number\"], row[\"ean_number_lagged\"]), axis=1)\n",
    "grouped_texts_eans_per_month_coicop[\"ean_introduced\"] = grouped_texts_eans_per_month_coicop.apply(lambda row: introduced_products(row[\"ean_number\"], row[\"ean_number_lagged\"]), axis=1)\n",
    "grouped_texts_eans_per_month_coicop[\"number_ean_introduced\"] = grouped_texts_eans_per_month_coicop[\"ean_introduced\"].apply(number_of_products)\n",
    "grouped_texts_eans_per_month_coicop[\"ean_removed\"] = grouped_texts_eans_per_month_coicop.apply(lambda row: removed_products(row[\"ean_number\"], row[\"ean_number_lagged\"]), axis=1)\n",
    "grouped_texts_eans_per_month_coicop[\"number_ean_removed\"] = grouped_texts_eans_per_month_coicop[\"ean_removed\"].apply(number_of_products)\n",
    "\n",
    "\n",
    "grouped_texts_eans_per_month_coicop "
   ]
  },
  {
   "cell_type": "code",
   "execution_count": null,
   "id": "empty-annotation",
   "metadata": {},
   "outputs": [],
   "source": [
    "for coicop_level in grouped_texts_eans_per_month_coicop.coicop_level_1.unique():\n",
    "    grouped_texts_eans_per_month_coicop_level = grouped_texts_eans_per_month_coicop[grouped_texts_eans_per_month_coicop.coicop_level_1 == coicop_level]\n",
    "    grouped_texts_eans_per_month_coicop_level[[\"year_month\",\"number_receipt_text_introduced\", \"number_ean_introduced\"]].plot(x=\"year_month\", title=f\"Number of introduced texts/eans per month for coicop {coicop_level}\").figure.savefig(os.path.join(\"../Notebooks/plots\", f\"lidl_introduced_receipt_texts_eans_per_month_coicop_{coicop_level}.png\"))"
   ]
  },
  {
   "cell_type": "code",
   "execution_count": null,
   "id": "romance-outside",
   "metadata": {},
   "outputs": [],
   "source": [
    "for coicop_level in grouped_texts_eans_per_month_coicop.coicop_level_1.unique():\n",
    "    grouped_texts_eans_per_month_coicop_level = grouped_texts_eans_per_month_coicop[grouped_texts_eans_per_month_coicop.coicop_level_1 == coicop_level]\n",
    "    grouped_texts_eans_per_month_coicop_level[[\"year_month\",\"number_receipt_text_removed\", \"number_ean_removed\"]].plot(x=\"year_month\", title=f\"Number of removed texts/eans per month for coicop {coicop_level}\").figure.savefig(os.path.join(\"../Notebooks/plots\", f\"lidl_removed_receipt_texts_eans_per_month_coicop_{coicop_level}.png\"))"
   ]
  },
  {
   "cell_type": "markdown",
   "id": "clinical-found",
   "metadata": {},
   "source": [
    "# Product Availability"
   ]
  },
  {
   "cell_type": "code",
   "execution_count": null,
   "id": "central-democrat",
   "metadata": {},
   "outputs": [],
   "source": [
    "unique_receipt_texts = lidl_df.receipt_text.unique()\n",
    "unique_receipt_texts"
   ]
  },
  {
   "cell_type": "code",
   "execution_count": null,
   "id": "lined-lighter",
   "metadata": {},
   "outputs": [],
   "source": [
    "len(unique_receipt_texts)"
   ]
  },
  {
   "cell_type": "code",
   "execution_count": null,
   "id": "documented-liberal",
   "metadata": {},
   "outputs": [],
   "source": [
    "unique_periods = lidl_df[\"year_month\"].unique()\n",
    "unique_periods"
   ]
  },
  {
   "cell_type": "code",
   "execution_count": null,
   "id": "nonprofit-silly",
   "metadata": {},
   "outputs": [],
   "source": [
    "from typing import List\n",
    "\n",
    "def availability_in_period(dataframe: pd.DataFrame, unique_receipt_texts: List[str], period: str) -> List[bool]:\n",
    "    period_texts = dataframe.loc[period][\"receipt_text\"]\n",
    "    return [receipt_text in period_texts for receipt_text in unique_receipt_texts]\n",
    "\n",
    "    \n",
    "unique_receipt_texts = lidl_df.receipt_text.unique()\n",
    "unique_periods = lidl_df[\"year_month\"].unique()    \n",
    "\n",
    "availability_per_period = {year_month: availability_in_period(grouped_texts_eans_per_month, unique_receipt_texts, year_month) for year_month in unique_periods}\n",
    "availability_per_period[\"receipt_texts\"] = unique_receipt_texts\n",
    "\n",
    "product_availability_df = pd.DataFrame(availability_per_period)\n",
    "product_availability_df = product_availability_df[[\"receipt_texts\"] + unique_periods.tolist()]\n",
    "product_availability_df.head()"
   ]
  },
  {
   "cell_type": "code",
   "execution_count": null,
   "id": "monthly-practitioner",
   "metadata": {},
   "outputs": [],
   "source": [
    "product_availability_sorted_df = product_availability_df.sort_values(by=product_availability_df.columns[1:].tolist())\n",
    "product_availability_sorted_df"
   ]
  },
  {
   "cell_type": "code",
   "execution_count": null,
   "id": "killing-enemy",
   "metadata": {},
   "outputs": [],
   "source": [
    "import matplotlib.pyplot as plt\n",
    "from matplotlib import colors\n",
    "import seaborn as sns\n",
    "\n",
    "fig, ax = plt.subplots(figsize=(20,20))\n",
    "sns.heatmap(product_availability_sorted_df.set_index(\"receipt_texts\"), cmap=\"tab20\", ax=ax)\n",
    "plt.savefig(\"../Notebooks/plots/lidl_products_over_time.png\")"
   ]
  },
  {
   "cell_type": "code",
   "execution_count": null,
   "id": "dress-story",
   "metadata": {},
   "outputs": [],
   "source": [
    "new_products_202202 = product_availability_sorted_df[[\"receipt_texts\", \"202202\"]][product_availability_sorted_df[\"202202\"] == True]\n",
    "new_products_202202"
   ]
  },
  {
   "cell_type": "code",
   "execution_count": null,
   "id": "ongoing-thursday",
   "metadata": {},
   "outputs": [],
   "source": [
    "from wordcloud import WordCloud\n",
    "\n",
    "w = WordCloud().generate(\" \".join([word for word in new_products_202202.receipt_texts]))\n",
    "plt.imshow(w, interpolation='bilinear')\n",
    "plt.axis(\"off\")\n",
    "plt.show()"
   ]
  },
  {
   "cell_type": "code",
   "execution_count": null,
   "id": "illegal-pride",
   "metadata": {},
   "outputs": [],
   "source": [
    "import spacy\n",
    "\n",
    "nlp = spacy.load(\"nl_core_news_md\")"
   ]
  },
  {
   "cell_type": "code",
   "execution_count": null,
   "id": "private-confidentiality",
   "metadata": {},
   "outputs": [],
   "source": [
    "lidl_new_products_df[\"features\"] = [doc.vector for doc in nlp.pipe(lidl_new_products_df[\"receipt_text\"], disable=[\"tagger\", \"parser\", \"ner\"])]"
   ]
  },
  {
   "cell_type": "code",
   "execution_count": null,
   "id": "passive-muslim",
   "metadata": {},
   "outputs": [],
   "source": [
    "month = \"201801\"\n",
    "period_df = lidl_new_products_df[lidl_new_products_df.month == month]\n",
    "period_df.head()"
   ]
  },
  {
   "cell_type": "code",
   "execution_count": null,
   "id": "lightweight-third",
   "metadata": {},
   "outputs": [],
   "source": [
    "from sklearn.linear_model import LogisticRegression\n",
    "\n",
    "lr = LogisticRegression()\n",
    "lr.fit(period_df.features.values.tolist(), period_df.coicop_division.values.tolist())"
   ]
  },
  {
   "cell_type": "code",
   "execution_count": null,
   "id": "resistant-retention",
   "metadata": {},
   "outputs": [],
   "source": [
    "lidl_new_products_df.rename(columns={\"month\": \"year_month\"}, inplace=True)\n",
    "lidl_new_products_df[\"year\"] = lidl_new_products_df.year_month.str[:4].astype(int)\n",
    "lidl_new_products_df[\"month\"] = lidl_new_products_df.year_month.str[4:].astype(int)\n",
    "lidl_new_products_df.head()"
   ]
  },
  {
   "cell_type": "code",
   "execution_count": null,
   "id": "adverse-violation",
   "metadata": {},
   "outputs": [],
   "source": [
    "from sklearn.exceptions import ConvergenceWarning\n",
    "import warnings\n",
    "import os\n",
    "\n",
    "\n",
    "os.makedirs(\"lr_eval\", exist_ok=True)\n",
    "\n",
    "with warnings.catch_warnings():\n",
    "    warnings.filterwarnings(\"ignore\", category=ConvergenceWarning)\n",
    "\n",
    "    eval_dfs = []\n",
    "    periods = lidl_new_products_df[\"year_month\"].unique()\n",
    "    for period in periods[:-1]:\n",
    "        year, month = int(period[:4]), int(period[4:])\n",
    "\n",
    "        train_period_df = lidl_new_products_df[(lidl_new_products_df.year == year) & (lidl_new_products_df.month == month)]\n",
    "        train_period_df.to_csv(os.path.join(\"lr_eval\", f\"train_df_{period}.csv\"), index=False, sep=\";\")\n",
    "    \n",
    "    \n",
    "        lr = LogisticRegression()\n",
    "        lr.fit(train_period_df.features.values.tolist(), train_period_df.coicop_division.values.tolist())\n",
    "\n",
    "        eval_period_df = lidl_new_products_df[((lidl_new_products_df.year == year) & (lidl_new_products_df.month > month) | (lidl_new_products_df.year > year))].copy()\n",
    "        eval_period_df[\"y_pred\"] = lr.predict(eval_period_df.features.values.tolist())\n",
    "        eval_period_df.to_csv(os.path.join(\"lr_eval\", f\"eval_df_{period}.csv\"), index=False, sep=\";\")\n",
    "        \n",
    "        eval_dfs.append(eval_period_df)\n",
    "        del eval_period_df\n",
    "        "
   ]
  },
  {
   "cell_type": "code",
   "execution_count": null,
   "id": "facial-freeware",
   "metadata": {},
   "outputs": [],
   "source": [
    "for eval_df in evals_dfs:\n",
    "    eval_df.head()"
   ]
  },
  {
   "cell_type": "code",
   "execution_count": null,
   "id": "scientific-sister",
   "metadata": {},
   "outputs": [],
   "source": [
    "lidl_new_products_df[\"y_pred\"] = lr.predict(lidl_new_products_df.features.values.tolist())\n",
    "lidl_new_products_df.head()"
   ]
  },
  {
   "cell_type": "code",
   "execution_count": null,
   "id": "utility-continent",
   "metadata": {},
   "outputs": [],
   "source": [
    "from sklearn.metrics import f1_score\n",
    "\n",
    "f1_score(lidl_new_products_df.coicop_division, lidl_new_products_df.y_pred, average=\"macro\")"
   ]
  },
  {
   "cell_type": "code",
   "execution_count": null,
   "id": "minor-collins",
   "metadata": {},
   "outputs": [],
   "source": [
    "products_201801_df =  lidl_new_products_df[lidl_new_products_df.month == \"201801\"]\n",
    "f1_score(products_201801_df.coicop_division, products_201801_df.y_pred, average=\"macro\")"
   ]
  },
  {
   "cell_type": "code",
   "execution_count": null,
   "id": "fossil-filename",
   "metadata": {},
   "outputs": [],
   "source": [
    "products_201802_df =  lidl_new_products_df[lidl_new_products_df.month == \"201802\"]\n",
    "old_products = products_201802_df[products_201802_df.new_text == False]\n",
    "new_products = products_201802_df[products_201802_df.new_text == True]\n",
    "\n",
    "f1_score(old_products.coicop_division, old_products.y_pred, average=\"macro\"), f1_score(new_products.coicop_division, new_products.y_pred, average=\"macro\")"
   ]
  },
  {
   "cell_type": "code",
   "execution_count": null,
   "id": "adequate-liberty",
   "metadata": {},
   "outputs": [],
   "source": [
    "products_201802_df[(products_201802_df.new_text == True) & (products_201802_df.coicop_division == products_201802_df.y_pred)]"
   ]
  },
  {
   "cell_type": "code",
   "execution_count": null,
   "id": "powered-fourth",
   "metadata": {},
   "outputs": [],
   "source": [
    "products_201802_df[(products_201802_df.new_text == True) & (products_201802_df.coicop_division != products_201802_df.y_pred)]"
   ]
  },
  {
   "cell_type": "code",
   "execution_count": null,
   "id": "unlike-walnut",
   "metadata": {},
   "outputs": [],
   "source": [
    "len(products_201802_df[(products_201802_df.new_text == True) & (products_201802_df.coicop_division != products_201802_df.y_pred)])"
   ]
  },
  {
   "cell_type": "code",
   "execution_count": null,
   "id": "gentle-dominican",
   "metadata": {},
   "outputs": [],
   "source": [
    "283 / (283+26)"
   ]
  },
  {
   "cell_type": "code",
   "execution_count": null,
   "id": "powered-airplane",
   "metadata": {},
   "outputs": [],
   "source": [
    "products_201802_df[(products_201802_df.new_text == False) & (products_201802_df.coicop_division == products_201802_df.y_pred)]"
   ]
  },
  {
   "cell_type": "code",
   "execution_count": null,
   "id": "concrete-smooth",
   "metadata": {},
   "outputs": [],
   "source": [
    "products_201802_df[(products_201802_df.new_text == False) & (products_201802_df.coicop_division != products_201802_df.y_pred)]"
   ]
  }
 ],
 "metadata": {
  "kernelspec": {
   "display_name": "ssi",
   "language": "python",
   "name": "ssi"
  },
  "language_info": {
   "codemirror_mode": {
    "name": "ipython",
    "version": 3
   },
   "file_extension": ".py",
   "mimetype": "text/x-python",
   "name": "python",
   "nbconvert_exporter": "python",
   "pygments_lexer": "ipython3",
   "version": "3.11.5"
  }
 },
 "nbformat": 4,
 "nbformat_minor": 5
}
