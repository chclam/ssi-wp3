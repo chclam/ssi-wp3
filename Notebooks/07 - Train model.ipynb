{
 "cells": [
  {
   "cell_type": "code",
   "execution_count": null,
   "id": "framed-concord",
   "metadata": {},
   "outputs": [],
   "source": [
    "import pandas as pd\n",
    "from dotenv import load_dotenv\n",
    "from pathlib import Path\n",
    "import os\n",
    "\n",
    "# load environment variables from .env file for project\n",
    "dotenv_path = Path('../.env')\n",
    "load_dotenv(dotenv_path=dotenv_path)\n",
    "\n",
    "data_directory = os.getenv(\"OUTPUT_DIRECTORY\")\n",
    "feature_directory = os.path.join(data_directory, \"features\")"
   ]
  },
  {
   "cell_type": "code",
   "execution_count": null,
   "id": "geological-accuracy",
   "metadata": {},
   "outputs": [],
   "source": [
    "lidl_feature_df = pd.read_parquet(os.path.join(feature_directory, \"ssi_lidl_spacy_nl_md_features.parquet\"), engine=\"pyarrow\")\n",
    "lidl_feature_df.rename(columns={\"bg_number\": \"supermarket_id\", \"ean_name\": \"receipt_text\", \"coicop_division\": \"coicop_level_1\"}, inplace=True)\n",
    "lidl_feature_df.head()"
   ]
  },
  {
   "cell_type": "code",
   "execution_count": null,
   "id": "forty-injection",
   "metadata": {},
   "outputs": [],
   "source": [
    "lidl_unique_df = lidl_feature_df.groupby([\"receipt_text\", \"coicop_level_1\"]).size().reset_index().rename(columns={0: 'count'})\n",
    "lidl_unique_df = lidl_unique_df[[\"receipt_text\",  \"coicop_level_1\"]]\n",
    "lidl_unique_df.head()"
   ]
  },
  {
   "cell_type": "code",
   "execution_count": null,
   "id": "permanent-sellers",
   "metadata": {},
   "outputs": [],
   "source": [
    "len(lidl_feature_df), len(lidl_unique_df)"
   ]
  },
  {
   "cell_type": "code",
   "execution_count": null,
   "id": "disturbed-ribbon",
   "metadata": {},
   "outputs": [],
   "source": [
    "import spacy\n",
    "\n",
    "nlp = spacy.load(\"nl_core_news_md\")"
   ]
  },
  {
   "cell_type": "code",
   "execution_count": null,
   "id": "spiritual-trunk",
   "metadata": {},
   "outputs": [],
   "source": [
    "lidl_unique_df[\"features\"] = [doc.vector for doc in nlp.pipe(lidl_unique_df[\"receipt_text\"], disable=[\"tagger\", \"parser\", \"ner\"])]"
   ]
  },
  {
   "cell_type": "code",
   "execution_count": null,
   "id": "cheap-server",
   "metadata": {},
   "outputs": [],
   "source": [
    "from sklearn.linear_model import LogisticRegression\n",
    "\n",
    "lidl_lr = LogisticRegression()\n",
    "lidl_lr.fit(lidl_unique_df[\"features\"].values.tolist(), lidl_unique_df[\"coicop_level_1\"].values.tolist())"
   ]
  },
  {
   "cell_type": "code",
   "execution_count": null,
   "id": "absent-emperor",
   "metadata": {},
   "outputs": [],
   "source": [
    "plus_feature_df = pd.read_parquet(os.path.join(feature_directory, \"ssi_plus_spacy_nl_md_features.parquet\"), engine=\"pyarrow\")\n",
    "plus_feature_df.head()"
   ]
  },
  {
   "cell_type": "code",
   "execution_count": null,
   "id": "informed-freedom",
   "metadata": {},
   "outputs": [],
   "source": [
    "from sklearn.metrics import classification_report\n",
    "\n",
    "y_true = plus_feature_df[\"coicop_level_1\"].values.tolist()\n",
    "y_pred = lidl_lr.predict(plus_feature_df[\"features_spacy_nl_md\"].values.tolist())\n",
    "\n",
    "print(classification_report(y_true, y_pred))"
   ]
  },
  {
   "cell_type": "code",
   "execution_count": null,
   "id": "trained-berry",
   "metadata": {},
   "outputs": [],
   "source": [
    "plus_unique_df = plus_feature_df.groupby([\"receipt_text\", \"coicop_level_1\"]).size().reset_index().rename(columns={0: 'count'})\n",
    "plus_unique_df = plus_unique_df[[\"receipt_text\",  \"coicop_level_1\"]]"
   ]
  },
  {
   "cell_type": "code",
   "execution_count": null,
   "id": "desirable-twelve",
   "metadata": {},
   "outputs": [],
   "source": [
    "plus_unique_df[\"features\"] = [doc.vector for doc in nlp.pipe(plus_unique_df[\"receipt_text\"], disable=[\"tagger\", \"parser\", \"ner\"])]"
   ]
  },
  {
   "cell_type": "code",
   "execution_count": null,
   "id": "concerned-quarterly",
   "metadata": {},
   "outputs": [],
   "source": [
    "plus_lr = LogisticRegression()\n",
    "plus_lr.fit(plus_unique_df[\"features\"].values.tolist(), plus_unique_df[\"coicop_level_1\"].values.tolist())"
   ]
  },
  {
   "cell_type": "code",
   "execution_count": null,
   "id": "connected-contemporary",
   "metadata": {},
   "outputs": [],
   "source": [
    "y_true = lidl_unique_df[\"coicop_level_1\"].values.tolist()\n",
    "y_pred = plus_lr.predict(lidl_unique_df[\"features\"].values.tolist())\n",
    "\n",
    "print(classification_report(y_true, y_pred))"
   ]
  },
  {
   "cell_type": "code",
   "execution_count": null,
   "id": "level-liechtenstein",
   "metadata": {},
   "outputs": [],
   "source": [
    "y_true = lidl_feature_df[\"coicop_level_1\"].values.tolist()\n",
    "y_pred = plus_lr.predict(lidl_feature_df[\"features_spacy_nl_md\"].values.tolist())\n",
    "\n",
    "print(classification_report(y_true, y_pred))"
   ]
  }
 ],
 "metadata": {
  "kernelspec": {
   "display_name": "ssi",
   "language": "python",
   "name": "ssi"
  },
  "language_info": {
   "codemirror_mode": {
    "name": "ipython",
    "version": 3
   },
   "file_extension": ".py",
   "mimetype": "text/x-python",
   "name": "python",
   "nbconvert_exporter": "python",
   "pygments_lexer": "ipython3",
   "version": "3.11.5"
  }
 },
 "nbformat": 4,
 "nbformat_minor": 5
}
