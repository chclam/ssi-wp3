{
 "cells": [
  {
   "cell_type": "code",
   "execution_count": null,
   "id": "annoying-hampshire",
   "metadata": {},
   "outputs": [],
   "source": [
    "import pandas as pd\n",
    "from dotenv import load_dotenv\n",
    "from pathlib import Path\n",
    "import os\n",
    "\n",
    "# load environment variables from .env file for project\n",
    "dotenv_path = Path('../.env')\n",
    "load_dotenv(dotenv_path=dotenv_path)\n",
    "\n",
    "data_directory = os.getenv(\"OUTPUT_DIRECTORY\")"
   ]
  },
  {
   "cell_type": "code",
   "execution_count": null,
   "id": "cooperative-evolution",
   "metadata": {},
   "outputs": [],
   "source": [
    "os.listdir(data_directory)"
   ]
  },
  {
   "cell_type": "code",
   "execution_count": null,
   "id": "insured-layout",
   "metadata": {},
   "outputs": [],
   "source": [
    "excel_files = [filename for filename in os.listdir(data_directory) if filename.endswith(\".xlsx\")]\n",
    "excel_files"
   ]
  },
  {
   "cell_type": "code",
   "execution_count": null,
   "id": "portable-ministry",
   "metadata": {},
   "outputs": [],
   "source": [
    "ah_receipts = os.path.join(data_directory, excel_files[0])\n",
    "ah_receipts"
   ]
  },
  {
   "cell_type": "code",
   "execution_count": null,
   "id": "characteristic-contributor",
   "metadata": {},
   "outputs": [],
   "source": [
    "from openpyxl import load_workbook\n",
    "\n",
    "ah_workbook = load_workbook(filename=ah_receipts)\n",
    "ah_sheet_names = ah_workbook.sheetnames\n",
    "ah_sheet_names"
   ]
  },
  {
   "cell_type": "code",
   "execution_count": null,
   "id": "innovative-above",
   "metadata": {},
   "outputs": [],
   "source": [
    "coicop_sheets = {sheet: sheet.lower().replace(\"coi\", \"\") for sheet in ah_sheet_names if sheet.lower().startswith(\"coi\")}\n",
    "coicop_sheets"
   ]
  },
  {
   "cell_type": "code",
   "execution_count": null,
   "id": "civilian-playback",
   "metadata": {},
   "outputs": [],
   "source": [
    "for sheet_name, supermarket_name in coicop_sheets.items():\n",
    "    ah_receipts_df = pd.read_excel(ah_receipts, sheet_name=sheet_name)\n",
    "    ah_receipts_df = ah_receipts_df.rename(columns={'Kassabonomschrijving': 'receipt_text', 'ArtikelEAN': \"ean_number\", 'IsbaOmschrijving': 'isba_description', 'BG': 'supermarket_id', 'Coicop': 'coicop_number'})\n",
    "    ah_receipts_df = ah_receipts_df.rename(columns={column_name: column_name.lower() for column_name in ah_receipts_df.columns})\n",
    "    ah_receipts_df.to_parquet(os.path.join(data_directory, f\"{supermarket_name}_receipts.parquet\"), engine=\"pyarrow\")  "
   ]
  },
  {
   "cell_type": "code",
   "execution_count": null,
   "id": "employed-individual",
   "metadata": {},
   "outputs": [],
   "source": [
    "ah_receipts_filenames = [os.path.join(data_directory, filename) for filename in os.listdir(data_directory) if filename.startswith(\"ah\") and filename.endswith(\".parquet\")]\n",
    "\n",
    "for ah_receipts_filename in ah_receipts_filenames:\n",
    "    ah_receipts_df = pd.read_parquet(ah_receipts_filename, engine=\"pyarrow\")\n",
    "    print(ah_receipts_df.head())"
   ]
  }
 ],
 "metadata": {
  "kernelspec": {
   "display_name": "ssi",
   "language": "python",
   "name": "ssi"
  },
  "language_info": {
   "codemirror_mode": {
    "name": "ipython",
    "version": 3
   },
   "file_extension": ".py",
   "mimetype": "text/x-python",
   "name": "python",
   "nbconvert_exporter": "python",
   "pygments_lexer": "ipython3",
   "version": "3.11.5"
  }
 },
 "nbformat": 4,
 "nbformat_minor": 5
}
