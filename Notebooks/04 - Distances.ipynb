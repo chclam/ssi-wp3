{
 "cells": [
  {
   "cell_type": "code",
   "execution_count": null,
   "id": "narrative-celebration",
   "metadata": {},
   "outputs": [],
   "source": [
    "import pandas as pd\n",
    "from dotenv import load_dotenv\n",
    "from pathlib import Path\n",
    "import os\n",
    "\n",
    "# load environment variables from .env file for project\n",
    "dotenv_path = Path('../.env')\n",
    "load_dotenv(dotenv_path=dotenv_path)\n",
    "\n",
    "data_directory = os.getenv(\"OUTPUT_DIRECTORY\")\n",
    "feature_directory = os.path.join(data_directory, \"features\")"
   ]
  },
  {
   "cell_type": "code",
   "execution_count": null,
   "id": "inappropriate-cocktail",
   "metadata": {},
   "outputs": [],
   "source": [
    "feature_df = pd.read_parquet(os.path.join(feature_directory, \"ssi_lidl_spacy_nl_md_features.parquet\"), engine=\"pyarrow\")\n",
    "feature_df = feature_df.rename(columns={\"month\": \"year_month\"})\n",
    "feature_df.head()"
   ]
  },
  {
   "cell_type": "code",
   "execution_count": null,
   "id": "healthy-vault",
   "metadata": {},
   "outputs": [],
   "source": [
    "import textdistance\n",
    "\n",
    "textdistance.levenshtein.distance(\"text\", \"tekst\")"
   ]
  },
  {
   "cell_type": "code",
   "execution_count": null,
   "id": "celtic-queen",
   "metadata": {},
   "outputs": [],
   "source": [
    "feature_df.drop_duplicates(subset=[\"ean_name\"]).sort_values(by=[\"ean_name\"])"
   ]
  },
  {
   "cell_type": "code",
   "execution_count": null,
   "id": "editorial-spice",
   "metadata": {},
   "outputs": [],
   "source": [
    "from scipy.spatial.distance import cosine\n",
    "import textdistance\n",
    "import tqdm\n",
    "\n",
    "top_k = 10\n",
    "\n",
    "unique_descriptions_df = feature_df.drop_duplicates(subset=[\"ean_name\"]).sort_values(by=[\"ean_name\"])\n",
    "feature_vectors = unique_descriptions_df.features_spacy_nl_md.values.tolist()\n",
    "\n",
    "distances_top_k_df = pd.DataFrame()\n",
    "\n",
    "with tqdm.tqdm(range(0, len(feature_vectors))) as progress_bar:\n",
    "    for row in progress_bar:\n",
    "        product_description = unique_descriptions_df.ean_name.iloc[row]\n",
    "        progress_bar.set_description(f\"Calculating distances for {product_description}\")\n",
    "        product_feature_vector = feature_vectors[row]\n",
    "\n",
    "        feature_distance_vector = [cosine(product_feature_vector, feature_vector) for feature_vector in feature_vectors]\n",
    "        feature_distance_vector = pd.Series(feature_distance_vector)\n",
    "\n",
    "        text_distance_vector = [textdistance.levenshtein.distance(product_description, text) for text in unique_descriptions_df.ean_name]\n",
    "        text_distance_vector = pd.Series(text_distance_vector)\n",
    "\n",
    "        product_description_column = [product_description for _ in range(len(feature_distance_vector))]\n",
    "\n",
    "        distance_df = pd.DataFrame({\n",
    "            \"product_description\": product_description_column,\n",
    "            \"ean_name\": unique_descriptions_df.ean_name.reset_index(drop=True),\n",
    "            \"feature_distances\": feature_distance_vector.reset_index(drop=True),\n",
    "            \"text_distances\": text_distance_vector.reset_index(drop=True)\n",
    "        })\n",
    "\n",
    "        distance_df.sort_values(by=[\"text_distances\", \"feature_distances\"], ascending=[True, False], inplace=True)\n",
    "        top_k_df = distance_df[distance_df.text_distances > 0].iloc[:top_k]\n",
    "\n",
    "        distances_top_k_df = pd.concat([distances_top_k_df, top_k_df])\n",
    "   \n",
    "    distances_top_k_df.to_parquet(os.path.join(output_directory, \"top10_text_vs_feature_distances.parquet\"), engine=\"pyarrow\")\n",
    "distances_top_k_df    \n",
    "    \n",
    "    \n",
    "    "
   ]
  }
 ],
 "metadata": {
  "kernelspec": {
   "display_name": "ssi",
   "language": "python",
   "name": "ssi"
  },
  "language_info": {
   "codemirror_mode": {
    "name": "ipython",
    "version": 3
   },
   "file_extension": ".py",
   "mimetype": "text/x-python",
   "name": "python",
   "nbconvert_exporter": "python",
   "pygments_lexer": "ipython3",
   "version": "3.11.5"
  }
 },
 "nbformat": 4,
 "nbformat_minor": 5
}
