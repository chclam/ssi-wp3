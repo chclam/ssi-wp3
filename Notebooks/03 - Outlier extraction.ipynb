{
 "cells": [
  {
   "cell_type": "code",
   "execution_count": null,
   "id": "efficient-straight",
   "metadata": {},
   "outputs": [],
   "source": [
    "import pandas as pd\n",
    "from dotenv import load_dotenv\n",
    "from pathlib import Path\n",
    "import os"
   ]
  },
  {
   "cell_type": "code",
   "execution_count": null,
   "id": "loaded-provincial",
   "metadata": {},
   "outputs": [],
   "source": [
    "# load environment variables from .env file for project\n",
    "dotenv_path = Path('../.env')\n",
    "load_dotenv(dotenv_path=dotenv_path)\n",
    "data_directory = os.getenv(\"OUTPUT_DIRECTORY\")"
   ]
  },
  {
   "cell_type": "code",
   "execution_count": null,
   "id": "pleased-medicare",
   "metadata": {},
   "outputs": [],
   "source": [
    "feature_directory = os.path.join(data_directory, \"features\")"
   ]
  },
  {
   "cell_type": "code",
   "execution_count": null,
   "id": "informative-video",
   "metadata": {},
   "outputs": [],
   "source": [
    "os.listdir(feature_directory)"
   ]
  },
  {
   "cell_type": "code",
   "execution_count": null,
   "id": "outside-indication",
   "metadata": {},
   "outputs": [],
   "source": [
    "feature_df = pd.read_parquet(os.path.join(feature_directory, \"ssi_lidl_spacy_nl_md_features.parquet\"), engine=\"pyarrow\")\n",
    "feature_df = feature_df.rename(columns={\"month\": \"year_month\"})\n",
    "feature_df.head()"
   ]
  },
  {
   "cell_type": "code",
   "execution_count": null,
   "id": "durable-dylan",
   "metadata": {},
   "outputs": [],
   "source": [
    "feature_df[\"year\"] = feature_df.year_month.str[:4]\n",
    "feature_df.head()"
   ]
  },
  {
   "cell_type": "code",
   "execution_count": null,
   "id": "automatic-netscape",
   "metadata": {},
   "outputs": [],
   "source": [
    "unique_years = feature_df.year.unique()\n",
    "unique_years"
   ]
  },
  {
   "cell_type": "code",
   "execution_count": null,
   "id": "anticipated-theater",
   "metadata": {},
   "outputs": [],
   "source": [
    "X_train = feature_df[feature_df[\"year\"] == \"2019\"][\"features_spacy_nl_md\"].tolist()\n",
    "X_train[:1]"
   ]
  },
  {
   "cell_type": "code",
   "execution_count": null,
   "id": "micro-liability",
   "metadata": {},
   "outputs": [],
   "source": [
    "from sklearn.neighbors import LocalOutlierFactor\n",
    "\n",
    "clf = LocalOutlierFactor(n_neighbors=20, novelty=True, contamination=0.1)\n",
    "clf.fit(X_train)"
   ]
  },
  {
   "cell_type": "code",
   "execution_count": null,
   "id": "unavailable-sponsorship",
   "metadata": {},
   "outputs": [],
   "source": [
    "X_test = feature_df[feature_df[\"year\"] == \"2020\"][\"features_spacy_nl_md\"].tolist()\n",
    "X_test[:1]"
   ]
  },
  {
   "cell_type": "code",
   "execution_count": null,
   "id": "competitive-carol",
   "metadata": {},
   "outputs": [],
   "source": [
    "y_pred_test = clf.predict(X_test)\n",
    "n_error_test = y_pred_test[y_pred_test == -1].size"
   ]
  },
  {
   "cell_type": "code",
   "execution_count": null,
   "id": "challenging-incentive",
   "metadata": {},
   "outputs": [],
   "source": [
    "y_pred_test.shape, n_error_test"
   ]
  },
  {
   "cell_type": "code",
   "execution_count": null,
   "id": "eight-acting",
   "metadata": {},
   "outputs": [],
   "source": [
    "import numpy as np\n",
    "\n",
    "X_train_test = np.array(X_train + X_test)"
   ]
  },
  {
   "cell_type": "code",
   "execution_count": null,
   "id": "acceptable-conspiracy",
   "metadata": {},
   "outputs": [],
   "source": [
    "from sklearn.manifold import TSNE\n",
    "\n",
    "tsne = TSNE()\n",
    "tsne.fit(X_train_test)"
   ]
  },
  {
   "cell_type": "code",
   "execution_count": null,
   "id": "regulation-florence",
   "metadata": {},
   "outputs": [],
   "source": [
    "X_train_embedded = tsne.fit_transform(np.array(X_train))\n",
    "X_test_embedded = tsne.fit_transform(np.array(X_test))"
   ]
  },
  {
   "cell_type": "code",
   "execution_count": null,
   "id": "infectious-snowboard",
   "metadata": {},
   "outputs": [],
   "source": [
    "X_test_inliers = X_test_embedded[y_pred_test == 1]\n",
    "X_test_outliers = X_test_embedded[y_pred_test == -1]"
   ]
  },
  {
   "cell_type": "code",
   "execution_count": null,
   "id": "focused-mathematics",
   "metadata": {},
   "outputs": [],
   "source": [
    "import matplotlib\n",
    "import matplotlib.pyplot as plt\n",
    "\n",
    "plt.title(\"Novelty Detection with LOF\")\n",
    "s = 40\n",
    "b1 = plt.scatter(X_train_embedded[:, 0], X_train_embedded[:, 1], c=\"white\", s=s, edgecolors=\"k\")\n",
    "b2 = plt.scatter(X_test_inliers[:, 0], X_test_inliers[:, 1], c=\"blueviolet\", s=s, edgecolors=\"k\")\n",
    "b2 = plt.scatter(X_test_outliers[:, 0], X_test_outliers[:, 1], c=\"gold\", s=s, edgecolors=\"k\")"
   ]
  },
  {
   "cell_type": "code",
   "execution_count": null,
   "id": "future-creator",
   "metadata": {},
   "outputs": [],
   "source": [
    "x_test_scores = clf.score_samples(X_test)"
   ]
  },
  {
   "cell_type": "code",
   "execution_count": null,
   "id": "rural-entity",
   "metadata": {},
   "outputs": [],
   "source": [
    "X_test_df = feature_df[feature_df[\"year\"] == \"2020\"]\n",
    "X_test_df[\"loc_score\"] = x_test_scores\n",
    "X_test_outliers_df = X_test_df.iloc[y_pred_test == -1]\n",
    "\n",
    "X_test_outliers_df"
   ]
  },
  {
   "cell_type": "code",
   "execution_count": null,
   "id": "convertible-snowboard",
   "metadata": {},
   "outputs": [],
   "source": [
    "X_test_outliers_df[X_test_outliers_df.loc_score ==  X_test_outliers_df.loc_score.min()]"
   ]
  },
  {
   "cell_type": "code",
   "execution_count": null,
   "id": "western-making",
   "metadata": {},
   "outputs": [],
   "source": [
    "X_train_df = feature_df[feature_df[\"year\"] == \"2019\"]\n",
    "X_train_df"
   ]
  },
  {
   "cell_type": "code",
   "execution_count": null,
   "id": "civilian-killing",
   "metadata": {},
   "outputs": [],
   "source": [
    "# Outlier detection does not seem to work as Happy Sock is already in the 2019 data\n",
    "X_train_df[X_train_df.ean_name == \"Happy Sock\"]"
   ]
  },
  {
   "cell_type": "markdown",
   "id": "royal-mailing",
   "metadata": {},
   "source": [
    "# Use different Outlier Detection method"
   ]
  },
  {
   "cell_type": "code",
   "execution_count": null,
   "id": "integrated-jungle",
   "metadata": {},
   "outputs": [],
   "source": [
    "import cleanlab\n",
    "from cleanlab.outlier import OutOfDistribution"
   ]
  },
  {
   "cell_type": "code",
   "execution_count": null,
   "id": "monthly-sandwich",
   "metadata": {},
   "outputs": [],
   "source": [
    "ood = OutOfDistribution()\n",
    "train_outlier_scores = ood.fit_score(features=np.array(X_train))"
   ]
  },
  {
   "cell_type": "code",
   "execution_count": null,
   "id": "quality-seller",
   "metadata": {},
   "outputs": [],
   "source": [
    "top_train_outlier_idxs = (train_outlier_scores).argsort()[:15]\n",
    "X_train_df.iloc[top_train_outlier_idxs]"
   ]
  },
  {
   "cell_type": "code",
   "execution_count": null,
   "id": "strategic-morrison",
   "metadata": {},
   "outputs": [],
   "source": [
    "test_outlier_scores = ood.score(features=np.array(X_test))"
   ]
  },
  {
   "cell_type": "code",
   "execution_count": null,
   "id": "sunset-scratch",
   "metadata": {},
   "outputs": [],
   "source": [
    "top_outlier_idxs = (test_outlier_scores).argsort()[:40]\n",
    "X_test_df.iloc[top_outlier_idxs]"
   ]
  },
  {
   "cell_type": "code",
   "execution_count": null,
   "id": "opposite-circle",
   "metadata": {},
   "outputs": [],
   "source": [
    "# Take the 2.5th percentile of the outlier scores in the training data as the threshold\n",
    "threshold = np.percentile(test_outlier_scores, 2.5)\n",
    "\n",
    "fig, axes = plt.subplots(nrows=1, ncols=2, figsize=(10, 5))\n",
    "plt_range = [min(train_outlier_scores.min(),test_outlier_scores.min()), \\\n",
    "             max(train_outlier_scores.max(),test_outlier_scores.max())]\n",
    "\n",
    "axes[0].hist(train_outlier_scores, range=plt_range, bins=50)\n",
    "axes[0].set(title='train_outlier_scores distribution', ylabel='Frequency')\n",
    "axes[0].axvline(x=threshold, color='red', linewidth=2)\n",
    "axes[1].hist(test_outlier_scores, range=plt_range, bins=50)\n",
    "axes[1].set(title='test_outlier_scores distribution', ylabel='Frequency')\n",
    "axes[1].axvline(x=threshold, color='red', linewidth=2)"
   ]
  },
  {
   "cell_type": "code",
   "execution_count": null,
   "id": "aboriginal-jurisdiction",
   "metadata": {},
   "outputs": [],
   "source": [
    "# Consider everything under 0.4 outlier\n",
    "X_test_df.iloc[test_outlier_scores < 0.4]"
   ]
  },
  {
   "cell_type": "code",
   "execution_count": null,
   "id": "charming-barrier",
   "metadata": {},
   "outputs": [],
   "source": [
    "# Eiwitbrood is available in both X_test as X_train, so maybe an outlier but not a novelty!!\n",
    "X_train_df[X_train_df.ean_name == \"Eiwitbrood\"]"
   ]
  },
  {
   "cell_type": "code",
   "execution_count": null,
   "id": "chubby-premium",
   "metadata": {},
   "outputs": [],
   "source": [
    "# Consider everything under 0.4 outlier\n",
    "X_train_df.iloc[train_outlier_scores < 0.4]"
   ]
  }
 ],
 "metadata": {
  "kernelspec": {
   "display_name": "ssi",
   "language": "python",
   "name": "ssi"
  },
  "language_info": {
   "codemirror_mode": {
    "name": "ipython",
    "version": 3
   },
   "file_extension": ".py",
   "mimetype": "text/x-python",
   "name": "python",
   "nbconvert_exporter": "python",
   "pygments_lexer": "ipython3",
   "version": "3.11.5"
  }
 },
 "nbformat": 4,
 "nbformat_minor": 5
}
