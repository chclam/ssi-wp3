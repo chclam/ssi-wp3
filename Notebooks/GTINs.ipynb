{
 "cells": [
  {
   "cell_type": "code",
   "execution_count": 3,
   "id": "610713f8",
   "metadata": {},
   "outputs": [
    {
     "data": {
      "text/plain": [
       "'/netappdata/ssi_tdjg/data/ssi'"
      ]
     },
     "execution_count": 3,
     "metadata": {},
     "output_type": "execute_result"
    }
   ],
   "source": [
    "import os\n",
    "import pandas as pd\n",
    "\n",
    "data_directory = \"/netappdata/ssi_tdjg/data/ssi\"\n",
    "data_directory"
   ]
  },
  {
   "cell_type": "code",
   "execution_count": 8,
   "id": "6a851768",
   "metadata": {},
   "outputs": [],
   "source": [
    "parquet_file_directory = os.path.join(data_directory, \"preprocessing/05-final\")"
   ]
  },
  {
   "cell_type": "code",
   "execution_count": 10,
   "id": "58a04ffa",
   "metadata": {},
   "outputs": [
    {
     "data": {
      "text/plain": [
       "['/netappdata/ssi_tdjg/data/ssi/preprocessing/05-final/ssi_ah_revenue.parquet',\n",
       " '/netappdata/ssi_tdjg/data/ssi/preprocessing/05-final/ssi_jumbo_revenue.parquet',\n",
       " '/netappdata/ssi_tdjg/data/ssi/preprocessing/05-final/ssi_lidl_revenue.parquet',\n",
       " '/netappdata/ssi_tdjg/data/ssi/preprocessing/05-final/ssi_plus_revenue.parquet']"
      ]
     },
     "execution_count": 10,
     "metadata": {},
     "output_type": "execute_result"
    }
   ],
   "source": [
    "parquet_files = [os.path.join(parquet_file_directory, filename)\n",
    "                 for filename in os.listdir(parquet_file_directory)\n",
    "                 if filename.endswith(\".parquet\")\n",
    "                ]\n",
    "parquet_files = sorted(parquet_files)\n",
    "parquet_files"
   ]
  },
  {
   "cell_type": "code",
   "execution_count": 12,
   "id": "fe18e2c5",
   "metadata": {},
   "outputs": [],
   "source": [
    "ah_df = pd.read_parquet(parquet_files[0], engine=\"pyarrow\")\n",
    "jumbo_df =  pd.read_parquet(parquet_files[1], engine=\"pyarrow\")\n",
    "lidl_df =  pd.read_parquet(parquet_files[2], engine=\"pyarrow\")\n",
    "plus_df =  pd.read_parquet(parquet_files[3], engine=\"pyarrow\")"
   ]
  },
  {
   "cell_type": "code",
   "execution_count": 13,
   "id": "153e890a",
   "metadata": {},
   "outputs": [
    {
     "data": {
      "text/plain": [
       "array(['5011157996592', '8718781600624', '8718781601133', ...,\n",
       "       '3154230812401', '5060108450959', '5430002434988'], dtype=object)"
      ]
     },
     "execution_count": 13,
     "metadata": {},
     "output_type": "execute_result"
    }
   ],
   "source": [
    "ah_df.ean_number.unique()"
   ]
  },
  {
   "cell_type": "code",
   "execution_count": 14,
   "id": "2f2c1718",
   "metadata": {},
   "outputs": [
    {
     "data": {
      "text/plain": [
       "array(['2239490000000', '2239720000000', '2239290000000', ...,\n",
       "       '2196590000000', '2192050000000', '2192480000000'], dtype=object)"
      ]
     },
     "execution_count": 14,
     "metadata": {},
     "output_type": "execute_result"
    }
   ],
   "source": [
    "jumbo_df.ean_number.unique()"
   ]
  },
  {
   "cell_type": "code",
   "execution_count": 18,
   "id": "e2944be9",
   "metadata": {},
   "outputs": [
    {
     "data": {
      "text/plain": [
       "array(['92775.0', '22571.0', '51009.0', ..., '418083', '418062', '354648'],\n",
       "      dtype=object)"
      ]
     },
     "execution_count": 18,
     "metadata": {},
     "output_type": "execute_result"
    }
   ],
   "source": [
    "lidl_df.ean_number.unique()"
   ]
  },
  {
   "cell_type": "code",
   "execution_count": 19,
   "id": "b44524d2",
   "metadata": {},
   "outputs": [
    {
     "data": {
      "text/plain": [
       "array(['8710624475727', '8710624701123', '8710624865429', ...,\n",
       "       '8718322370849', '8718322583935', '3392780004321'], dtype=object)"
      ]
     },
     "execution_count": 19,
     "metadata": {},
     "output_type": "execute_result"
    }
   ],
   "source": [
    "plus_df.ean_number.unique()"
   ]
  }
 ],
 "metadata": {
  "kernelspec": {
   "display_name": "Python 3 (ipykernel)",
   "language": "python",
   "name": "python3"
  },
  "language_info": {
   "codemirror_mode": {
    "name": "ipython",
    "version": 3
   },
   "file_extension": ".py",
   "mimetype": "text/x-python",
   "name": "python",
   "nbconvert_exporter": "python",
   "pygments_lexer": "ipython3",
   "version": "3.10.12"
  }
 },
 "nbformat": 4,
 "nbformat_minor": 5
}
