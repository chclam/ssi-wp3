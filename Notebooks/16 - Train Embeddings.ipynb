{
 "cells": [
  {
   "cell_type": "code",
   "execution_count": 1,
   "id": "7ecbe476",
   "metadata": {},
   "outputs": [],
   "source": [
    "import pandas as pd\n",
    "import os "
   ]
  },
  {
   "cell_type": "code",
   "execution_count": 2,
   "id": "494fc78f",
   "metadata": {},
   "outputs": [],
   "source": [
    "data_directory = \"/netappdata/ssi_tdjg/data/ssi/\"\n",
    "features_directory = os.path.join(data_directory, \"feature_extraction\")"
   ]
  },
  {
   "cell_type": "code",
   "execution_count": 3,
   "id": "9687178a",
   "metadata": {},
   "outputs": [],
   "source": [
    "hf_labse_features_filename = os.path.join(features_directory, \"ssi_hf_labse_unique_values.parquet\")"
   ]
  },
  {
   "cell_type": "code",
   "execution_count": 4,
   "id": "38266076",
   "metadata": {},
   "outputs": [],
   "source": [
    "coicop_level = \"coicop_level_1\""
   ]
  },
  {
   "cell_type": "code",
   "execution_count": 5,
   "id": "9cceb698",
   "metadata": {},
   "outputs": [
    {
     "data": {
      "text/html": [
       "<div>\n",
       "<style scoped>\n",
       "    .dataframe tbody tr th:only-of-type {\n",
       "        vertical-align: middle;\n",
       "    }\n",
       "\n",
       "    .dataframe tbody tr th {\n",
       "        vertical-align: top;\n",
       "    }\n",
       "\n",
       "    .dataframe thead th {\n",
       "        text-align: right;\n",
       "    }\n",
       "</style>\n",
       "<table border=\"1\" class=\"dataframe\">\n",
       "  <thead>\n",
       "    <tr style=\"text-align: right;\">\n",
       "      <th></th>\n",
       "      <th>receipt_text</th>\n",
       "      <th>coicop_level_1</th>\n",
       "    </tr>\n",
       "  </thead>\n",
       "  <tbody>\n",
       "    <tr>\n",
       "      <th>0</th>\n",
       "      <td>tilda rice</td>\n",
       "      <td>01</td>\n",
       "    </tr>\n",
       "    <tr>\n",
       "      <th>1</th>\n",
       "      <td>lassie built</td>\n",
       "      <td>01</td>\n",
       "    </tr>\n",
       "    <tr>\n",
       "      <th>2</th>\n",
       "      <td>vliesrijst</td>\n",
       "      <td>01</td>\n",
       "    </tr>\n",
       "    <tr>\n",
       "      <th>3</th>\n",
       "      <td>lassie rijst</td>\n",
       "      <td>01</td>\n",
       "    </tr>\n",
       "    <tr>\n",
       "      <th>5</th>\n",
       "      <td>pablos quino</td>\n",
       "      <td>01</td>\n",
       "    </tr>\n",
       "  </tbody>\n",
       "</table>\n",
       "</div>"
      ],
      "text/plain": [
       "   receipt_text coicop_level_1\n",
       "0    tilda rice             01\n",
       "1  lassie built             01\n",
       "2    vliesrijst             01\n",
       "3  lassie rijst             01\n",
       "5  pablos quino             01"
      ]
     },
     "execution_count": 5,
     "metadata": {},
     "output_type": "execute_result"
    }
   ],
   "source": [
    "hf_labse_features = pd.read_parquet(hf_labse_features_filename, engine=\"pyarrow\")\n",
    "hf_labse_features = hf_labse_features[[\"receipt_text\", coicop_level]]\n",
    "hf_labse_features.head()"
   ]
  },
  {
   "cell_type": "code",
   "execution_count": 6,
   "id": "6a064d43",
   "metadata": {},
   "outputs": [],
   "source": [
    "from sklearn.model_selection import train_test_split\n",
    "from sklearn.metrics import classification_report\n",
    "from sklearn.ensemble import RandomForestClassifier\n",
    "\n",
    "def train_classifier(train_dataframe: pd.DataFrame, clf = RandomForestClassifier(), coicop_level: str = \"coicop_level_1\"):\n",
    "    clf.fit(train_dataframe.features.values.tolist(), train_dataframe[coicop_level].values.tolist())\n",
    "    return clf\n",
    "\n",
    "def predict(clf, test_dataframe: pd.DataFrame, coicop_level: str = \"coicop_level_1\") -> pd.DataFrame:\n",
    "    y_pred = clf.predict(test_dataframe.features.values.tolist())\n",
    "    return pd.DataFrame(classification_report(test_dataframe[coicop_level].values.tolist(), y_pred, output_dict=True)).transpose()\n",
    "\n",
    "def train_and_predict(dataframe: pd.DataFrame, clf = RandomForestClassifier(), coicop_level: str = \"coicop_level_1\", test_size: float = 0.2, random_state: int = 42):\n",
    "    train_dataframe, test_dataframe = train_test_split(dataframe, test_size=0.2, stratify=dataframe[coicop_level], random_state=random_state)\n",
    "    clf = train_classifier(train_dataframe, clf, coicop_level)\n",
    "    return predict(clf, test_dataframe, coicop_level)"
   ]
  },
  {
   "cell_type": "code",
   "execution_count": 7,
   "id": "f0f6aaef",
   "metadata": {},
   "outputs": [
    {
     "name": "stderr",
     "output_type": "stream",
     "text": [
      "/usr/local/lib/python3.10/dist-packages/tqdm/auto.py:21: TqdmWarning: IProgress not found. Please update jupyter and ipywidgets. See https://ipywidgets.readthedocs.io/en/stable/user_install.html\n",
      "  from .autonotebook import tqdm as notebook_tqdm\n"
     ]
    }
   ],
   "source": [
    "# From: https://huggingface.co/docs/transformers/training\n",
    "\n",
    "from typing import Tuple\n",
    "from datasets import Dataset\n",
    "\n",
    "\n",
    "def split_data(dataframe: pd.DataFrame, coicop_level: str = \"coicop_level_1\", test_size: float = 0.2, random_state: int = 42) -> Tuple[Dataset, Dataset]:\n",
    "    train_dataframe, test_dataframe = train_test_split(dataframe, test_size=test_size, stratify=dataframe[coicop_level], random_state=random_state)\n",
    "    \n",
    "    train_dataframe[\"label\"] = train_dataframe[coicop_level]\n",
    "    train_df = Dataset.from_pandas(train_dataframe)  \n",
    "    train_df = train_df.class_encode_column(\"label\")\n",
    "    \n",
    "    test_dataframe[\"label\"] = test_dataframe[coicop_level]\n",
    "    test_df = Dataset.from_pandas(test_dataframe)\n",
    "    test_df = test_df.class_encode_column(\"label\")\n",
    "    \n",
    "    return train_df, test_df"
   ]
  },
  {
   "cell_type": "code",
   "execution_count": 8,
   "id": "662ab114",
   "metadata": {},
   "outputs": [
    {
     "name": "stderr",
     "output_type": "stream",
     "text": [
      "Casting to class labels: 100% 219268/219268 [00:00<00:00, 454232.19 examples/s]\n",
      "Casting to class labels: 100% 54818/54818 [00:00<00:00, 452738.72 examples/s]\n"
     ]
    }
   ],
   "source": [
    "train_df, test_df = split_data(hf_labse_features, coicop_level=coicop_level)"
   ]
  },
  {
   "cell_type": "code",
   "execution_count": 9,
   "id": "2a1e3692",
   "metadata": {},
   "outputs": [
    {
     "name": "stderr",
     "output_type": "stream",
     "text": [
      "Map: 100% 219268/219268 [00:48<00:00, 4524.75 examples/s]\n",
      "Map: 100% 54818/54818 [00:12<00:00, 4561.00 examples/s]\n"
     ]
    }
   ],
   "source": [
    "from transformers import AutoTokenizer\n",
    "\n",
    "model_name = \"sentence-transformers/LaBSE\"\n",
    "\n",
    "tokenizer = AutoTokenizer.from_pretrained(model_name)\n",
    "\n",
    "def tokenize_function(data, text_column: str = \"receipt_text\", padding: str = \"max_length\", truncation=True):\n",
    "    receipt_texts = data[text_column]\n",
    "    tokens = tokenizer(receipt_texts, padding=\"max_length\")\n",
    "    return tokens\n",
    "\n",
    "train_df = train_df.map(tokenize_function, batched=True)\n",
    "test_df = test_df.map(tokenize_function, batched=True)"
   ]
  },
  {
   "cell_type": "code",
   "execution_count": 10,
   "id": "4aff618e",
   "metadata": {},
   "outputs": [],
   "source": [
    "train_df = train_df.remove_columns([\"receipt_text\"])\n",
    "test_df = test_df.remove_columns([\"receipt_text\"])"
   ]
  },
  {
   "cell_type": "code",
   "execution_count": 11,
   "id": "ff118dbf",
   "metadata": {},
   "outputs": [
    {
     "data": {
      "text/plain": [
       "Dataset({\n",
       "    features: ['coicop_level_1', 'label', '__index_level_0__', 'input_ids', 'token_type_ids', 'attention_mask'],\n",
       "    num_rows: 219268\n",
       "})"
      ]
     },
     "execution_count": 11,
     "metadata": {},
     "output_type": "execute_result"
    }
   ],
   "source": [
    "train_df"
   ]
  },
  {
   "cell_type": "code",
   "execution_count": 12,
   "id": "e460e91d",
   "metadata": {},
   "outputs": [
    {
     "data": {
      "text/plain": [
       "Dataset({\n",
       "    features: ['coicop_level_1', 'label', '__index_level_0__', 'input_ids', 'token_type_ids', 'attention_mask'],\n",
       "    num_rows: 54818\n",
       "})"
      ]
     },
     "execution_count": 12,
     "metadata": {},
     "output_type": "execute_result"
    }
   ],
   "source": [
    "test_df"
   ]
  },
  {
   "cell_type": "code",
   "execution_count": 13,
   "id": "4cacde97",
   "metadata": {},
   "outputs": [
    {
     "data": {
      "text/plain": [
       "9"
      ]
     },
     "execution_count": 13,
     "metadata": {},
     "output_type": "execute_result"
    }
   ],
   "source": [
    "number_of_categories = hf_labse_features[coicop_level].nunique()\n",
    "number_of_categories"
   ]
  },
  {
   "cell_type": "code",
   "execution_count": null,
   "id": "99d9a527",
   "metadata": {},
   "outputs": [],
   "source": [
    "from transformers import AutoModelForSequenceClassification\n",
    "\n",
    "model = AutoModelForSequenceClassification.from_pretrained(model_name, num_labels=number_of_categories)"
   ]
  },
  {
   "cell_type": "code",
   "execution_count": null,
   "id": "40a28284",
   "metadata": {},
   "outputs": [],
   "source": [
    "from transformers import TrainingArguments\n",
    "\n",
    "batch_size = 64\n",
    "training_args = TrainingArguments(\n",
    "    output_dir=\"hf_output\", \n",
    "    evaluation_strategy=\"epoch\",\n",
    "    per_device_train_batch_size=batch_size,\n",
    "    per_device_eval_batch_size=batch_size\n",
    ")"
   ]
  },
  {
   "cell_type": "code",
   "execution_count": null,
   "id": "19d16eb2",
   "metadata": {},
   "outputs": [],
   "source": [
    "def compute_metrics(eval_pred):\n",
    "    logits, labels = eval_pred\n",
    "    predictions = np.argmax(logits, axis=-1)\n",
    "    return metric.compute(predictions=predictions, references=labels)"
   ]
  },
  {
   "cell_type": "code",
   "execution_count": null,
   "id": "fcd98f55",
   "metadata": {},
   "outputs": [],
   "source": [
    "import numpy as np\n",
    "import evaluate\n",
    "\n",
    "metric = evaluate.load(\"f1\")"
   ]
  },
  {
   "cell_type": "code",
   "execution_count": null,
   "id": "033a573a",
   "metadata": {},
   "outputs": [],
   "source": [
    "from transformers import Trainer\n",
    "\n",
    "trainer = Trainer(\n",
    "    model=model,\n",
    "    args=training_args,\n",
    "    train_dataset=train_df,\n",
    "    eval_dataset=test_df,\n",
    "    compute_metrics=compute_metrics\n",
    ")"
   ]
  },
  {
   "cell_type": "code",
   "execution_count": null,
   "id": "4fb135b5",
   "metadata": {},
   "outputs": [],
   "source": [
    "trainer.train()"
   ]
  },
  {
   "cell_type": "code",
   "execution_count": null,
   "id": "8409fcf8",
   "metadata": {},
   "outputs": [],
   "source": []
  }
 ],
 "metadata": {
  "kernelspec": {
   "display_name": "Python 3 (ipykernel)",
   "language": "python",
   "name": "python3"
  },
  "language_info": {
   "codemirror_mode": {
    "name": "ipython",
    "version": 3
   },
   "file_extension": ".py",
   "mimetype": "text/x-python",
   "name": "python",
   "nbconvert_exporter": "python",
   "pygments_lexer": "ipython3",
   "version": "3.10.12"
  }
 },
 "nbformat": 4,
 "nbformat_minor": 5
}
