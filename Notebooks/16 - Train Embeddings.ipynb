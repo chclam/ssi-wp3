{
 "cells": [
  {
   "cell_type": "code",
   "execution_count": null,
   "id": "176d0a61",
   "metadata": {},
   "outputs": [],
   "source": [
    "import pandas as pd\n",
    "import os "
   ]
  },
  {
   "cell_type": "code",
   "execution_count": null,
   "id": "6578afe1",
   "metadata": {},
   "outputs": [],
   "source": [
    "output_directory = './hf_output'\n",
    "epochs = 3\n",
    "batch_size = 32\n",
    "\n",
    "input_column = \"receipt_text\"\n",
    "label_column = \"coicop_level_1\"\n",
    "evaluation_function = \"f1\"\n",
    "evaluation_strategy=\"epoch\""
   ]
  },
  {
   "cell_type": "code",
   "execution_count": null,
   "id": "fbeb6bd3",
   "metadata": {},
   "outputs": [],
   "source": [
    "data_directory = \"/netappdata/ssi_tdjg/data/ssi/\"\n",
    "features_directory = os.path.join(data_directory, \"feature_extraction\")"
   ]
  },
  {
   "cell_type": "code",
   "execution_count": null,
   "id": "2e54b188",
   "metadata": {},
   "outputs": [],
   "source": [
    "hf_labse_features_filename = os.path.join(features_directory, \"ssi_hf_labse_unique_values.parquet\")"
   ]
  },
  {
   "cell_type": "code",
   "execution_count": null,
   "id": "531125a2",
   "metadata": {},
   "outputs": [],
   "source": [
    "hf_labse_features = pd.read_parquet(hf_labse_features_filename, engine=\"pyarrow\")\n",
    "hf_labse_features = hf_labse_features[[input_column, label_column]]\n",
    "hf_labse_features.head()"
   ]
  },
  {
   "cell_type": "code",
   "execution_count": null,
   "id": "12c223f1",
   "metadata": {},
   "outputs": [],
   "source": [
    "# From: https://huggingface.co/docs/transformers/training\n",
    "\n",
    "from typing import Tuple\n",
    "from sklearn.model_selection import train_test_split\n",
    "from datasets import Dataset\n",
    "\n",
    "\n",
    "def split_data(dataframe: pd.DataFrame, coicop_level: str = \"coicop_level_1\", test_size: float = 0.2, random_state: int = 42) -> Tuple[Dataset, Dataset]:\n",
    "    train_dataframe, test_dataframe = train_test_split(dataframe, test_size=test_size, stratify=dataframe[coicop_level], random_state=random_state)\n",
    "    \n",
    "    train_dataframe[\"label\"] = train_dataframe[coicop_level]\n",
    "    train_df = Dataset.from_pandas(train_dataframe)  \n",
    "    train_df = train_df.class_encode_column(\"label\")\n",
    "    \n",
    "    test_dataframe[\"label\"] = test_dataframe[coicop_level]\n",
    "    test_df = Dataset.from_pandas(test_dataframe)\n",
    "    test_df = test_df.class_encode_column(\"label\")\n",
    "    \n",
    "    return train_df, test_df"
   ]
  },
  {
   "cell_type": "code",
   "execution_count": null,
   "id": "039ab3f8",
   "metadata": {},
   "outputs": [],
   "source": [
    "train_df, test_df = split_data(hf_labse_features, coicop_level=label_column)"
   ]
  },
  {
   "cell_type": "code",
   "execution_count": null,
   "id": "67fcb618",
   "metadata": {},
   "outputs": [],
   "source": [
    "from transformers import AutoTokenizer\n",
    "from functools import partial\n",
    "\n",
    "model_name = \"sentence-transformers/LaBSE\"\n",
    "\n",
    "tokenizer = AutoTokenizer.from_pretrained(model_name)\n",
    "\n",
    "def tokenize_function(data, text_column: str = \"receipt_text\", padding: str = \"max_length\", truncation=True):\n",
    "    receipt_texts = data[text_column]\n",
    "    tokens = tokenizer(receipt_texts, padding=\"max_length\")\n",
    "    return tokens\n",
    "\n",
    "map_function = partial(tokenize_function, text_column=input_column)\n",
    "\n",
    "train_df = train_df.map(map_function, batched=True)\n",
    "test_df = test_df.map(map_function, batched=True)"
   ]
  },
  {
   "cell_type": "code",
   "execution_count": null,
   "id": "bd41616e",
   "metadata": {},
   "outputs": [],
   "source": [
    "train_df = train_df.remove_columns([input_column])\n",
    "test_df = test_df.remove_columns([input_column])"
   ]
  },
  {
   "cell_type": "code",
   "execution_count": null,
   "id": "7e684b1a",
   "metadata": {},
   "outputs": [],
   "source": [
    "train_df"
   ]
  },
  {
   "cell_type": "code",
   "execution_count": null,
   "id": "33358391",
   "metadata": {},
   "outputs": [],
   "source": [
    "test_df"
   ]
  },
  {
   "cell_type": "code",
   "execution_count": null,
   "id": "33ac8057",
   "metadata": {},
   "outputs": [],
   "source": [
    "number_of_categories = hf_labse_features[label_column].nunique()\n",
    "number_of_categories"
   ]
  },
  {
   "cell_type": "code",
   "execution_count": null,
   "id": "15bfa946",
   "metadata": {},
   "outputs": [],
   "source": [
    "from transformers import AutoModelForSequenceClassification\n",
    "\n",
    "model = AutoModelForSequenceClassification.from_pretrained(model_name, num_labels=number_of_categories)"
   ]
  },
  {
   "cell_type": "code",
   "execution_count": null,
   "id": "80f9fb69",
   "metadata": {},
   "outputs": [],
   "source": [
    "from transformers import TrainingArguments\n",
    "\n",
    "\n",
    "training_args = TrainingArguments(\n",
    "    output_dir=output_directory, \n",
    "    evaluation_strategy=evaluation_strategy,\n",
    "    num_train_epochs=epochs,\n",
    "    per_device_train_batch_size=batch_size,\n",
    "    per_device_eval_batch_size=batch_size\n",
    ")"
   ]
  },
  {
   "cell_type": "code",
   "execution_count": null,
   "id": "a6379124",
   "metadata": {},
   "outputs": [],
   "source": [
    "import numpy as np\n",
    "\n",
    "def compute_metrics(eval_pred):\n",
    "    logits, labels = eval_pred\n",
    "    predictions = np.argmax(logits, axis=-1)\n",
    "    return metric.compute(predictions=predictions, references=labels)"
   ]
  },
  {
   "cell_type": "code",
   "execution_count": null,
   "id": "29be1508",
   "metadata": {},
   "outputs": [],
   "source": [
    "\n",
    "import evaluate\n",
    "\n",
    "metric = evaluate.load(evaluation_function)"
   ]
  },
  {
   "cell_type": "code",
   "execution_count": null,
   "id": "7f49b1a6",
   "metadata": {},
   "outputs": [],
   "source": [
    "from transformers import Trainer\n",
    "\n",
    "trainer = Trainer(\n",
    "    model=model,\n",
    "    args=training_args,\n",
    "    train_dataset=train_df,\n",
    "    eval_dataset=test_df,\n",
    "    compute_metrics=compute_metrics\n",
    ")"
   ]
  },
  {
   "cell_type": "code",
   "execution_count": null,
   "id": "4bc051d8",
   "metadata": {},
   "outputs": [],
   "source": [
    "trainer.train()"
   ]
  }
 ],
 "metadata": {
  "kernelspec": {
   "display_name": "Python 3 (ipykernel)",
   "language": "python",
   "name": "python3"
  },
  "language_info": {
   "codemirror_mode": {
    "name": "ipython",
    "version": 3
   },
   "file_extension": ".py",
   "mimetype": "text/x-python",
   "name": "python",
   "nbconvert_exporter": "python",
   "pygments_lexer": "ipython3",
   "version": "3.10.12"
  }
 },
 "nbformat": 4,
 "nbformat_minor": 5
}
