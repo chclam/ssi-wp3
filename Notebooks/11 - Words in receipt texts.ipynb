{
 "cells": [
  {
   "cell_type": "code",
   "execution_count": null,
   "id": "settled-maker",
   "metadata": {},
   "outputs": [],
   "source": [
    "import pandas as pd\n",
    "from dotenv import load_dotenv\n",
    "from pathlib import Path\n",
    "import os\n",
    "\n",
    "# load environment variables from .env file for project\n",
    "dotenv_path = Path('../.env')\n",
    "load_dotenv(dotenv_path=dotenv_path)\n",
    "\n",
    "data_directory = os.getenv(\"OUTPUT_DIRECTORY\")\n",
    "feature_directory = os.path.join(data_directory, \"features\")"
   ]
  },
  {
   "cell_type": "code",
   "execution_count": null,
   "id": "hydraulic-detector",
   "metadata": {},
   "outputs": [],
   "source": [
    "lidl_df = pd.read_parquet(os.path.join(data_directory, \"ssi_lidl_revenue.parquet\"), engine=\"pyarrow\")\n",
    "lidl_df.rename(columns={\"bg_number\": \"supermarket_id\", \"ean_name\": \"receipt_text\"}, inplace=True)\n",
    "lidl_df.receipt_text = lidl_feature_df.receipt_text.str.replace('[^0-9a-zA-Z.,-/ ]', '', regex=True).str.lstrip().str.rstrip().str.lower()\n",
    "lidl_df.head()"
   ]
  },
  {
   "cell_type": "code",
   "execution_count": null,
   "id": "green-idaho",
   "metadata": {},
   "outputs": [],
   "source": [
    "unique_texts_per_month = lidl_df.groupby(by=[\"year_month\"])[\"receipt_text\"].nunique()\n",
    "unique_texts_per_month = unique_texts_per_month.reset_index()\n",
    "unique_texts_per_month"
   ]
  },
  {
   "cell_type": "code",
   "execution_count": null,
   "id": "auburn-excuse",
   "metadata": {},
   "outputs": [],
   "source": [
    "unique_eans_per_month = lidl_df.groupby(by=[\"year_month\"])[\"ean_number\"].nunique()\n",
    "unique_eans_per_month = unique_eans_per_month.reset_index()\n",
    "unique_eans_per_month"
   ]
  },
  {
   "cell_type": "code",
   "execution_count": null,
   "id": "medieval-commons",
   "metadata": {},
   "outputs": [],
   "source": [
    "unique_text_eans_per_month = unique_texts_per_month.merge(unique_eans_per_month, on=[\"year_month\"])\n",
    "unique_text_eans_per_month"
   ]
  },
  {
   "cell_type": "code",
   "execution_count": null,
   "id": "patent-hygiene",
   "metadata": {},
   "outputs": [],
   "source": [
    "unique_text_eans_per_month.plot(x=\"year_month\")"
   ]
  },
  {
   "cell_type": "code",
   "execution_count": null,
   "id": "growing-crime",
   "metadata": {},
   "outputs": [],
   "source": [
    "unique_text_eans_per_month.plot(x=\"year_month\", title=\"Number of unique texts/ean numbers per month\").figure.savefig(os.path.join(\"plots\", \"unique_receipt_texts_eans_per_month.png\"))"
   ]
  },
  {
   "cell_type": "code",
   "execution_count": null,
   "id": "aboriginal-manitoba",
   "metadata": {},
   "outputs": [],
   "source": [
    "unique_texts_per_month_coicop = lidl_df.groupby(by=[\"year_month\", \"coicop_level_1\"])[\"receipt_text\"].nunique()\n",
    "unique_texts_per_month_coicop = unique_texts_per_month_coicop.reset_index()\n",
    "unique_texts_per_month_coicop"
   ]
  },
  {
   "cell_type": "code",
   "execution_count": null,
   "id": "expanded-creativity",
   "metadata": {},
   "outputs": [],
   "source": [
    "unique_eans_per_month_coicop = lidl_df.groupby(by=[\"year_month\", \"coicop_level_1\"])[\"ean_number\"].nunique()\n",
    "unique_eans_per_month_coicop = unique_eans_per_month_coicop.reset_index()\n",
    "unique_eans_per_month_coicop"
   ]
  },
  {
   "cell_type": "code",
   "execution_count": null,
   "id": "completed-dover",
   "metadata": {},
   "outputs": [],
   "source": [
    "unique_text_eans_per_month_coicop = unique_texts_per_month_coicop.merge(unique_eans_per_month_coicop, on=[\"year_month\", \"coicop_level_1\"])\n",
    "unique_text_eans_per_month_coicop"
   ]
  },
  {
   "cell_type": "code",
   "execution_count": null,
   "id": "recreational-rapid",
   "metadata": {},
   "outputs": [],
   "source": [
    "for coicop_level in unique_text_eans_per_month_coicop.coicop_level_1.unique():\n",
    "    unique_text_eans_per_month_coicop_level = unique_text_eans_per_month_coicop[unique_text_eans_per_month_coicop.coicop_level_1 == coicop_level]\n",
    "    unique_text_eans_per_month_coicop_level.plot(x=\"year_month\", title=f\"Number of unique texts/eans per month for coicop {coicop_level}\").figure.savefig(os.path.join(\"plots\", f\"unique_receipt_texts_eans_per_month_coicop_{coicop_level}.png\"))"
   ]
  },
  {
   "cell_type": "code",
   "execution_count": null,
   "id": "happy-profile",
   "metadata": {},
   "outputs": [],
   "source": [
    "def plot_unique_counts(dataframe: pd.DataFrame, coicop_level_column:str):\n",
    "    unique_texts_per_month_coicop = dataframe.groupby(by=[\"year_month\", coicop_level_column])[\"receipt_text\"].nunique()\n",
    "    unique_texts_per_month_coicop = unique_texts_per_month_coicop.reset_index()\n",
    "\n",
    "    unique_eans_per_month_coicop = dataframe.groupby(by=[\"year_month\", coicop_level_column])[\"ean_number\"].nunique()\n",
    "    unique_eans_per_month_coicop = unique_eans_per_month_coicop.reset_index()\n",
    "\n",
    "    unique_text_eans_per_month_coicop = unique_texts_per_month_coicop.merge(unique_eans_per_month_coicop, on=[\"year_month\", coicop_level_column])\n",
    "\n",
    "    for coicop_level in unique_text_eans_per_month_coicop[coicop_level_column].unique():\n",
    "        unique_text_eans_per_month_coicop_level = unique_text_eans_per_month_coicop[unique_text_eans_per_month_coicop[coicop_level_column] == coicop_level]\n",
    "        plot_figure = unique_text_eans_per_month_coicop_level.plot(x=\"year_month\", title=f\"Number of unique texts/eans per month for coicop {coicop_level}\").figure\n",
    "        plot_figure.savefig(os.path.join(\"plots\", f\"unique_receipt_texts_eans_per_month_coicop_{coicop_level}.png\"))\n",
    "        plt.close(plot_figure)\n",
    "\n",
    "coicop_level_columns = [column for column in lidl_df.columns.tolist() if \"coicop_level\" in column]\n",
    "for coicop_level_column in coicop_level_columns:\n",
    "    plot_unique_counts(lidl_df, coicop_level_column)"
   ]
  },
  {
   "cell_type": "code",
   "execution_count": null,
   "id": "charming-software",
   "metadata": {},
   "outputs": [],
   "source": [
    "words = [text for text_to_split in lidl_feature_df.receipt_text.values for text in text_to_split.split(\" \") if len(text) > 0]\n",
    "words[:10]"
   ]
  },
  {
   "cell_type": "code",
   "execution_count": null,
   "id": "equipped-collective",
   "metadata": {},
   "outputs": [],
   "source": [
    "import matplotlib.pyplot as plt\n",
    "from wordcloud import WordCloud\n",
    "\n",
    "w = WordCloud().generate(\" \".join(words))\n",
    "plt.imshow(w, interpolation='bilinear')\n",
    "plt.axis(\"off\")\n",
    "plt.show()"
   ]
  },
  {
   "cell_type": "code",
   "execution_count": null,
   "id": "announced-institution",
   "metadata": {},
   "outputs": [],
   "source": [
    "from collections import Counter\n",
    "\n",
    "word_lengths = [len(word) for word in words]\n",
    "counts = Counter(word_lengths)\n",
    "\n",
    "count_keys = sorted(counts.keys())\n",
    "\n",
    "ordered_counts = [(key, counts[key]) for key in count_keys]\n",
    "ordered_counts"
   ]
  },
  {
   "cell_type": "code",
   "execution_count": null,
   "id": "lightweight-investor",
   "metadata": {},
   "outputs": [],
   "source": [
    "plt.bar([c[0] for c in ordered_counts], [c[1] for c in ordered_counts])"
   ]
  },
  {
   "cell_type": "code",
   "execution_count": null,
   "id": "typical-throw",
   "metadata": {},
   "outputs": [],
   "source": [
    "w = WordCloud().generate(\" \".join([word for word in words if len(word) == 1]))\n",
    "plt.imshow(w, interpolation='bilinear')\n",
    "plt.axis(\"off\")\n",
    "plt.show()"
   ]
  },
  {
   "cell_type": "code",
   "execution_count": null,
   "id": "hazardous-element",
   "metadata": {},
   "outputs": [],
   "source": [
    "w = WordCloud().generate(\" \".join([word for word in words if len(word) == 3]))\n",
    "plt.imshow(w, interpolation='bilinear')\n",
    "plt.axis(\"off\")\n",
    "plt.show()"
   ]
  },
  {
   "cell_type": "code",
   "execution_count": null,
   "id": "fourth-quebec",
   "metadata": {},
   "outputs": [],
   "source": [
    "set([word for word in words if len(word) == 1])"
   ]
  }
 ],
 "metadata": {
  "kernelspec": {
   "display_name": "ssi",
   "language": "python",
   "name": "ssi"
  },
  "language_info": {
   "codemirror_mode": {
    "name": "ipython",
    "version": 3
   },
   "file_extension": ".py",
   "mimetype": "text/x-python",
   "name": "python",
   "nbconvert_exporter": "python",
   "pygments_lexer": "ipython3",
   "version": "3.11.5"
  }
 },
 "nbformat": 4,
 "nbformat_minor": 5
}
