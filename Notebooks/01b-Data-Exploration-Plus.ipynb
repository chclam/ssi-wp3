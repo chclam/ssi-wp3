{
 "cells": [
  {
   "cell_type": "code",
   "execution_count": null,
   "id": "egyptian-receiver",
   "metadata": {},
   "outputs": [],
   "source": [
    "import pandas as pd\n",
    "from dotenv import load_dotenv\n",
    "from pathlib import Path\n",
    "import os"
   ]
  },
  {
   "cell_type": "code",
   "execution_count": null,
   "id": "higher-supply",
   "metadata": {},
   "outputs": [],
   "source": [
    "# load environment variables from .env file for project\n",
    "dotenv_path = Path('../.env')\n",
    "load_dotenv(dotenv_path=dotenv_path)"
   ]
  },
  {
   "cell_type": "code",
   "execution_count": null,
   "id": "local-somerset",
   "metadata": {},
   "outputs": [],
   "source": [
    "data_directory = os.getenv(\"OUTPUT_DIRECTORY\")"
   ]
  },
  {
   "cell_type": "code",
   "execution_count": null,
   "id": "played-groove",
   "metadata": {},
   "outputs": [],
   "source": [
    "os.listdir(data_directory)"
   ]
  },
  {
   "cell_type": "markdown",
   "id": "prostate-twins",
   "metadata": {},
   "source": [
    "# Analysis of PLUS data\n",
    "\n",
    "We can see there are several files with PLUS data. Let's combine them first for an analysis."
   ]
  },
  {
   "cell_type": "code",
   "execution_count": null,
   "id": "harmful-interval",
   "metadata": {},
   "outputs": [],
   "source": [
    "plus_revenue_files = [os.path.join(data_directory, filename) for filename in os.listdir(data_directory) if filename.startswith(\"Omzet\") and \"Plus\" in filename]\n",
    "plus_revenue_files"
   ]
  },
  {
   "cell_type": "markdown",
   "id": "precious-torture",
   "metadata": {},
   "source": [
    "We have two files for Plus, see if they have the same headers:"
   ]
  },
  {
   "cell_type": "code",
   "execution_count": null,
   "id": "turkish-rabbit",
   "metadata": {},
   "outputs": [],
   "source": [
    "for revenue_file in plus_revenue_files:\n",
    "    print(list(pd.read_parquet(revenue_file, engine=\"pyarrow\").columns))"
   ]
  },
  {
   "cell_type": "markdown",
   "id": "determined-brief",
   "metadata": {},
   "source": [
    "They have the same headers. We can now combine them into one dataframe."
   ]
  },
  {
   "cell_type": "code",
   "execution_count": null,
   "id": "dressed-injury",
   "metadata": {},
   "outputs": [],
   "source": [
    "plus_df = pd.concat([pd.read_parquet(revenue_file, engine=\"pyarrow\") for revenue_file in plus_revenue_files])\n",
    "plus_df = plus_df.sort_values(by=[\"bg_number\",\"month\", \"coicop_number\"], ascending=[True, True, True]).reset_index(drop=True)\n",
    "plus_df.to_parquet(os.path.join(data_directory, \"ssi_omzet_eans_coicops_plus_202107_202308.parquet\"), engine=\"pyarrow\")"
   ]
  },
  {
   "cell_type": "code",
   "execution_count": null,
   "id": "temporal-egyptian",
   "metadata": {},
   "outputs": [],
   "source": [
    "plus_df.head(20)"
   ]
  },
  {
   "cell_type": "code",
   "execution_count": null,
   "id": "enhanced-height",
   "metadata": {},
   "outputs": [],
   "source": [
    "plus_df.tail(20)"
   ]
  },
  {
   "cell_type": "markdown",
   "id": "active-village",
   "metadata": {},
   "source": [
    "Now we have the combined dataset, let's check the length of the COICOP numbers again:"
   ]
  },
  {
   "cell_type": "code",
   "execution_count": null,
   "id": "ready-defensive",
   "metadata": {},
   "outputs": [],
   "source": [
    "plus_df.coicop_number.str.len().value_counts().reset_index()"
   ]
  },
  {
   "cell_type": "markdown",
   "id": "distinguished-producer",
   "metadata": {},
   "source": [
    "Like in the LIDL dataset, we have COICOP numbers with lenght 5 and with length 6. There are no COICOP numbers of length 0, however. Let's explore some COICOP numbers with length 5:"
   ]
  },
  {
   "cell_type": "code",
   "execution_count": null,
   "id": "green-ballet",
   "metadata": {},
   "outputs": [],
   "source": [
    "plus_df[plus_df.coicop_number.str.len() == 5].head(10)"
   ]
  },
  {
   "cell_type": "markdown",
   "id": "falling-salvation",
   "metadata": {},
   "source": [
    "And also some with length 6:"
   ]
  },
  {
   "cell_type": "code",
   "execution_count": null,
   "id": "viral-salmon",
   "metadata": {},
   "outputs": [],
   "source": [
    "plus_df[plus_df.coicop_number.str.len() == 6].head(10)"
   ]
  },
  {
   "cell_type": "markdown",
   "id": "computational-grove",
   "metadata": {},
   "source": [
    "Let's explore the different COICOP numbers with length 6 again:"
   ]
  },
  {
   "cell_type": "code",
   "execution_count": null,
   "id": "indian-campus",
   "metadata": {},
   "outputs": [],
   "source": [
    "plus_df[plus_df.coicop_number.str.len() == 6].coicop_number.value_counts()"
   ]
  },
  {
   "cell_type": "markdown",
   "id": "described-plant",
   "metadata": {},
   "source": [
    "It looks like there are only three different values for COICOP numbers with 6 digits:\n",
    "- 999999\n",
    "- 121320     \n",
    "- 123290    \n",
    "\n",
    "`999999` and `121320` were also present in the LIDL dataset. `123290` is a new value. Let's check the COICOP numbers with length 5:"
   ]
  },
  {
   "cell_type": "code",
   "execution_count": null,
   "id": "based-composite",
   "metadata": {},
   "outputs": [],
   "source": [
    "plus_df[plus_df.coicop_number.str.len() == 5].coicop_number.value_counts()"
   ]
  },
  {
   "cell_type": "markdown",
   "id": "theoretical-composer",
   "metadata": {},
   "source": [
    "There are 81 unique COICOP numbers with length 5, there seem to be a bit more COICOP categories than for LIDL:"
   ]
  },
  {
   "cell_type": "code",
   "execution_count": null,
   "id": "amazing-picking",
   "metadata": {},
   "outputs": [],
   "source": [
    "plus_df[plus_df.coicop_number.str.len() == 5].coicop_number.nunique()"
   ]
  },
  {
   "cell_type": "markdown",
   "id": "complimentary-grounds",
   "metadata": {},
   "source": [
    "It looks like again the leading zeroes for the COICOP divisions are ommited:"
   ]
  },
  {
   "cell_type": "code",
   "execution_count": null,
   "id": "continued-empire",
   "metadata": {},
   "outputs": [],
   "source": [
    "plus_df[plus_df.coicop_number.str.len() == 5].coicop_number.str.startswith(\"0\").sum()"
   ]
  },
  {
   "cell_type": "markdown",
   "id": "interior-address",
   "metadata": {},
   "source": [
    "Check the product descriptions for COICOP division 12, and check if they are the same categories as for LIDL:"
   ]
  },
  {
   "cell_type": "code",
   "execution_count": null,
   "id": "educational-rabbit",
   "metadata": {},
   "outputs": [],
   "source": [
    "plus_df[(plus_df.coicop_number.str.len() == 6) & (plus_df.coicop_number.str.startswith(\"12\"))].head(10)"
   ]
  },
  {
   "cell_type": "markdown",
   "id": "portable-result",
   "metadata": {},
   "source": [
    "Restore leading zeroes for COICOP division:"
   ]
  },
  {
   "cell_type": "code",
   "execution_count": null,
   "id": "fossil-delhi",
   "metadata": {},
   "outputs": [],
   "source": [
    "plus_df.loc[plus_df.coicop_number.str.len() == 5, 'coicop_number'] = plus_df[plus_df.coicop_number.str.len() == 5].coicop_number.apply(lambda s: f\"0{s}\")"
   ]
  },
  {
   "cell_type": "markdown",
   "id": "accepted-coffee",
   "metadata": {},
   "source": [
    "Check if all COICOP numbers are of length 6 now:"
   ]
  },
  {
   "cell_type": "code",
   "execution_count": null,
   "id": "enhanced-revision",
   "metadata": {},
   "outputs": [],
   "source": [
    "plus_df.coicop_number.str.len().value_counts().reset_index()"
   ]
  },
  {
   "cell_type": "markdown",
   "id": "particular-cedar",
   "metadata": {},
   "source": [
    "Derive COICOP division for Plus:"
   ]
  },
  {
   "cell_type": "code",
   "execution_count": null,
   "id": "progressive-better",
   "metadata": {},
   "outputs": [],
   "source": [
    "plus_df = plus_df[plus_df.coicop_number.str.len() == 6]\n",
    "plus_df['coicop_division'] = plus_df[plus_df.coicop_number.str.len() == 6].coicop_number.str[:2]\n",
    "plus_df.head()"
   ]
  },
  {
   "cell_type": "markdown",
   "id": "suburban-press",
   "metadata": {},
   "source": [
    "Count the number of products for each COICOP division:"
   ]
  },
  {
   "cell_type": "code",
   "execution_count": null,
   "id": "mounted-livestock",
   "metadata": {},
   "outputs": [],
   "source": [
    "plus_df.coicop_division.value_counts()"
   ]
  },
  {
   "cell_type": "code",
   "execution_count": null,
   "id": "responsible-vietnam",
   "metadata": {},
   "outputs": [],
   "source": [
    "plus_df.groupby(by=\"coicop_division\")[\"ean_number\"].nunique()"
   ]
  },
  {
   "cell_type": "code",
   "execution_count": null,
   "id": "acquired-russian",
   "metadata": {},
   "outputs": [],
   "source": [
    "plus_df.ean_number.nunique(), plus_df.groupby(by=\"coicop_division\")[\"ean_number\"].nunique().sum()"
   ]
  },
  {
   "cell_type": "code",
   "execution_count": null,
   "id": "desperate-canadian",
   "metadata": {},
   "outputs": [],
   "source": [
    "import numpy as np\n",
    "\n",
    "eans_per_group = plus_df.groupby(by=\"coicop_division\")[\"ean_number\"].apply(lambda x: set(x)).reset_index()\n",
    "\n",
    "number_of_divisions = len(eans_per_group.coicop_division)\n",
    "duplicates_df = pd.DataFrame(np.array([0 for _ in range(number_of_divisions**2)]).reshape(number_of_divisions,number_of_divisions), index=eans_per_group.coicop_division, columns=eans_per_group.coicop_division)\n",
    "for row, row_division in enumerate(eans_per_group.coicop_division):\n",
    "    for column, column_division in enumerate(eans_per_group.coicop_division):\n",
    "        row_eans = eans_per_group[eans_per_group.coicop_division == row_division][\"ean_number\"].values[0]\n",
    "        column_eans = eans_per_group[eans_per_group.coicop_division == column_division][\"ean_number\"].values[0]\n",
    "        common_elements = row_eans & column_eans\n",
    "        duplicates_df.loc[row_division, column_division] = len(common_elements)\n",
    "duplicates_df        "
   ]
  },
  {
   "cell_type": "code",
   "execution_count": null,
   "id": "polish-stations",
   "metadata": {},
   "outputs": [],
   "source": [
    "# Contains duplicate EANS across categories, 62289 contains many duplicate EANS, that's why the number do not add up?\n",
    "d = duplicates_df.to_numpy()\n",
    "number_of_duplicates = np.tril(d).sum() - np.diagonal(d).sum()\n",
    "number_of_duplicates, number_of_duplicates+plus_df.ean_number.nunique(), np.diagonal(d).sum(), plus_df.groupby(by=\"coicop_division\")[\"ean_number\"].nunique().sum()"
   ]
  },
  {
   "cell_type": "code",
   "execution_count": null,
   "id": "armed-crash",
   "metadata": {},
   "outputs": [],
   "source": [
    "plus_df.groupby(by=\"coicop_division\")[\"ean_number\"].nunique().sort_index().plot(kind=\"bar\")"
   ]
  },
  {
   "cell_type": "markdown",
   "id": "hispanic-plate",
   "metadata": {},
   "source": [
    "According to this barchart the following COICOP divisions are present in the Plus dataset:\n",
    "- 01 Food and non-alcoholic beverages\n",
    "- 02 Alcoholic beverages, tobacco and narcotics\n",
    "- 03 Clothing and footwear\n",
    "- 05 Furnishings, household equipment and routine household maintenance\n",
    "- 06 Health\n",
    "- *08 Information and communication* \n",
    "- 09 Recreation, sport and culture\n",
    "- 12 Insurance and financial services\n",
    "- 99 Does not exist in COICOP divisions, this is probably some CBS specific category?\n",
    "\n",
    "As we have seen earlier, the division 12 present in the list here, is probably mixed up with COICOP division 13 \"Personal care, social protection and miscellaneous goods and services\". There's one extra category (08) in comparison to LIDL. Also the distributions of the products are different to those of LIDL.coicop_division_descriptions = lidl_df.groupby(by=\"coicop_division\")[\"coicop_name\"].value_counts().reset_index()\n",
    "coicop_division_descriptions\n",
    "\n",
    "The Plus data also contains a column with COICOP descriptions. Let's see which divisions have which descriptions:"
   ]
  },
  {
   "cell_type": "code",
   "execution_count": null,
   "id": "specific-treasure",
   "metadata": {},
   "outputs": [],
   "source": [
    "coicop_division_descriptions = plus_df.groupby(by=[\"coicop_division\",\"coicop_name\"])[\"ean_number\"].nunique().reset_index().rename(columns={\"ean_number\": \"count\"})\n",
    "coicop_division_descriptions"
   ]
  },
  {
   "cell_type": "markdown",
   "id": "listed-membrane",
   "metadata": {},
   "source": [
    "How many unique products are there in plus:"
   ]
  },
  {
   "cell_type": "code",
   "execution_count": null,
   "id": "studied-sailing",
   "metadata": {},
   "outputs": [],
   "source": [
    "plus_df.ean_number.nunique()"
   ]
  },
  {
   "cell_type": "markdown",
   "id": "chemical-cosmetic",
   "metadata": {},
   "source": [
    "Let's analyze the product types for each COICOP division for Plus:"
   ]
  },
  {
   "cell_type": "code",
   "execution_count": null,
   "id": "impressed-vacuum",
   "metadata": {},
   "outputs": [],
   "source": [
    "coicop_division_descriptions[coicop_division_descriptions.coicop_division == \"01\"]"
   ]
  },
  {
   "cell_type": "markdown",
   "id": "dominant-meditation",
   "metadata": {},
   "source": [
    "All the products in COICOP division 01 are indeed Food related products"
   ]
  },
  {
   "cell_type": "code",
   "execution_count": null,
   "id": "dutch-disposal",
   "metadata": {},
   "outputs": [],
   "source": [
    "coicop_division_descriptions[coicop_division_descriptions.coicop_division == \"02\"]"
   ]
  },
  {
   "cell_type": "markdown",
   "id": "decimal-judgment",
   "metadata": {},
   "source": [
    "And the products in COICOP division 02 are either alcoholic beverages or tabacco products. Note that Plus also sells tabacco products whereas Lidl does not. Tabacco products should therefore not occur on a Lidl receipt."
   ]
  },
  {
   "cell_type": "code",
   "execution_count": null,
   "id": "forced-humidity",
   "metadata": {},
   "outputs": [],
   "source": [
    "coicop_division_descriptions[coicop_division_descriptions.coicop_division == \"03\"]"
   ]
  },
  {
   "cell_type": "markdown",
   "id": "coordinated-brass",
   "metadata": {},
   "source": [
    "Most products in COICOP division 03 are indeed Clothing products. However, \"Wasserijen en stomerijen\", i.e. \"Washing and drycleaning\" refer to services. Not sure these should be present in COICOP division 03."
   ]
  },
  {
   "cell_type": "code",
   "execution_count": null,
   "id": "convinced-investment",
   "metadata": {},
   "outputs": [],
   "source": [
    "coicop_division_descriptions[coicop_division_descriptions.coicop_division == \"05\"]"
   ]
  },
  {
   "cell_type": "markdown",
   "id": "stable-mortgage",
   "metadata": {},
   "source": [
    "The products in COICOP division 05 are indeed all related to \"Furnishings, household equipment and routine household maintenance\". More specifically, they seem related to COICOP groups:\n",
    "- 05.2 Household textiles\n",
    "- 05.4 Glassware, tableware and household utensils\n",
    "- 05.5 Tools and equipment for house and garden\n",
    "\n",
    "We have to check the futher division in COICOP groups later."
   ]
  },
  {
   "cell_type": "code",
   "execution_count": null,
   "id": "designed-school",
   "metadata": {},
   "outputs": [],
   "source": [
    "coicop_division_descriptions[coicop_division_descriptions.coicop_division == \"06\"]"
   ]
  },
  {
   "cell_type": "markdown",
   "id": "nuclear-meaning",
   "metadata": {},
   "source": [
    "Indeed all products in COICOP division 06 are related to \"Health\"."
   ]
  },
  {
   "cell_type": "code",
   "execution_count": null,
   "id": "finished-brown",
   "metadata": {},
   "outputs": [],
   "source": [
    "coicop_division_descriptions[coicop_division_descriptions.coicop_division == \"08\"]"
   ]
  },
  {
   "cell_type": "markdown",
   "id": "periodic-community",
   "metadata": {},
   "source": [
    "Indeed all products in COICOP division 08 are related to \"Information and Communication\". In specific, they seem to be related to COICOP group `08.3 - Information and communcation services`."
   ]
  },
  {
   "cell_type": "code",
   "execution_count": null,
   "id": "removed-forum",
   "metadata": {},
   "outputs": [],
   "source": [
    "coicop_division_descriptions[coicop_division_descriptions.coicop_division == \"09\"]"
   ]
  },
  {
   "cell_type": "markdown",
   "id": "medical-calibration",
   "metadata": {},
   "source": [
    "As with LIDL, the products in COICOP division 09 look all related to the broader COICOP description \"Recreation, sport and culture\". Especially, the products here look part of the following COICOP groups:\n",
    "- 09.1 Recreational durables\n",
    "- 09.2 Other recreational goods\n",
    "- 09.3 Garden products and pets\n",
    "- 09.4 Recreational services\n",
    "- 09.7 Newspapers, books and stationery"
   ]
  },
  {
   "cell_type": "code",
   "execution_count": null,
   "id": "found-spring",
   "metadata": {},
   "outputs": [],
   "source": [
    "coicop_division_descriptions[coicop_division_descriptions.coicop_division == \"12\"]"
   ]
  },
  {
   "cell_type": "markdown",
   "id": "capable-uncle",
   "metadata": {},
   "source": [
    "Again, the products in COICOP division 12 should be related to \"Insurance and financial services\". However, it looks like all the products and their descriptions here are instead \"Personal care, social protection and miscellaneous goods and services\". Thus, we think these products instead should have COICOP_division 13 instead."
   ]
  },
  {
   "cell_type": "code",
   "execution_count": null,
   "id": "reduced-style",
   "metadata": {},
   "outputs": [],
   "source": [
    "coicop_division_descriptions[coicop_division_descriptions.coicop_division == \"99\"]"
   ]
  },
  {
   "cell_type": "markdown",
   "id": "aerial-original",
   "metadata": {},
   "source": [
    "Again products with \"COICOP division\" 99 are part of an \"unknown\" category.\n",
    "\n",
    "\n",
    "Let's explore the COICOP divisions a bit further:"
   ]
  },
  {
   "cell_type": "code",
   "execution_count": null,
   "id": "extreme-bandwidth",
   "metadata": {},
   "outputs": [],
   "source": [
    "def split_coicop(coicop_column: pd.Series) -> pd.DataFrame:\n",
    "    return pd.DataFrame({\"coicop_number\": coicop_column, \n",
    "        \"coicop_division\": coicop_column.str[:2],\n",
    "        \"coicop_group\": coicop_column.str[:3],\n",
    "        \"coicop_class\": coicop_column.str[:4],\n",
    "        \"coicop_subclass\": coicop_column.str[:5],\n",
    "        \"coicop_subsubclass\": coicop_column,\n",
    "    })\n",
    "\n",
    "\n",
    "def get_category_counts(df: pd.DataFrame) -> pd.DataFrame:\n",
    "    unique_coicop = pd.Series(df[df.coicop_number.str.len() == 6].coicop_number.unique())\n",
    "    split_coicop_df = split_coicop(unique_coicop)\n",
    "    \n",
    "    #coicop_counts = df.coicop_number.value_counts().reset_index()\n",
    "    coicop_counts = df.groupby(by=[\"coicop_number\"])[\"ean_number\"].nunique().reset_index().rename(columns={\"ean_number\": \"count\"})\n",
    "    return split_coicop_df.merge(coicop_counts, on=\"coicop_number\")\n",
    "\n",
    "split_coicop_df = get_category_counts(plus_df)\n",
    "split_coicop_df"
   ]
  },
  {
   "cell_type": "code",
   "execution_count": null,
   "id": "honey-miniature",
   "metadata": {},
   "outputs": [],
   "source": [
    "import plotly.express as px\n",
    "from IPython.display import HTML\n",
    "\n",
    "fig = px.sunburst(split_coicop_df, path=split_coicop_df.columns[1:-1], values=\"count\")\n",
    "fig.write_html('plots/sunburst_coicop_plus.html')\n",
    "HTML(filename='plots/sunburst_coicop_plus.html')"
   ]
  },
  {
   "cell_type": "code",
   "execution_count": null,
   "id": "moderate-plaza",
   "metadata": {},
   "outputs": [],
   "source": [
    "monthly_product_counts = plus_df.groupby(\"month\")[\"ean_number\"].nunique()\n",
    "monthly_product_counts.plot()"
   ]
  },
  {
   "cell_type": "code",
   "execution_count": null,
   "id": "recovered-zambia",
   "metadata": {},
   "outputs": [],
   "source": [
    "monthly_product_counts = monthly_product_counts.reset_index()\n",
    "monthly_product_counts[\"year\"] = monthly_product_counts.month.str[:4]\n",
    "monthly_product_counts"
   ]
  },
  {
   "cell_type": "code",
   "execution_count": null,
   "id": "biological-wales",
   "metadata": {},
   "outputs": [],
   "source": [
    "import matplotlib.pyplot as plt\n",
    "\n",
    "years = monthly_product_counts.year.unique()\n",
    "monthly_product_counts = monthly_product_counts.set_index(\"month\")\n",
    "\n",
    "for year in years:\n",
    "    plt.figure()\n",
    "    monthly_product_counts[monthly_product_counts.year == year].plot()"
   ]
  },
  {
   "cell_type": "code",
   "execution_count": null,
   "id": "expressed-component",
   "metadata": {},
   "outputs": [],
   "source": [
    "monthly_product_counts = plus_df.groupby(by=[\"coicop_division\", \"month\"])[\"ean_number\"].nunique()\n",
    "monthly_product_counts.unstack(level=0).plot(subplots=True, rot=90, figsize=(10, 10), layout=(3,3))\n",
    "plt.tight_layout()"
   ]
  },
  {
   "cell_type": "code",
   "execution_count": null,
   "id": "lovely-syracuse",
   "metadata": {},
   "outputs": [],
   "source": [
    "monthly_product_counts = plus_df.groupby(by=[\"coicop_division\", \"month\"])[\"ean_number\"].nunique()\n",
    "monthly_product_counts.unstack(level=0).plot(kind=\"bar\", subplots=True, rot=90, figsize=(10, 10), layout=(3,3))\n",
    "plt.tight_layout()"
   ]
  },
  {
   "cell_type": "code",
   "execution_count": null,
   "id": "provincial-greene",
   "metadata": {},
   "outputs": [],
   "source": []
  }
 ],
 "metadata": {
  "kernelspec": {
   "display_name": "ssi",
   "language": "python",
   "name": "ssi"
  },
  "language_info": {
   "codemirror_mode": {
    "name": "ipython",
    "version": 3
   },
   "file_extension": ".py",
   "mimetype": "text/x-python",
   "name": "python",
   "nbconvert_exporter": "python",
   "pygments_lexer": "ipython3",
   "version": "3.11.5"
  }
 },
 "nbformat": 4,
 "nbformat_minor": 5
}
