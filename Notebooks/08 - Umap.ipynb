{
 "cells": [
  {
   "cell_type": "code",
   "execution_count": null,
   "id": "approved-idaho",
   "metadata": {},
   "outputs": [],
   "source": [
    "import pandas as pd\n",
    "from dotenv import load_dotenv\n",
    "from pathlib import Path\n",
    "import os\n",
    "\n",
    "# load environment variables from .env file for project\n",
    "dotenv_path = Path('../.env')\n",
    "load_dotenv(dotenv_path=dotenv_path)\n",
    "\n",
    "data_directory = os.getenv(\"OUTPUT_DIRECTORY\")\n",
    "feature_directory = os.path.join(data_directory, \"features\")"
   ]
  },
  {
   "cell_type": "code",
   "execution_count": null,
   "id": "running-potter",
   "metadata": {},
   "outputs": [],
   "source": [
    "lidl_feature_df = pd.read_parquet(os.path.join(feature_directory, \"ssi_lidl_spacy_nl_md_features.parquet\"), engine=\"pyarrow\")\n",
    "lidl_feature_df.rename(columns={\"bg_number\": \"supermarket_id\", \"ean_name\": \"receipt_text\", \"coicop_division\": \"coicop_level_1\"}, inplace=True)\n",
    "lidl_feature_df.head()"
   ]
  },
  {
   "cell_type": "code",
   "execution_count": null,
   "id": "judicial-behalf",
   "metadata": {},
   "outputs": [],
   "source": [
    "lidl_unique_df = lidl_feature_df.groupby([\"receipt_text\", \"coicop_level_1\"]).size().reset_index().rename(columns={0: 'count'})\n",
    "lidl_unique_df = lidl_unique_df[[\"receipt_text\",  \"coicop_level_1\"]]\n",
    "lidl_unique_df.head()"
   ]
  },
  {
   "cell_type": "code",
   "execution_count": null,
   "id": "strange-guitar",
   "metadata": {},
   "outputs": [],
   "source": [
    "import spacy\n",
    "\n",
    "nlp = spacy.load(\"nl_core_news_md\")"
   ]
  },
  {
   "cell_type": "code",
   "execution_count": null,
   "id": "everyday-incident",
   "metadata": {},
   "outputs": [],
   "source": [
    "lidl_unique_df[\"features\"] = [doc.vector for doc in nlp.pipe(lidl_unique_df[\"receipt_text\"], disable=[\"tagger\", \"parser\", \"ner\"])]"
   ]
  },
  {
   "cell_type": "code",
   "execution_count": null,
   "id": "detected-asbestos",
   "metadata": {},
   "outputs": [],
   "source": [
    "lidl_unique_df.head()"
   ]
  },
  {
   "cell_type": "code",
   "execution_count": null,
   "id": "vanilla-rover",
   "metadata": {},
   "outputs": [],
   "source": [
    "plus_feature_df = pd.read_parquet(os.path.join(feature_directory, \"ssi_plus_spacy_nl_md_features.parquet\"), engine=\"pyarrow\")\n",
    "plus_feature_df.head()"
   ]
  },
  {
   "cell_type": "code",
   "execution_count": null,
   "id": "innocent-purple",
   "metadata": {},
   "outputs": [],
   "source": [
    "plus_unique_df = plus_feature_df.groupby([\"receipt_text\", \"coicop_level_1\"]).size().reset_index().rename(columns={0: 'count'})\n",
    "plus_unique_df = plus_unique_df[[\"receipt_text\",  \"coicop_level_1\"]]"
   ]
  },
  {
   "cell_type": "code",
   "execution_count": null,
   "id": "compliant-valentine",
   "metadata": {},
   "outputs": [],
   "source": [
    "plus_unique_df[\"features\"] = [doc.vector for doc in nlp.pipe(plus_unique_df[\"receipt_text\"], disable=[\"tagger\", \"parser\", \"ner\"])]"
   ]
  },
  {
   "cell_type": "code",
   "execution_count": null,
   "id": "empirical-advantage",
   "metadata": {},
   "outputs": [],
   "source": [
    "plus_unique_df.head(10)"
   ]
  },
  {
   "cell_type": "code",
   "execution_count": null,
   "id": "bacterial-register",
   "metadata": {},
   "outputs": [],
   "source": [
    "len(plus_unique_df)"
   ]
  },
  {
   "cell_type": "code",
   "execution_count": null,
   "id": "abroad-tomato",
   "metadata": {},
   "outputs": [],
   "source": [
    "zero_vector_df = plus_unique_df[plus_unique_df[\"features\"].apply(lambda x: x.sum()) == 0]\n",
    "zero_vector_df"
   ]
  },
  {
   "cell_type": "code",
   "execution_count": null,
   "id": "amino-measurement",
   "metadata": {},
   "outputs": [],
   "source": [
    " next(nlp.pipe([\"PAPRIKA GEROOKT\"], disable=[\"tagger\", \"parser\", \"ner\"])).vector"
   ]
  },
  {
   "cell_type": "code",
   "execution_count": null,
   "id": "polish-rolling",
   "metadata": {},
   "outputs": [],
   "source": [
    " next(nlp.pipe([\"paprika gerookt\"], disable=[\"tagger\", \"parser\", \"ner\"])).vector"
   ]
  },
  {
   "cell_type": "code",
   "execution_count": null,
   "id": "removable-grove",
   "metadata": {},
   "outputs": [],
   "source": [
    " zero_vector_df[\"features_lower_case_text\"] = [doc.vector for doc in nlp.pipe(zero_vector_df[\"receipt_text\"].str.lower(), disable=[\"tagger\", \"parser\", \"ner\"])]"
   ]
  },
  {
   "cell_type": "code",
   "execution_count": null,
   "id": "advisory-bumper",
   "metadata": {},
   "outputs": [],
   "source": [
    "zero_vector_df"
   ]
  }
 ],
 "metadata": {
  "kernelspec": {
   "display_name": "ssi",
   "language": "python",
   "name": "ssi"
  },
  "language_info": {
   "codemirror_mode": {
    "name": "ipython",
    "version": 3
   },
   "file_extension": ".py",
   "mimetype": "text/x-python",
   "name": "python",
   "nbconvert_exporter": "python",
   "pygments_lexer": "ipython3",
   "version": "3.11.5"
  }
 },
 "nbformat": 4,
 "nbformat_minor": 5
}
