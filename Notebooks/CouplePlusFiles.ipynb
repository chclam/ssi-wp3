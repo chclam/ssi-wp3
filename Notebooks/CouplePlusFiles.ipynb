{
 "cells": [
  {
   "cell_type": "code",
   "execution_count": null,
   "id": "athletic-pharmacy",
   "metadata": {},
   "outputs": [],
   "source": [
    "import duckdb\n",
    "import pandas as pd\n",
    "from dotenv import load_dotenv\n",
    "from pathlib import Path\n",
    "import os\n",
    "\n",
    "# load environment variables from .env file for project\n",
    "dotenv_path = Path('../.env')\n",
    "load_dotenv(dotenv_path=dotenv_path)\n",
    "\n",
    "data_directory = os.getenv(\"OUTPUT_DIRECTORY\")"
   ]
  },
  {
   "cell_type": "code",
   "execution_count": null,
   "id": "federal-football",
   "metadata": {},
   "outputs": [],
   "source": [
    "os.listdir(data_directory)"
   ]
  },
  {
   "cell_type": "code",
   "execution_count": null,
   "id": "built-details",
   "metadata": {},
   "outputs": [],
   "source": [
    "duck_db_temp_dir = os.path.join(data_directory, \"duck_db_temp\")\n",
    "if not os.path.exists(duck_db_temp_dir):\n",
    "    os.makedirs(duck_db_temp_dir)"
   ]
  },
  {
   "cell_type": "code",
   "execution_count": null,
   "id": "demographic-voltage",
   "metadata": {},
   "outputs": [],
   "source": [
    "con = duckdb.connect(\"ssi_plus.db\", config={\"temp_directory\": duck_db_temp_dir})"
   ]
  },
  {
   "cell_type": "code",
   "execution_count": null,
   "id": "about-dubai",
   "metadata": {},
   "outputs": [],
   "source": [
    "con.sql(\"select current_setting('temp_directory')\")"
   ]
  },
  {
   "cell_type": "code",
   "execution_count": null,
   "id": "occasional-quantum",
   "metadata": {},
   "outputs": [],
   "source": [
    "revenue_filename = os.path.join(data_directory, 'ssi_plus_revenue.parquet')\n",
    "con.sql('drop table if exists plus_revenue')\n",
    "con.sql(f\"create table plus_revenue as select date_trunc('day', strptime(year_month, '%Y%m')) as start_date, last_day(strptime(year_month, '%Y%m')) as end_date, * from read_parquet('{revenue_filename}')\")\n",
    "con.sql(\"create index ean_idx on plus_revenue (ean_number)\")"
   ]
  },
  {
   "cell_type": "code",
   "execution_count": null,
   "id": "scenic-pennsylvania",
   "metadata": {},
   "outputs": [],
   "source": [
    "df = pd.read_parquet(revenue_filename, engine=\"pyarrow\")\n",
    "df.columns"
   ]
  },
  {
   "cell_type": "code",
   "execution_count": null,
   "id": "exposed-constitution",
   "metadata": {},
   "outputs": [],
   "source": [
    "df.head()"
   ]
  },
  {
   "cell_type": "code",
   "execution_count": null,
   "id": "searching-spectrum",
   "metadata": {},
   "outputs": [],
   "source": [
    "con.sql(\"select * from plus_revenue limit 5\")"
   ]
  },
  {
   "cell_type": "code",
   "execution_count": null,
   "id": "measured-hopkins",
   "metadata": {},
   "outputs": [],
   "source": [
    "con.sql(\"select  date_trunc('day', strptime(year_month, '%Y%m')) as start_date, last_day(strptime(year_month, '%Y%m')) as end_date, * from plus_revenue limit 10\")"
   ]
  },
  {
   "cell_type": "code",
   "execution_count": null,
   "id": "consolidated-creator",
   "metadata": {},
   "outputs": [],
   "source": [
    "con.sql(\"select start_date, end_date, ean_number, ean_name from plus_revenue where start_date = '2022-03-01'\")"
   ]
  },
  {
   "cell_type": "code",
   "execution_count": null,
   "id": "growing-stack",
   "metadata": {},
   "outputs": [],
   "source": [
    "plus_output_filename = os.path.join(data_directory, 'OutputEansCoicopsPlus_202107_202205.parquet')\n",
    "\n",
    "con.sql(\"drop table if exists plus_output\")\n",
    "con.sql(f\"create table plus_output as select * from read_parquet('{plus_output_filename}')\")\n",
    "con.sql(\"create index po_rep_id on plus_output (rep_id)\")\n",
    "con.sql(\"create index po_ean_number on plus_output (ean_number)\")\n",
    "con.sql(\"select * from plus_output\")"
   ]
  },
  {
   "cell_type": "code",
   "execution_count": null,
   "id": "lightweight-allocation",
   "metadata": {},
   "outputs": [],
   "source": [
    "con.sql(\"drop table if exists plus_receipts\")\n",
    "\n",
    "plus_receipt_filename = os.path.join(data_directory, 'KassabonPlus_va_202201_Prd.parquet')\n",
    "con.sql(f\"create table plus_receipts as select * from read_parquet('{plus_receipt_filename}')\")\n",
    "con.sql(\"create index pr_ean_idx on plus_receipts (ean_number)\")\n",
    "con.sql(\"create index pr_rep_id on plus_receipts (rep_id)\")"
   ]
  },
  {
   "cell_type": "code",
   "execution_count": null,
   "id": "raised-baptist",
   "metadata": {},
   "outputs": [],
   "source": [
    "con.sql(\"select * from plus_receipts\")"
   ]
  },
  {
   "cell_type": "code",
   "execution_count": null,
   "id": "eastern-clark",
   "metadata": {},
   "outputs": [],
   "source": [
    "con.sql(\"\"\"select rep_id, count(distinct(receipt_text)) from plus_receipts\n",
    "group by rep_id \n",
    "having count(distinct(receipt_text)) > 1\n",
    "order by count(distinct(receipt_text))\n",
    "\"\"\")"
   ]
  },
  {
   "cell_type": "code",
   "execution_count": null,
   "id": "speaking-cardiff",
   "metadata": {},
   "outputs": [],
   "source": [
    "con.sql(\"\"\" select count(*) from\n",
    "(\n",
    "select rep_id, count(distinct(receipt_text)) from plus_receipts\n",
    "group by rep_id \n",
    "having count(distinct(receipt_text)) = 1\n",
    "order by count(distinct(receipt_text))\n",
    ")\n",
    "\"\"\")"
   ]
  },
  {
   "cell_type": "code",
   "execution_count": null,
   "id": "cheap-rally",
   "metadata": {},
   "outputs": [],
   "source": [
    "con.sql(\"\"\" select count(*) from\n",
    "(\n",
    "select rep_id, count(distinct(receipt_text)) from plus_receipts\n",
    "group by rep_id \n",
    "having count(distinct(receipt_text)) > 1\n",
    "order by count(distinct(receipt_text))\n",
    ")\n",
    "\"\"\")"
   ]
  },
  {
   "cell_type": "code",
   "execution_count": null,
   "id": "behind-disney",
   "metadata": {},
   "outputs": [],
   "source": [
    "con.sql(\"\"\" select count(distinct(rep_id)) from plus_receipts\"\"\")"
   ]
  },
  {
   "cell_type": "code",
   "execution_count": null,
   "id": "smooth-knowing",
   "metadata": {},
   "outputs": [],
   "source": [
    "292489 + 443950 "
   ]
  },
  {
   "cell_type": "code",
   "execution_count": null,
   "id": "integral-norfolk",
   "metadata": {},
   "outputs": [],
   "source": [
    "con.sql(\"\"\"select count(*) from plus_receipts\"\"\")"
   ]
  },
  {
   "cell_type": "code",
   "execution_count": null,
   "id": "known-barrier",
   "metadata": {},
   "outputs": [],
   "source": [
    "con.sql(\"\"\"drop table if exists plus_receipt_ean;\n",
    "create table plus_receipt_ean as \n",
    "select * from plus_revenue as pr\n",
    "inner join plus_receipts as po on pr.rep_id = po.rep_id and po.start_date >= pr.start_date and po.start_date <= pr.end_date\n",
    "\"\"\")\n",
    "\n",
    "con.sql(\"select * from plus_receipt_ean\")"
   ]
  },
  {
   "cell_type": "code",
   "execution_count": null,
   "id": "behavioral-premiere",
   "metadata": {},
   "outputs": [],
   "source": [
    "con.sql(\"select count(*) from plus_receipt_ean\")"
   ]
  },
  {
   "cell_type": "code",
   "execution_count": null,
   "id": "solved-istanbul",
   "metadata": {},
   "outputs": [],
   "source": [
    "con.sql(\"select count(*) from plus_receipts\")"
   ]
  },
  {
   "cell_type": "code",
   "execution_count": null,
   "id": "historic-currency",
   "metadata": {},
   "outputs": [],
   "source": [
    "con.sql(\"select count(*) from plus_revenue\")"
   ]
  },
  {
   "cell_type": "code",
   "execution_count": null,
   "id": "charged-partner",
   "metadata": {},
   "outputs": [],
   "source": [
    "con.sql(\"select count(*) from plus_revenue where start_date >= '2022-03-01' \")"
   ]
  },
  {
   "cell_type": "code",
   "execution_count": null,
   "id": "smoking-fleet",
   "metadata": {},
   "outputs": [],
   "source": [
    "con.sql(\"\"\"drop table if exists plus_receipt_ean_left;\n",
    "create table plus_receipt_ean_left as\n",
    "select * from plus_revenue as pr\n",
    "left join plus_receipts as po on pr.rep_id = po.rep_id and po.start_date >= pr.start_date and po.start_date <= pr.end_date\n",
    "\"\"\")\n",
    "\n",
    "con.sql(\"select * from plus_receipt_ean_left\")"
   ]
  },
  {
   "cell_type": "code",
   "execution_count": null,
   "id": "present-spelling",
   "metadata": {},
   "outputs": [],
   "source": [
    "con.sql(\"select count(*) from plus_receipt_ean_left\")"
   ]
  },
  {
   "cell_type": "code",
   "execution_count": null,
   "id": "inappropriate-alarm",
   "metadata": {},
   "outputs": [],
   "source": [
    "con.sql(\"select count(distinct(rep_id)) from plus_receipt_ean_left\")"
   ]
  },
  {
   "cell_type": "code",
   "execution_count": null,
   "id": "brutal-coaching",
   "metadata": {},
   "outputs": [],
   "source": [
    "con.sql(\"select count(distinct(rep_id)) from plus_revenue\")"
   ]
  },
  {
   "cell_type": "code",
   "execution_count": null,
   "id": "former-grill",
   "metadata": {},
   "outputs": [],
   "source": [
    "con.sql(\"select count(distinct(rep_id)) from plus_receipts\")"
   ]
  },
  {
   "cell_type": "code",
   "execution_count": null,
   "id": "assumed-youth",
   "metadata": {},
   "outputs": [],
   "source": [
    "con.sql(\"\"\"\n",
    "select count(distinct(pre.rep_id)) from (\n",
    "select distinct(rep_id) as rep_id from plus_revenue\n",
    ") pre\n",
    "left join ( \n",
    "    select distinct(rep_id) as rep_id from plus_receipts\n",
    ") pr on pre.rep_id = pr.rep_id\n",
    "where pr.rep_id is null\n",
    "\"\"\")"
   ]
  },
  {
   "cell_type": "code",
   "execution_count": null,
   "id": "verified-speed",
   "metadata": {},
   "outputs": [],
   "source": [
    "con.sql(\"select count(*) from plus_revenue\")"
   ]
  },
  {
   "cell_type": "code",
   "execution_count": null,
   "id": "accredited-surgeon",
   "metadata": {},
   "outputs": [],
   "source": [
    "con.sql(\"\"\" select sum(rep_id_count) from \n",
    "(\n",
    "    select rep_id, count(*) as rep_id_count from plus_revenue \n",
    "    where start_date >= '2022-03-01'\n",
    "    group by rep_id \n",
    "    having count(rep_id) > 1\n",
    ") rc\n",
    "\"\"\")"
   ]
  },
  {
   "cell_type": "code",
   "execution_count": null,
   "id": "incomplete-vacuum",
   "metadata": {},
   "outputs": [],
   "source": [
    "7119674 - 3874826 "
   ]
  },
  {
   "cell_type": "code",
   "execution_count": null,
   "id": "structured-sharing",
   "metadata": {},
   "outputs": [],
   "source": [
    "con.sql(\"select count(*) from plus_receipt_ean_left where receipt_text is null  and start_date >= '2022-03-01'\")"
   ]
  },
  {
   "cell_type": "code",
   "execution_count": null,
   "id": "hydraulic-chassis",
   "metadata": {},
   "outputs": [],
   "source": [
    "con.sql(\"select start_date, end_date, ean_name, rep_id from plus_receipt_ean_left where receipt_text is null and start_date >= '2022-03-01' \")"
   ]
  },
  {
   "cell_type": "code",
   "execution_count": null,
   "id": "pending-student",
   "metadata": {},
   "outputs": [],
   "source": [
    "con.sql(\"create index pre_rep_id_idx on plus_receipt_ean (rep_id)\")"
   ]
  },
  {
   "cell_type": "code",
   "execution_count": null,
   "id": "signal-spoke",
   "metadata": {},
   "outputs": [],
   "source": [
    "plus_receipts_df = con.sql(\"\"\"select date_part('year', start_date) as year, date_part('month', start_date) as month, count(distinct(rep_id)) from plus_receipts \n",
    "            group by date_part('year', start_date), date_part('month', start_date) \n",
    "            order by date_part('year', start_date), date_part('month', start_date)\n",
    "            \n",
    "            \"\"\").df()"
   ]
  },
  {
   "cell_type": "code",
   "execution_count": null,
   "id": "protective-plaza",
   "metadata": {},
   "outputs": [],
   "source": [
    "plus_receipts_df.head()"
   ]
  },
  {
   "cell_type": "code",
   "execution_count": null,
   "id": "given-republic",
   "metadata": {},
   "outputs": [],
   "source": [
    "plus_revenue_products_df = con.sql(\"\"\"select date_part('year', start_date) as year, date_part('month', start_date) as month, count(distinct(rep_id)) from plus_revenue \n",
    "            group by date_part('year', start_date), date_part('month', start_date) \n",
    "            order by date_part('year', start_date), date_part('month', start_date)\n",
    "            \n",
    "            \"\"\").df()"
   ]
  },
  {
   "cell_type": "code",
   "execution_count": null,
   "id": "silent-karen",
   "metadata": {},
   "outputs": [],
   "source": [
    "plus_revenue_products_df.head()"
   ]
  },
  {
   "cell_type": "code",
   "execution_count": null,
   "id": "atlantic-league",
   "metadata": {},
   "outputs": [],
   "source": [
    "product_counts_df = plus_receipts_df.merge(plus_revenue_products_df, on=[\"year\", \"month\"])\n",
    "product_counts_df[\"diff\"] = product_counts_df[\"count(DISTINCT rep_id)_x\"] - product_counts_df[\"count(DISTINCT rep_id)_y\"]\n",
    "product_counts_df"
   ]
  },
  {
   "cell_type": "code",
   "execution_count": null,
   "id": "minimal-bargain",
   "metadata": {},
   "outputs": [],
   "source": [
    "con.sql(\"\"\"select count(*) from plus_receipt_ean\n",
    "        where receipt_text is null\n",
    "        \"\"\")"
   ]
  },
  {
   "cell_type": "code",
   "execution_count": null,
   "id": "greenhouse-shuttle",
   "metadata": {},
   "outputs": [],
   "source": [
    "con.sql(\"select min(start_date), max(start_date) from plus_receipt_ean\")"
   ]
  },
  {
   "cell_type": "code",
   "execution_count": null,
   "id": "celtic-opportunity",
   "metadata": {},
   "outputs": [],
   "source": [
    "con.sql(\"select min(start_date), max(start_date) from plus_receipts\")"
   ]
  },
  {
   "cell_type": "code",
   "execution_count": null,
   "id": "signed-shooting",
   "metadata": {},
   "outputs": [],
   "source": [
    "# Hence all dates before 2022-03-28 are dropped because of the inner join\n",
    "con.sql(\"select min(start_date), max(start_date) from plus_revenue\")"
   ]
  },
  {
   "cell_type": "code",
   "execution_count": null,
   "id": "consistent-theta",
   "metadata": {},
   "outputs": [],
   "source": [
    "con.sql(\"\"\"\n",
    "drop view if exists double_coicops;\n",
    "create table double_coicops as\n",
    "select rep_id, count(distinct(coicop_number)), string_agg(coicop_number, ', ' order by start_date) as coicop_numbers, string_agg(receipt_text, ', ' order by receipt_text) as receipt_texts\n",
    "from plus_receipt_ean\n",
    "group by rep_id\n",
    "having count(distinct(coicop_number)) > 1\n",
    "order by rep_id\n",
    "\"\"\")"
   ]
  },
  {
   "cell_type": "code",
   "execution_count": null,
   "id": "presidential-prince",
   "metadata": {},
   "outputs": [],
   "source": [
    "con.sql(\"select count(*) from  double_coicops\")"
   ]
  },
  {
   "cell_type": "code",
   "execution_count": null,
   "id": "competitive-external",
   "metadata": {},
   "outputs": [],
   "source": [
    "double_coicops_df = con.sql(\"select * from  double_coicops\").df()"
   ]
  },
  {
   "cell_type": "code",
   "execution_count": null,
   "id": "subject-luxembourg",
   "metadata": {},
   "outputs": [],
   "source": [
    "len(double_coicops_df)"
   ]
  },
  {
   "cell_type": "code",
   "execution_count": null,
   "id": "abandoned-agreement",
   "metadata": {},
   "outputs": [],
   "source": [
    "double_coicops_df"
   ]
  },
  {
   "cell_type": "code",
   "execution_count": null,
   "id": "retired-murray",
   "metadata": {},
   "outputs": [],
   "source": [
    "double_coicops_df.to_csv(\"double_coicops.csv\", sep=\";\", index=False)"
   ]
  },
  {
   "cell_type": "code",
   "execution_count": null,
   "id": "solid-burner",
   "metadata": {},
   "outputs": [],
   "source": [
    "plus_receipt_filename = os.path.join(data_directory, 'ssi_plus_revenue_receipts.parquet')\n",
    "\n",
    "con.sql(f\"copy plus_receipt_ean to '{plus_receipt_filename}' (format parquet);\")"
   ]
  },
  {
   "cell_type": "code",
   "execution_count": null,
   "id": "ordered-senior",
   "metadata": {},
   "outputs": [],
   "source": [
    "# we do not have a lot of matches :(\n",
    "con.sql(\"select count(*) from plus_receipts\"), con.sql(\"select count(*) from plus_receipt_ean\"), con.sql(\"select count(*) from plus_output\")"
   ]
  },
  {
   "cell_type": "code",
   "execution_count": null,
   "id": "loved-marina",
   "metadata": {},
   "outputs": [],
   "source": [
    "con.sql(\"select  from plus_receipt_ean\")"
   ]
  },
  {
   "cell_type": "code",
   "execution_count": null,
   "id": "arabic-madagascar",
   "metadata": {},
   "outputs": [],
   "source": [
    "con.sql(\"select * from plus_receipts limit 5\")"
   ]
  },
  {
   "cell_type": "code",
   "execution_count": null,
   "id": "higher-theta",
   "metadata": {},
   "outputs": [],
   "source": [
    "con.sql(\"select * from plus_receipts where Datum_vanaf >= '2022-03-01' and Datum_vanaf <= '2022-03-31'\")"
   ]
  },
  {
   "cell_type": "code",
   "execution_count": null,
   "id": "distinguished-visibility",
   "metadata": {},
   "outputs": [],
   "source": [
    "con.sql(\"select Kassabon from plus_receipts where Kassabon like 'PLUS%' order by Kassabon\")"
   ]
  },
  {
   "cell_type": "code",
   "execution_count": null,
   "id": "bronze-steering",
   "metadata": {},
   "outputs": [],
   "source": [
    "con.sql(\"\"\"select ean_name, Kassabon from plus_revenue as pr \n",
    "        inner join plus_receipts as pc on pr.ean_name = pc.Kassabon \n",
    "        order by ean_name\"\"\")"
   ]
  },
  {
   "cell_type": "code",
   "execution_count": null,
   "id": "formed-procedure",
   "metadata": {},
   "outputs": [],
   "source": [
    "con.sql(\"\"\"select ean_name, Kassabon from ( \n",
    "            select distinct(ean_name) from plus_revenue\n",
    "        ) as pr \n",
    "        inner join \n",
    "        (\n",
    "            select distinct(Kassabon) from plus_receipts\n",
    "        ) as pc on pr.ean_name = pc.Kassabon \n",
    "        order by ean_name\"\"\")"
   ]
  },
  {
   "cell_type": "code",
   "execution_count": null,
   "id": "assured-savage",
   "metadata": {},
   "outputs": [],
   "source": [
    "con.sql(\"\"\"select len(ean_name), count(*) from ( \n",
    "            select distinct(ean_name) from plus_revenue\n",
    "        ) as pr \n",
    "        inner join \n",
    "        (\n",
    "            select distinct(Kassabon) from plus_receipts\n",
    "        ) as pc on pr.ean_name = pc.Kassabon \n",
    "        group by len(ean_name)\n",
    "        order by len(ean_name)\"\"\").df().plot.bar(x=\"len(ean_name)\", y=\"count_star()\")"
   ]
  },
  {
   "cell_type": "code",
   "execution_count": null,
   "id": "pointed-sculpture",
   "metadata": {},
   "outputs": [],
   "source": [
    "con.sql(\"select count(distinct(ean_name)) from plus_revenue\"), con.sql(\"select count(distinct(Kassabon)) from plus_receipts\")"
   ]
  },
  {
   "cell_type": "code",
   "execution_count": null,
   "id": "related-internship",
   "metadata": {},
   "outputs": [],
   "source": [
    "con.sql(\"\"\"select ean_name, Kassabon from ( \n",
    "            select distinct(ean_name) from plus_revenue\n",
    "        ) as pr \n",
    "        left join \n",
    "        (\n",
    "            select distinct(Kassabon) from plus_receipts\n",
    "        ) as pc on pr.ean_name = pc.Kassabon \n",
    "        where Kassabon is null\n",
    "        order by ean_name\n",
    "        \"\"\")"
   ]
  },
  {
   "cell_type": "code",
   "execution_count": null,
   "id": "acting-vacation",
   "metadata": {},
   "outputs": [],
   "source": [
    "con.sql(\"\"\"select ean_name, Kassabon from ( \n",
    "            select distinct(ean_name) from plus_revenue\n",
    "        ) as pr \n",
    "        right join \n",
    "        (\n",
    "            select distinct(Kassabon) from plus_receipts\n",
    "        ) as pc on pr.ean_name = pc.Kassabon \n",
    "        where ean_name is null\n",
    "        order by ean_name\n",
    "        \"\"\")"
   ]
  },
  {
   "cell_type": "code",
   "execution_count": null,
   "id": "polyphonic-title",
   "metadata": {},
   "outputs": [],
   "source": [
    "con.sql(\"\"\"select count(*) from ( \n",
    "            select distinct(trim(ean_name)) as ean_name from plus_revenue\n",
    "        ) as pr \n",
    "        right join \n",
    "        (\n",
    "            select distinct(trim(Kassabon)) as Kassabon from plus_receipts\n",
    "        ) as pc on pr.ean_name = pc.Kassabon \n",
    "        where ean_name is null\n",
    "        \"\"\")"
   ]
  },
  {
   "cell_type": "code",
   "execution_count": null,
   "id": "failing-charter",
   "metadata": {},
   "outputs": [],
   "source": [
    "con.sql(\"select len(ean_name), count(*) from plus_revenue group by len(ean_name) order by len(ean_name)\")"
   ]
  },
  {
   "cell_type": "code",
   "execution_count": null,
   "id": "broadband-aquatic",
   "metadata": {},
   "outputs": [],
   "source": [
    "# Ean name lengths are larger than 20 characters\n",
    "con.sql(\"select len(ean_name), count(*) from plus_revenue group by len(ean_name) order by len(ean_name)\").df().plot.bar(x=\"len(ean_name)\", y=\"count_star()\", figsize=(10,10))"
   ]
  },
  {
   "cell_type": "code",
   "execution_count": null,
   "id": "precious-smart",
   "metadata": {},
   "outputs": [],
   "source": [
    "con.sql(\"select len(Kassabon), count(*) from plus_receipts group by len(Kassabon) order by len(Kassabon)\")"
   ]
  },
  {
   "cell_type": "code",
   "execution_count": null,
   "id": "polish-protocol",
   "metadata": {},
   "outputs": [],
   "source": [
    "# Maximum length of kassabon for Plus is 20 characters (see mail Sigrid)\n",
    "con.sql(\"select len(Kassabon), count(*) from plus_receipts group by len(Kassabon) order by len(Kassabon)\").df().plot.bar(x=\"len(Kassabon)\", y=\"count_star()\")"
   ]
  },
  {
   "cell_type": "code",
   "execution_count": null,
   "id": "expired-crystal",
   "metadata": {},
   "outputs": [],
   "source": [
    "con.sql(\"select * from plus_receipts where len(Kassabon) > 20\")"
   ]
  },
  {
   "cell_type": "code",
   "execution_count": null,
   "id": "smart-mason",
   "metadata": {},
   "outputs": [],
   "source": [
    "con.sql(\"\"\"select count(*) from ( \n",
    "            select distinct(trim(ean_name)) as ean_name from plus_revenue\n",
    "        ) as pr \n",
    "        left join \n",
    "        (\n",
    "            select distinct(trim(Kassabon)) as Kassabon from plus_receipts\n",
    "        ) as pc on pr.ean_name = pc.Kassabon \n",
    "        where Kassabon is null\n",
    "        \"\"\")"
   ]
  },
  {
   "cell_type": "code",
   "execution_count": null,
   "id": "civilian-greeting",
   "metadata": {},
   "outputs": [],
   "source": [
    "con.sql(\"\"\"select count(*) from plus_revenue as pr \n",
    "        inner join plus_receipts as pc on pr.ean_name = pc.Kassabon \n",
    "       \"\"\"), con.sql(\"select count(*) from plus_receipts\"), con.sql(\"select count(*) from plus_revenue\")"
   ]
  },
  {
   "cell_type": "code",
   "execution_count": null,
   "id": "efficient-restaurant",
   "metadata": {},
   "outputs": [],
   "source": []
  },
  {
   "cell_type": "code",
   "execution_count": null,
   "id": "ordered-savings",
   "metadata": {},
   "outputs": [],
   "source": [
    "con.sql(\"select min(Datum_vanaf) from plus_receipts rode\")"
   ]
  },
  {
   "cell_type": "code",
   "execution_count": null,
   "id": "bridal-reverse",
   "metadata": {},
   "outputs": [],
   "source": [
    "con.sql(\"\"\"create table plus_receipt_revenue as \n",
    "select pr.*, pc.kassabon from plus_revenue as pr \n",
    "inner join plus_receipts as pc on pr.ean_number = pc.ean_number \n",
    "where pc.Datum_vanaf >= pr.start_date and pc.Datum_vanaf <= pr.end_date\n",
    "\"\"\")"
   ]
  },
  {
   "cell_type": "code",
   "execution_count": null,
   "id": "explicit-scenario",
   "metadata": {},
   "outputs": [],
   "source": [
    "con.sql(\"select * from plus_receipt_revenue\")"
   ]
  },
  {
   "cell_type": "code",
   "execution_count": null,
   "id": "stuck-jacket",
   "metadata": {},
   "outputs": [],
   "source": [
    "con.sql(\"select ean_name, Kassabon from plus_receipt_revenue order by ean_name\")"
   ]
  },
  {
   "cell_type": "code",
   "execution_count": null,
   "id": "military-cleaner",
   "metadata": {},
   "outputs": [],
   "source": [
    "con.sql(\"COPY plus_receipt_revenue TO 'plus_receipt_revenue.parquet' (FORMAT PARQUET);\")"
   ]
  },
  {
   "cell_type": "code",
   "execution_count": null,
   "id": "vertical-benefit",
   "metadata": {},
   "outputs": [],
   "source": [
    "con.sql(\"select count(*) from plus_receipt_revenue\")"
   ]
  },
  {
   "cell_type": "code",
   "execution_count": null,
   "id": "forward-cedar",
   "metadata": {},
   "outputs": [],
   "source": [
    "con.sql(\"select count(*) from plus_receipts\")"
   ]
  },
  {
   "cell_type": "code",
   "execution_count": null,
   "id": "familiar-trout",
   "metadata": {},
   "outputs": [],
   "source": [
    "con.sql(\"select count(*) from plus_revenue\")"
   ]
  }
 ],
 "metadata": {
  "kernelspec": {
   "display_name": "ssi",
   "language": "python",
   "name": "ssi"
  },
  "language_info": {
   "codemirror_mode": {
    "name": "ipython",
    "version": 3
   },
   "file_extension": ".py",
   "mimetype": "text/x-python",
   "name": "python",
   "nbconvert_exporter": "python",
   "pygments_lexer": "ipython3",
   "version": "3.11.5"
  }
 },
 "nbformat": 4,
 "nbformat_minor": 5
}
