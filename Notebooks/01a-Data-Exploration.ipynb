{
 "cells": [
  {
   "cell_type": "code",
   "execution_count": null,
   "id": "western-apartment",
   "metadata": {},
   "outputs": [],
   "source": [
    "import pandas as pd\n",
    "from dotenv import load_dotenv\n",
    "from pathlib import Path\n",
    "import os\n",
    "import numpy as np"
   ]
  },
  {
   "cell_type": "code",
   "execution_count": null,
   "id": "atomic-value",
   "metadata": {},
   "outputs": [],
   "source": [
    "# load environment variables from .env file for project\n",
    "dotenv_path = Path('../.env')\n",
    "load_dotenv(dotenv_path=dotenv_path)"
   ]
  },
  {
   "cell_type": "markdown",
   "id": "printable-weekend",
   "metadata": {},
   "source": [
    "We converted the `comma-separated values files` (CSV) in a earlier stage to `Apache parquet` files. Parquet files make processing with `pandas` faster and more memory efficient. The processed parquet files are the `OUTPUT_DIRECTORY` given in the `.env` file of the project."
   ]
  },
  {
   "cell_type": "code",
   "execution_count": null,
   "id": "existing-round",
   "metadata": {},
   "outputs": [],
   "source": [
    "data_directory = os.getenv(\"OUTPUT_DIRECTORY\")"
   ]
  },
  {
   "cell_type": "markdown",
   "id": "stainless-hampshire",
   "metadata": {},
   "source": [
    "List all files in the `OUTPUT_DIRECTORY`."
   ]
  },
  {
   "cell_type": "code",
   "execution_count": null,
   "id": "completed-nicholas",
   "metadata": {},
   "outputs": [],
   "source": [
    "os.listdir(data_directory)"
   ]
  },
  {
   "cell_type": "markdown",
   "id": "included-toddler",
   "metadata": {},
   "source": [
    "# Analysis of the LIDL data\n",
    "\n",
    "Let's focus on the LIDL file first."
   ]
  },
  {
   "cell_type": "code",
   "execution_count": null,
   "id": "oriental-internship",
   "metadata": {},
   "outputs": [],
   "source": [
    "lidl_revenue_files = [os.path.join(data_directory, filename) for filename in os.listdir(data_directory) if filename.startswith(\"Omzet\") and \"Lidl\" in filename]\n",
    "lidl_revenue_files"
   ]
  },
  {
   "cell_type": "code",
   "execution_count": null,
   "id": "north-running",
   "metadata": {},
   "outputs": [],
   "source": [
    "for revenue_file in lidl_revenue_files:\n",
    "    print(list(pd.read_parquet(revenue_file, engine=\"pyarrow\").columns))"
   ]
  },
  {
   "cell_type": "code",
   "execution_count": null,
   "id": "streaming-positive",
   "metadata": {},
   "outputs": [],
   "source": [
    "lidl_df = pd.concat([pd.read_parquet(revenue_file, engine=\"pyarrow\") for revenue_file in lidl_revenue_files])\n",
    "lidl_df = lidl_df.sort_values(by=[\"bg_number\",\"month\", \"coicop_number\"], ascending=[True, True, True]).reset_index(drop=True)\n",
    "lidl_df.to_parquet(os.path.join(data_directory, \"ssi_omzet_eans_coicops_lidl_2018_202308.parquet\"), engine=\"pyarrow\")"
   ]
  },
  {
   "cell_type": "code",
   "execution_count": null,
   "id": "expired-vermont",
   "metadata": {},
   "outputs": [],
   "source": [
    "lidl_df = pd.read_parquet(os.path.join(data_directory, 'ssi_omzet_eans_coicops_lidl_2018_202308.parquet'), engine=\"pyarrow\")\n",
    "lidl_df.head()"
   ]
  },
  {
   "cell_type": "code",
   "execution_count": null,
   "id": "metric-daily",
   "metadata": {},
   "outputs": [],
   "source": [
    "lidl_df.coicop_name.unique()"
   ]
  },
  {
   "cell_type": "markdown",
   "id": "rough-wheel",
   "metadata": {},
   "source": [
    "As per their definition COICOP definitions should be 5 digits long: \n",
    "- Two digits for the COICOP division, ranging from 01 until\n",
    "- One digit for the COICOP group\n",
    "- One digit for the COICOP class\n",
    "- One digit for the COICOP subclass\n",
    "See for more information the PDF [here](https://unstats.un.org/unsd/classifications/unsdclassifications/COICOP_2018_-_pre-edited_white_cover_version_-_2018-12-26.pdf). \n",
    "Check if this is the case for the coicop numbers in the LIDL dataframe."
   ]
  },
  {
   "cell_type": "code",
   "execution_count": null,
   "id": "dominant-kinase",
   "metadata": {},
   "outputs": [],
   "source": [
    "lidl_df.coicop_number.str.len().value_counts().reset_index()"
   ]
  },
  {
   "cell_type": "markdown",
   "id": "alternate-rugby",
   "metadata": {},
   "source": [
    "It seems there are COICOP numbers with 5 digits, 6 digits, and even 1 digits. Let's check the COICOP numbers with one digit first:"
   ]
  },
  {
   "cell_type": "code",
   "execution_count": null,
   "id": "mobile-tunnel",
   "metadata": {},
   "outputs": [],
   "source": [
    "lidl_df[lidl_df.coicop_number.str.len() == 1].head(10)"
   ]
  },
  {
   "cell_type": "markdown",
   "id": "material-skill",
   "metadata": {},
   "source": [
    "The COICOP number for COICOP numbers of length 1 has value 0 for the first 10 rows. See which other values are possible:"
   ]
  },
  {
   "cell_type": "code",
   "execution_count": null,
   "id": "confused-reproduction",
   "metadata": {},
   "outputs": [],
   "source": [
    "lidl_df[lidl_df.coicop_number.str.len() == 1].coicop_number.value_counts()"
   ]
  },
  {
   "cell_type": "markdown",
   "id": "democratic-visitor",
   "metadata": {},
   "source": [
    "It seems all COICOP numbers with lenght 1 have value 0. This seems a special value? Let's check the COICOP values with 6 digits:"
   ]
  },
  {
   "cell_type": "code",
   "execution_count": null,
   "id": "incorporate-sleeve",
   "metadata": {},
   "outputs": [],
   "source": [
    "lidl_df[lidl_df.coicop_number.str.len() == 6].head(10)"
   ]
  },
  {
   "cell_type": "markdown",
   "id": "earlier-ballet",
   "metadata": {},
   "source": [
    "Check what are the possible values for COICOPs with 6 digits:"
   ]
  },
  {
   "cell_type": "code",
   "execution_count": null,
   "id": "opened-authentication",
   "metadata": {},
   "outputs": [],
   "source": [
    "lidl_df[lidl_df.coicop_number.str.len() == 6].coicop_number.value_counts()"
   ]
  },
  {
   "cell_type": "markdown",
   "id": "accepted-duration",
   "metadata": {},
   "source": [
    "It looks like there are only four different values for COICOP numbers with 6 digits:\n",
    "- 999999\n",
    "- 121320     \n",
    "- 121210      \n",
    "- 121310       \n",
    "\n",
    "`999999` seems a special value, maybe missing values or an additional category? The other values are not that clear. Check the COICOP numbers with lenght 5."
   ]
  },
  {
   "cell_type": "code",
   "execution_count": null,
   "id": "uniform-petite",
   "metadata": {},
   "outputs": [],
   "source": [
    "lidl_df[lidl_df.coicop_number.str.len() == 5].coicop_number.value_counts()"
   ]
  },
  {
   "cell_type": "markdown",
   "id": "legitimate-intelligence",
   "metadata": {},
   "source": [
    "It seems there are 78 unique COICOP values with length 5. Check is this is indeed the case:"
   ]
  },
  {
   "cell_type": "code",
   "execution_count": null,
   "id": "proud-founder",
   "metadata": {},
   "outputs": [],
   "source": [
    "lidl_df[lidl_df.coicop_number.str.len() == 5].coicop_number.nunique()"
   ]
  },
  {
   "cell_type": "markdown",
   "id": "international-protest",
   "metadata": {},
   "source": [
    "This seems correct. Because we 5 and 6 digit COICOP numbers, it might be the case that the CBS classifies the COICOP one level deeper than the specification. The COICOP specification specifies the COICOP division using two digits. The first categories in the COICOP classification 1-9 are defined using a leading zero. See if we can find any leading zeroes in the COICOP numbers defined by LIDL."
   ]
  },
  {
   "cell_type": "code",
   "execution_count": null,
   "id": "third-religious",
   "metadata": {},
   "outputs": [],
   "source": [
    "lidl_df[lidl_df.coicop_number.str.len() == 5].coicop_number.str.startswith(\"0\").sum()"
   ]
  },
  {
   "cell_type": "markdown",
   "id": "subsequent-awareness",
   "metadata": {},
   "source": [
    "This does not seem to be the case. It looks like the coicop numbers in the LIDL file are missing the leading zero. This means that the 6 digit labels we found about are part of COICOP division `12`, \"Insurance and financial services\". This is a bit strange because above the product descriptions appear to be all \"articles for personal hygiene\" which are defined to be in COICOP division `13.1`."
   ]
  },
  {
   "cell_type": "code",
   "execution_count": null,
   "id": "departmental-addiction",
   "metadata": {},
   "outputs": [],
   "source": [
    "lidl_df[(lidl_df.coicop_number.str.len() == 6) & (lidl_df.coicop_number.str.startswith(\"12\"))].head(10)"
   ]
  },
  {
   "cell_type": "markdown",
   "id": "outdoor-prior",
   "metadata": {},
   "source": [
    "Let's assume for now that the labeling is correct, and add the trailing zero to COICOP numbers with length 5."
   ]
  },
  {
   "cell_type": "code",
   "execution_count": null,
   "id": "dated-logging",
   "metadata": {},
   "outputs": [],
   "source": [
    "lidl_df.loc[lidl_df.coicop_number.str.len() == 5, 'coicop_number'] = lidl_df[lidl_df.coicop_number.str.len() == 5].coicop_number.apply(lambda s: f\"0{s}\")"
   ]
  },
  {
   "cell_type": "markdown",
   "id": "certain-effort",
   "metadata": {},
   "source": [
    "Check if all COICOP numbers with length 5 are removed:"
   ]
  },
  {
   "cell_type": "code",
   "execution_count": null,
   "id": "overhead-consumer",
   "metadata": {},
   "outputs": [],
   "source": [
    "lidl_df.coicop_number.str.len().value_counts().reset_index()"
   ]
  },
  {
   "cell_type": "markdown",
   "id": "little-reform",
   "metadata": {},
   "source": [
    "Derive the COICOP division (the first two digits in the COICOP number) and assign them to a new column."
   ]
  },
  {
   "cell_type": "code",
   "execution_count": null,
   "id": "pretty-meter",
   "metadata": {},
   "outputs": [],
   "source": [
    "lidl_df = lidl_df[lidl_df.coicop_number.str.len() == 6]\n",
    "lidl_df['coicop_division'] = lidl_df[lidl_df.coicop_number.str.len() == 6].coicop_number.str[:2]\n",
    "lidl_df.head()"
   ]
  },
  {
   "cell_type": "code",
   "execution_count": null,
   "id": "competitive-requirement",
   "metadata": {},
   "outputs": [],
   "source": [
    "lidl_df['coicop_division'].isna().sum()"
   ]
  },
  {
   "cell_type": "code",
   "execution_count": null,
   "id": "important-thing",
   "metadata": {},
   "outputs": [],
   "source": [
    "lidl_df.coicop_number.str.len().value_counts().reset_index()"
   ]
  },
  {
   "cell_type": "markdown",
   "id": "threaded-saturn",
   "metadata": {},
   "source": [
    "When we have the COICOP division, we can count the number of **unique** products in each division."
   ]
  },
  {
   "cell_type": "code",
   "execution_count": null,
   "id": "amber-russia",
   "metadata": {},
   "outputs": [],
   "source": [
    "lidl_df.groupby(by=\"coicop_division\")[\"ean_number\"].nunique()"
   ]
  },
  {
   "cell_type": "markdown",
   "id": "linear-insider",
   "metadata": {},
   "source": [
    "Check the total number of unique products:"
   ]
  },
  {
   "cell_type": "code",
   "execution_count": null,
   "id": "clinical-retention",
   "metadata": {},
   "outputs": [],
   "source": [
    "lidl_df.ean_number.nunique(), lidl_df.groupby(by=\"coicop_division\")[\"ean_number\"].nunique().sum()"
   ]
  },
  {
   "cell_type": "markdown",
   "id": "median-berlin",
   "metadata": {},
   "source": [
    "The grouped sum of unique products is larger than the number of unique products in the dataset. Are some EAN numbers present in multiple categories?"
   ]
  },
  {
   "cell_type": "code",
   "execution_count": null,
   "id": "basic-child",
   "metadata": {},
   "outputs": [],
   "source": [
    "eans_per_group = lidl_df.groupby(by=\"coicop_division\")[\"ean_number\"].apply(lambda x: set(x)).reset_index()\n",
    "\n",
    "number_of_divisions = len(eans_per_group.coicop_division)\n",
    "duplicates_df = pd.DataFrame(np.array([0 for _ in range(number_of_divisions**2)]).reshape(number_of_divisions,number_of_divisions), index=eans_per_group.coicop_division, columns=eans_per_group.coicop_division)\n",
    "for row, row_division in enumerate(eans_per_group.coicop_division):\n",
    "    for column, column_division in enumerate(eans_per_group.coicop_division):\n",
    "        row_eans = eans_per_group[eans_per_group.coicop_division == row_division][\"ean_number\"].values[0]\n",
    "        column_eans = eans_per_group[eans_per_group.coicop_division == column_division][\"ean_number\"].values[0]\n",
    "        common_elements = row_eans & column_eans\n",
    "        duplicates_df.loc[row_division, column_division] = len(common_elements)\n",
    "duplicates_df        "
   ]
  },
  {
   "cell_type": "code",
   "execution_count": null,
   "id": "flush-coral",
   "metadata": {},
   "outputs": [],
   "source": [
    "d = duplicates_df.to_numpy()\n",
    "d"
   ]
  },
  {
   "cell_type": "code",
   "execution_count": null,
   "id": "defined-geometry",
   "metadata": {},
   "outputs": [],
   "source": [
    "d = duplicates_df.to_numpy()\n",
    "number_of_duplicates = np.tril(d).sum() - np.diagonal(d).sum()\n",
    "number_of_duplicates, number_of_duplicates+lidl_df.ean_number.nunique(),np.diagonal(d).sum(), lidl_df.groupby(by=\"coicop_division\")[\"ean_number\"].nunique().sum()"
   ]
  },
  {
   "cell_type": "code",
   "execution_count": null,
   "id": "solved-finger",
   "metadata": {},
   "outputs": [],
   "source": [
    "d2 = duplicates_df.to_numpy()\n",
    "d2"
   ]
  },
  {
   "cell_type": "code",
   "execution_count": null,
   "id": "indirect-monday",
   "metadata": {},
   "outputs": [],
   "source": [
    "d-d2"
   ]
  },
  {
   "cell_type": "code",
   "execution_count": null,
   "id": "governing-kidney",
   "metadata": {},
   "outputs": [],
   "source": [
    "40674+1443"
   ]
  },
  {
   "cell_type": "code",
   "execution_count": null,
   "id": "revised-typing",
   "metadata": {},
   "outputs": [],
   "source": [
    "# was: 40674\n",
    "lidl_df.ean_number.nunique()"
   ]
  },
  {
   "cell_type": "markdown",
   "id": "turned-shopping",
   "metadata": {},
   "source": [
    "So indeed we have 1443 EANS who are duplicated over coicop_divisions."
   ]
  },
  {
   "cell_type": "markdown",
   "id": "offshore-transmission",
   "metadata": {},
   "source": [
    "We can also show the number of **unique** products per coicop_division in in a barplot:"
   ]
  },
  {
   "cell_type": "code",
   "execution_count": null,
   "id": "vital-terrace",
   "metadata": {},
   "outputs": [],
   "source": [
    "lidl_df.groupby(by=\"coicop_division\")[\"ean_number\"].nunique().sort_index().plot(kind=\"bar\")"
   ]
  },
  {
   "cell_type": "markdown",
   "id": "polyphonic-spending",
   "metadata": {},
   "source": [
    "According to this barchart the following COICOP divisions are present in the LIDL dataset:\n",
    "- 01 Food and non-alcoholic beverages\n",
    "- 02 Alcoholic beverages, tobacco and narcotics\n",
    "- 03 Clothing and footwear\n",
    "- 05 Furnishings, household equipment and routine household maintenance\n",
    "- 06 Health\n",
    "- 09 Recreation, sport and culture\n",
    "- 12 Insurance and financial services\n",
    "- 99 Does not exist in COICOP divisions, this is probably some CBS specific category?\n",
    "\n",
    "As we have seen earlier, the division 12 present in the list here, is probably mixed up with COICOP division 13 \"Personal care, social protection and miscellaneous goods and services\". The LIDL data also contains a column with COICOP descriptions. Let's see which divisions have which descriptions:"
   ]
  },
  {
   "cell_type": "code",
   "execution_count": null,
   "id": "coordinated-clinic",
   "metadata": {},
   "outputs": [],
   "source": [
    "coicop_division_descriptions = lidl_df.groupby(by=[\"coicop_division\",\"coicop_name\"])[\"ean_number\"].nunique().reset_index().rename(columns={\"ean_number\": \"count\"})\n",
    "coicop_division_descriptions"
   ]
  },
  {
   "cell_type": "code",
   "execution_count": null,
   "id": "single-tournament",
   "metadata": {},
   "outputs": [],
   "source": [
    "coicop_division_descriptions[coicop_division_descriptions.coicop_division == \"01\"]"
   ]
  },
  {
   "cell_type": "markdown",
   "id": "northern-martial",
   "metadata": {},
   "source": [
    "The COICOP descriptions for COICOP division 01 seem to be all related to \"Food and non-alcoholic beverages\"."
   ]
  },
  {
   "cell_type": "code",
   "execution_count": null,
   "id": "peripheral-classic",
   "metadata": {},
   "outputs": [],
   "source": [
    "coicop_division_descriptions[coicop_division_descriptions.coicop_division == \"02\"]"
   ]
  },
  {
   "cell_type": "markdown",
   "id": "harmful-silicon",
   "metadata": {},
   "source": [
    "The products for COICOP division 02 are all \"Alcoholic beverages, tobacco and narcotics\""
   ]
  },
  {
   "cell_type": "code",
   "execution_count": null,
   "id": "excessive-facility",
   "metadata": {},
   "outputs": [],
   "source": [
    "coicop_division_descriptions[coicop_division_descriptions.coicop_division == \"03\"]"
   ]
  },
  {
   "cell_type": "markdown",
   "id": "honey-agreement",
   "metadata": {},
   "source": [
    "Also the products for COICOP division 03 are all \"Clothing and footwear\"."
   ]
  },
  {
   "cell_type": "code",
   "execution_count": null,
   "id": "private-robert",
   "metadata": {},
   "outputs": [],
   "source": [
    "coicop_division_descriptions[coicop_division_descriptions.coicop_division == \"05\"]"
   ]
  },
  {
   "cell_type": "markdown",
   "id": "discrete-radiation",
   "metadata": {},
   "source": [
    "The products in COICOP division 05 are indeed all related to \"Furnishings, household equipment and routine household maintenance\". More specifically, they seem related to COICOP groups:\n",
    "- 05.2 Household textiles\n",
    "- 05.3 Household appliances\n",
    "- 05.4 Glassware, tableware and household utensils\n",
    "- 05.5 Tools and equipment for house and garden\n",
    "\n",
    "We have to check the futher division in COICOP groups later."
   ]
  },
  {
   "cell_type": "code",
   "execution_count": null,
   "id": "empty-hardware",
   "metadata": {},
   "outputs": [],
   "source": [
    "coicop_division_descriptions[coicop_division_descriptions.coicop_division == \"06\"]"
   ]
  },
  {
   "cell_type": "markdown",
   "id": "indian-alexandria",
   "metadata": {},
   "source": [
    "The products in COICOP division 06 seems to be all related to \"Health\"."
   ]
  },
  {
   "cell_type": "code",
   "execution_count": null,
   "id": "infinite-programmer",
   "metadata": {},
   "outputs": [],
   "source": [
    "coicop_division_descriptions[coicop_division_descriptions.coicop_division == \"09\"]"
   ]
  },
  {
   "cell_type": "markdown",
   "id": "frequent-python",
   "metadata": {},
   "source": [
    "The products in COICOP division 09 look all related to the broader COICOP description \"Recreation, sport and culture\". Especially, the products here look part of the following COICOP groups:\n",
    "- 09.1 Recreational durables\n",
    "- 09.2 Other recreational goods\n",
    "- 09.3 Garden products and pets\n",
    "- 09.7 Newspapers, books and stationery"
   ]
  },
  {
   "cell_type": "code",
   "execution_count": null,
   "id": "banned-mayor",
   "metadata": {},
   "outputs": [],
   "source": [
    "coicop_division_descriptions[coicop_division_descriptions.coicop_division == \"12\"]"
   ]
  },
  {
   "cell_type": "markdown",
   "id": "civic-moment",
   "metadata": {},
   "source": [
    "The products in COICOP division 12 should be related to \"Insurance and financial services\". However, it looks like all the products and their descriptions here are instead \"Personal care, social protection and miscellaneous goods and services\". Thus, we think these products instead should have COICOP_division 13 instead. In addition, there is an extra category \"Non-electrical devices\" which may fall under \"miscellaneous goods\"."
   ]
  },
  {
   "cell_type": "code",
   "execution_count": null,
   "id": "renewable-tract",
   "metadata": {},
   "outputs": [],
   "source": [
    "coicop_division_descriptions[coicop_division_descriptions.coicop_division == \"99\"]"
   ]
  },
  {
   "cell_type": "markdown",
   "id": "suspected-mixer",
   "metadata": {},
   "source": [
    "The last category with COICOP division \"99\" seems to be an \"unknown\" or \"divers\" category. This looks like an NSI specific category not available in the COICOP specification. In general, we see that all but one category follow the COICOP specification. We will have to look into what went wrong with COICOP division \"12\". \n",
    "\n",
    "In conclusion, we see that the CBS has an extra COICOP level because most category should have 6 digits. The 5 digit codes in the LIDL file contain COICOP numbers under 10 without the zero prefix. By adding this prefix back we standardized most COICOP numbers and could derive COICOP division numbers. These seem to be overall correct. There's still a collection of rows that have COICOP number 0. Let's analyze the product descriptions for the products with COICOP number 0."
   ]
  },
  {
   "cell_type": "code",
   "execution_count": null,
   "id": "recognized-wagner",
   "metadata": {},
   "outputs": [],
   "source": [
    "lidl_df[lidl_df.coicop_number == \"0\"].coicop_name.value_counts().reset_index()"
   ]
  },
  {
   "cell_type": "markdown",
   "id": "valid-principal",
   "metadata": {},
   "source": [
    "Apparently, products with COICOP number 0 are another \"unknown\" category. We do not know how these products are related to the other category of \"unknown\" products with \"COICOP division\" 99."
   ]
  },
  {
   "cell_type": "code",
   "execution_count": null,
   "id": "standard-intro",
   "metadata": {},
   "outputs": [],
   "source": [
    "def split_coicop(coicop_column: pd.Series) -> pd.DataFrame:\n",
    "    return pd.DataFrame({\"coicop_number\": coicop_column, \n",
    "        \"coicop_division\": coicop_column.str[:2],\n",
    "        \"coicop_group\": coicop_column.str[:3],\n",
    "        \"coicop_class\": coicop_column.str[:4],\n",
    "        \"coicop_subclass\": coicop_column.str[:5],\n",
    "        \"coicop_subsubclass\": coicop_column,\n",
    "    })\n",
    "\n",
    "\n",
    "def get_category_counts(df: pd.DataFrame) -> pd.DataFrame:\n",
    "    unique_coicop = pd.Series(df[df.coicop_number.str.len() == 6].coicop_number.unique())\n",
    "    split_coicop_df = split_coicop(unique_coicop)\n",
    "    \n",
    "    #coicop_counts = df.coicop_number.value_counts().reset_index()\n",
    "    coicop_counts = df.groupby(by=[\"coicop_number\"])[\"ean_number\"].nunique().reset_index().rename(columns={\"ean_number\": \"count\"})\n",
    "    return split_coicop_df.merge(coicop_counts, on=\"coicop_number\")\n",
    "\n",
    "\n",
    "split_coicop_df = get_category_counts(lidl_df)\n",
    "split_coicop_df"
   ]
  },
  {
   "cell_type": "code",
   "execution_count": null,
   "id": "later-internship",
   "metadata": {},
   "outputs": [],
   "source": [
    "lidl_df = lidl_df.merge(split_coicop_df, on=\"coicop_number\", suffixes=['', '_y'])\n",
    "lidl_df.to_parquet(os.path.join(data_directory, \"ssi_omzet_eans_coicops_lidl_2018_202308.parquet\"), engine=\"pyarrow\")"
   ]
  },
  {
   "cell_type": "code",
   "execution_count": null,
   "id": "australian-horizontal",
   "metadata": {},
   "outputs": [],
   "source": [
    "lidl_df.head()"
   ]
  },
  {
   "cell_type": "code",
   "execution_count": null,
   "id": "likely-workstation",
   "metadata": {},
   "outputs": [],
   "source": [
    "len(lidl_df)"
   ]
  },
  {
   "cell_type": "code",
   "execution_count": null,
   "id": "functioning-filename",
   "metadata": {},
   "outputs": [],
   "source": [
    "coicop_label_df = lidl_df[split_coicop_df.columns]\n",
    "coicop_label_df"
   ]
  },
  {
   "cell_type": "code",
   "execution_count": null,
   "id": "pharmaceutical-civilization",
   "metadata": {},
   "outputs": [],
   "source": [
    "split_coicop_df.groupby(by=[\"coicop_division\", \"coicop_group\", \"coicop_class\", \"coicop_subclass\", \"coicop_subsubclass\"]).sum()[\"count\"].reset_index()"
   ]
  },
  {
   "cell_type": "code",
   "execution_count": null,
   "id": "directed-print",
   "metadata": {},
   "outputs": [],
   "source": [
    "len(split_coicop_df)"
   ]
  },
  {
   "cell_type": "code",
   "execution_count": null,
   "id": "complex-secret",
   "metadata": {},
   "outputs": [],
   "source": [
    "split_coicop_df[split_coicop_df.coicop_division == \"12\"]"
   ]
  },
  {
   "cell_type": "code",
   "execution_count": null,
   "id": "opened-google",
   "metadata": {},
   "outputs": [],
   "source": [
    "split_coicop_df.coicop_division.unique().tolist()"
   ]
  },
  {
   "cell_type": "code",
   "execution_count": null,
   "id": "acting-crest",
   "metadata": {},
   "outputs": [],
   "source": [
    " split_coicop_df.coicop_division.loc[2]"
   ]
  },
  {
   "cell_type": "code",
   "execution_count": null,
   "id": "pregnant-viewer",
   "metadata": {},
   "outputs": [],
   "source": [
    "split_coicop_df[split_coicop_df.coicop_class.str.startswith(\"\")]"
   ]
  },
  {
   "cell_type": "code",
   "execution_count": null,
   "id": "accomplished-jamaica",
   "metadata": {},
   "outputs": [],
   "source": [
    "from typing import List\n",
    "\n",
    "def traverse_dataframe(df: pd.DataFrame, label_columns: List[str] = None, coicop_value: str = \"\", max_index: int = -1) -> List[str]:\n",
    "    if label_columns is None:\n",
    "        return traverse_dataframe(df, df.columns.values.tolist())\n",
    "    if len(label_columns) == 0:\n",
    "        return max_index, []\n",
    "\n",
    "    column_values = []\n",
    "    current_column = label_columns[0]\n",
    "    \n",
    "    if current_column == \"count\":\n",
    "        return max_index, []\n",
    "    \n",
    "    unique_column_values = df[df[current_column].str.startswith(coicop_value)][current_column].unique().tolist()\n",
    "    \n",
    "    current_column_counts = df.groupby(by=current_column).sum()[\"count\"].reset_index()\n",
    "    for i, value in enumerate(unique_column_values): \n",
    "        coicop = unique_column_values[i]\n",
    "        current_index = max_index + 1\n",
    "        number_of_products = current_column_counts[current_column_counts[current_column] == value][\"count\"].values[0]    \n",
    "        \n",
    "        max_index, columns = traverse_dataframe(df, label_columns[1:], coicop, current_index)\n",
    "        column_values.append((coicop, current_index, columns, number_of_products))        \n",
    "       \n",
    "    return max_index, column_values\n",
    "\n",
    "coicop_tree = traverse_dataframe(split_coicop_df[split_coicop_df.columns.values.tolist()[1:]])   "
   ]
  },
  {
   "cell_type": "code",
   "execution_count": null,
   "id": "abstract-nebraska",
   "metadata": {},
   "outputs": [],
   "source": [
    "coicop_tree"
   ]
  },
  {
   "cell_type": "code",
   "execution_count": null,
   "id": "incredible-liabilities",
   "metadata": {},
   "outputs": [],
   "source": [
    "def get_sankey_values(coicop_tree):\n",
    "    labels = []\n",
    "    source = []\n",
    "    target = []\n",
    "    values = []\n",
    "    for coicop in coicop_tree: \n",
    "        labels.append(coicop[0])\n",
    "        for target_node in coicop[2]:\n",
    "            source.append(coicop[1])\n",
    "            target.append(target_node[1])\n",
    "            values.append(target_node[3])\n",
    "            \n",
    "        subtree_values = get_sankey_values(coicop[2])\n",
    "        labels.extend(subtree_values[0])\n",
    "        source.extend(subtree_values[1])\n",
    "        target.extend(subtree_values[2])\n",
    "        values.extend(subtree_values[3])\n",
    "            \n",
    "    return labels, source, target, values    \n",
    "    \n",
    "labels, source, target, values = get_sankey_values(coicop_tree[1])       "
   ]
  },
  {
   "cell_type": "code",
   "execution_count": null,
   "id": "mediterranean-governor",
   "metadata": {},
   "outputs": [],
   "source": [
    "from IPython.display import HTML\n",
    "import plotly.graph_objects as go\n",
    "import numpy as np\n",
    "\n",
    "#coicop_divisions = coicop_division_descriptions.groupby(by=\"coicop_division\")\n",
    "#division_percentages = coicop_divisions[\"count\"].sum() / coicop_division_descriptions[\"count\"].sum()\n",
    "\n",
    "\n",
    "\n",
    "fig = go.Figure(data=[go.Sankey(\n",
    "    node = dict(\n",
    "      pad = 15,\n",
    "      thickness = 20,\n",
    "      line = dict(color = \"black\", width = 0.5),\n",
    "      label = labels,\n",
    "      color = \"blue\"\n",
    "    ),\n",
    "    link = dict(\n",
    "      source = source, # indices correspond to labels, eg A1, A2, A1, B1, ...\n",
    "      target = target,\n",
    "      value = values\n",
    "  ))])\n",
    "\n",
    "fig.update_layout(title_text=\"Basic Sankey Diagram\", font_size=10)\n",
    "fig.write_html('plots/sankey_coicop_lidl.html')\n",
    "HTML(filename='plots/sankey_coicop_lidl.html')"
   ]
  },
  {
   "cell_type": "markdown",
   "id": "fiscal-dominant",
   "metadata": {},
   "source": [
    "A sunburst plot also gives an overview of the group sizes, in this the number of products per COICOP category, and the product hierarchy."
   ]
  },
  {
   "cell_type": "code",
   "execution_count": null,
   "id": "electoral-decline",
   "metadata": {},
   "outputs": [],
   "source": [
    "import plotly.express as px\n",
    "\n",
    "fig = px.sunburst(split_coicop_df, path=split_coicop_df.columns[1:-1], values=\"count\")\n",
    "fig.write_html('plots/sunburst_coicop_lidl.html')\n",
    "HTML(filename='plots/sunburst_coicop_lidl.html')"
   ]
  },
  {
   "cell_type": "code",
   "execution_count": null,
   "id": "understanding-slovak",
   "metadata": {},
   "outputs": [],
   "source": [
    "coicop_divisions = coicop_division_descriptions.groupby(by=\"coicop_division\")[\"count\"].sum().reset_index()\n",
    "coicop_divisions.head()"
   ]
  },
  {
   "cell_type": "code",
   "execution_count": null,
   "id": "expressed-practitioner",
   "metadata": {},
   "outputs": [],
   "source": [
    "coicop_divisions[\"count\"].sum() / coicop_division_descriptions[\"count\"].sum()"
   ]
  },
  {
   "cell_type": "code",
   "execution_count": null,
   "id": "proper-expansion",
   "metadata": {},
   "outputs": [],
   "source": [
    "division_percentages = (coicop_divisions[\"count\"].sum() / coicop_division_descriptions[\"count\"].sum()).values\n",
    "division_percentages"
   ]
  },
  {
   "cell_type": "markdown",
   "id": "durable-premiere",
   "metadata": {},
   "source": [
    "# Time-series of the number of products\n",
    "\n",
    "Products come and go in supermarkets, to analyse the number of products at a specific time, we can count the number of products per month and plot them."
   ]
  },
  {
   "cell_type": "code",
   "execution_count": null,
   "id": "demanding-cedar",
   "metadata": {},
   "outputs": [],
   "source": [
    "monthly_product_counts = lidl_df.groupby(\"month\")[\"ean_number\"].nunique()\n",
    "monthly_product_counts.plot()"
   ]
  },
  {
   "cell_type": "markdown",
   "id": "logical-penny",
   "metadata": {},
   "source": [
    "It looks the number of products first increased significantly after 2018, and then dropped a bit at the end of 2020. Let's look at the product development per year."
   ]
  },
  {
   "cell_type": "code",
   "execution_count": null,
   "id": "fleet-turtle",
   "metadata": {},
   "outputs": [],
   "source": [
    "monthly_product_counts = monthly_product_counts.reset_index()\n",
    "monthly_product_counts[\"year\"] = monthly_product_counts.month.str[:4]\n",
    "monthly_product_counts"
   ]
  },
  {
   "cell_type": "code",
   "execution_count": null,
   "id": "israeli-advertising",
   "metadata": {},
   "outputs": [],
   "source": [
    "import matplotlib.pyplot as plt\n",
    "\n",
    "years = monthly_product_counts.year.unique()\n",
    "monthly_product_counts = monthly_product_counts.set_index(\"month\")\n",
    "\n",
    "for year in years:\n",
    "    plt.figure()\n",
    "    monthly_product_counts[monthly_product_counts.year == year].plot()"
   ]
  },
  {
   "cell_type": "code",
   "execution_count": null,
   "id": "graphic-congress",
   "metadata": {},
   "outputs": [],
   "source": [
    "monthly_product_counts = lidl_df.groupby(by=[\"coicop_division\", \"month\"])[\"ean_number\"].nunique()\n",
    "monthly_product_counts.unstack(level=0).plot(subplots=True, rot=90, figsize=(10, 10), layout=(2,4))\n",
    "plt.tight_layout()"
   ]
  },
  {
   "cell_type": "code",
   "execution_count": null,
   "id": "reliable-budget",
   "metadata": {},
   "outputs": [],
   "source": [
    "monthly_product_counts = lidl_df.groupby(by=[\"coicop_division\", \"month\"])[\"ean_number\"].nunique()\n",
    "monthly_product_counts.unstack(level=0).plot(kind=\"bar\", subplots=True, rot=90, figsize=(10, 10), layout=(2,4))\n",
    "plt.tight_layout()"
   ]
  },
  {
   "cell_type": "code",
   "execution_count": null,
   "id": "answering-hunter",
   "metadata": {},
   "outputs": [],
   "source": []
  }
 ],
 "metadata": {
  "kernelspec": {
   "display_name": "ssi",
   "language": "python",
   "name": "ssi"
  },
  "language_info": {
   "codemirror_mode": {
    "name": "ipython",
    "version": 3
   },
   "file_extension": ".py",
   "mimetype": "text/x-python",
   "name": "python",
   "nbconvert_exporter": "python",
   "pygments_lexer": "ipython3",
   "version": "3.11.5"
  }
 },
 "nbformat": 4,
 "nbformat_minor": 5
}
