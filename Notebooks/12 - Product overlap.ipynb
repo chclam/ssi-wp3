{
 "cells": [
  {
   "cell_type": "code",
   "execution_count": 1,
   "id": "84a0d716",
   "metadata": {},
   "outputs": [
    {
     "data": {
      "text/plain": [
       "('/netappdata/ssi_tdjg/data/ssi/preprocessing/05-final',\n",
       " '/netappdata/ssi_tdjg/data/ssi/preprocessing/05-final/features')"
      ]
     },
     "execution_count": 1,
     "metadata": {},
     "output_type": "execute_result"
    }
   ],
   "source": [
    "import pandas as pd\n",
    "from dotenv import load_dotenv\n",
    "from pathlib import Path\n",
    "import os\n",
    "\n",
    "# load environment variables from .env file for project\n",
    "dotenv_path = Path('../.env')\n",
    "load_dotenv(dotenv_path=dotenv_path)\n",
    "\n",
    "#data_directory = os.getenv(\"data_directory\")\n",
    "data_directory = \"/netappdata/ssi_tdjg/data/ssi/preprocessing/05-final\"\n",
    "feature_directory = os.path.join(data_directory, \"features\")\n",
    "data_directory, feature_directory"
   ]
  },
  {
   "cell_type": "code",
   "execution_count": 2,
   "id": "b9b0dbff",
   "metadata": {},
   "outputs": [
    {
     "data": {
      "text/html": [
       "<div>\n",
       "<style scoped>\n",
       "    .dataframe tbody tr th:only-of-type {\n",
       "        vertical-align: middle;\n",
       "    }\n",
       "\n",
       "    .dataframe tbody tr th {\n",
       "        vertical-align: top;\n",
       "    }\n",
       "\n",
       "    .dataframe thead th {\n",
       "        text-align: right;\n",
       "    }\n",
       "</style>\n",
       "<table border=\"1\" class=\"dataframe\">\n",
       "  <thead>\n",
       "    <tr style=\"text-align: right;\">\n",
       "      <th></th>\n",
       "      <th>store_id</th>\n",
       "      <th>year_month</th>\n",
       "      <th>coicop_number</th>\n",
       "      <th>coicop_name</th>\n",
       "      <th>isba_number</th>\n",
       "      <th>isba_name</th>\n",
       "      <th>esba_number</th>\n",
       "      <th>esba_name</th>\n",
       "      <th>rep_id</th>\n",
       "      <th>ean_number</th>\n",
       "      <th>...</th>\n",
       "      <th>amount</th>\n",
       "      <th>year</th>\n",
       "      <th>month</th>\n",
       "      <th>product_id</th>\n",
       "      <th>coicop_level_1</th>\n",
       "      <th>coicop_level_2</th>\n",
       "      <th>coicop_level_3</th>\n",
       "      <th>coicop_level_4</th>\n",
       "      <th>count</th>\n",
       "      <th>receipt_text</th>\n",
       "    </tr>\n",
       "  </thead>\n",
       "  <tbody>\n",
       "    <tr>\n",
       "      <th>0</th>\n",
       "      <td>908515</td>\n",
       "      <td>201801</td>\n",
       "      <td>011110</td>\n",
       "      <td>Rijst</td>\n",
       "      <td>11110901</td>\n",
       "      <td>Rijst</td>\n",
       "      <td>47_40</td>\n",
       "      <td>Grund-/Nähr-/Hilfsmittel/Frühstück_Reis</td>\n",
       "      <td>3185518</td>\n",
       "      <td>92775.0</td>\n",
       "      <td>...</td>\n",
       "      <td>1.0</td>\n",
       "      <td>2018</td>\n",
       "      <td>01</td>\n",
       "      <td>3267751534058161652</td>\n",
       "      <td>01</td>\n",
       "      <td>011</td>\n",
       "      <td>0111</td>\n",
       "      <td>01111</td>\n",
       "      <td>56</td>\n",
       "      <td>sushi rijst</td>\n",
       "    </tr>\n",
       "    <tr>\n",
       "      <th>1</th>\n",
       "      <td>908515</td>\n",
       "      <td>201801</td>\n",
       "      <td>011110</td>\n",
       "      <td>Rijst</td>\n",
       "      <td>11110901</td>\n",
       "      <td>Rijst</td>\n",
       "      <td>47_40</td>\n",
       "      <td>Grund-/Nähr-/Hilfsmittel/Frühstück_Reis</td>\n",
       "      <td>3183385</td>\n",
       "      <td>22571.0</td>\n",
       "      <td>...</td>\n",
       "      <td>2565.0</td>\n",
       "      <td>2018</td>\n",
       "      <td>01</td>\n",
       "      <td>-3564191818957410183</td>\n",
       "      <td>01</td>\n",
       "      <td>011</td>\n",
       "      <td>0111</td>\n",
       "      <td>01111</td>\n",
       "      <td>56</td>\n",
       "      <td>italiaanse risotto gesorteerd</td>\n",
       "    </tr>\n",
       "    <tr>\n",
       "      <th>2</th>\n",
       "      <td>908515</td>\n",
       "      <td>201801</td>\n",
       "      <td>011110</td>\n",
       "      <td>Rijst</td>\n",
       "      <td>11110901</td>\n",
       "      <td>Rijst</td>\n",
       "      <td>47_40</td>\n",
       "      <td>Grund-/Nähr-/Hilfsmittel/Frühstück_Reis</td>\n",
       "      <td>3183851</td>\n",
       "      <td>51009.0</td>\n",
       "      <td>...</td>\n",
       "      <td>121651.0</td>\n",
       "      <td>2018</td>\n",
       "      <td>01</td>\n",
       "      <td>-4665729291832571192</td>\n",
       "      <td>01</td>\n",
       "      <td>011</td>\n",
       "      <td>0111</td>\n",
       "      <td>01111</td>\n",
       "      <td>56</td>\n",
       "      <td>rijst zilvervlies 1kg</td>\n",
       "    </tr>\n",
       "    <tr>\n",
       "      <th>3</th>\n",
       "      <td>908515</td>\n",
       "      <td>201801</td>\n",
       "      <td>011110</td>\n",
       "      <td>Rijst</td>\n",
       "      <td>11110901</td>\n",
       "      <td>Rijst</td>\n",
       "      <td>47_40</td>\n",
       "      <td>Grund-/Nähr-/Hilfsmittel/Frühstück_Reis</td>\n",
       "      <td>3183852</td>\n",
       "      <td>51010.0</td>\n",
       "      <td>...</td>\n",
       "      <td>66080.0</td>\n",
       "      <td>2018</td>\n",
       "      <td>01</td>\n",
       "      <td>-9042628376296108328</td>\n",
       "      <td>01</td>\n",
       "      <td>011</td>\n",
       "      <td>0111</td>\n",
       "      <td>01111</td>\n",
       "      <td>56</td>\n",
       "      <td>rijst wit 1kg</td>\n",
       "    </tr>\n",
       "    <tr>\n",
       "      <th>4</th>\n",
       "      <td>908515</td>\n",
       "      <td>201801</td>\n",
       "      <td>011110</td>\n",
       "      <td>Rijst</td>\n",
       "      <td>11110901</td>\n",
       "      <td>Rijst</td>\n",
       "      <td>47_40</td>\n",
       "      <td>Grund-/Nähr-/Hilfsmittel/Frühstück_Reis</td>\n",
       "      <td>3183945</td>\n",
       "      <td>55571.0</td>\n",
       "      <td>...</td>\n",
       "      <td>67783.0</td>\n",
       "      <td>2018</td>\n",
       "      <td>01</td>\n",
       "      <td>-6693002140100701691</td>\n",
       "      <td>01</td>\n",
       "      <td>011</td>\n",
       "      <td>0111</td>\n",
       "      <td>01111</td>\n",
       "      <td>56</td>\n",
       "      <td>traditionele basmati rijst xxl</td>\n",
       "    </tr>\n",
       "  </tbody>\n",
       "</table>\n",
       "<p>5 rows × 22 columns</p>\n",
       "</div>"
      ],
      "text/plain": [
       "  store_id year_month coicop_number coicop_name isba_number isba_name  \\\n",
       "0   908515     201801        011110       Rijst    11110901     Rijst   \n",
       "1   908515     201801        011110       Rijst    11110901     Rijst   \n",
       "2   908515     201801        011110       Rijst    11110901     Rijst   \n",
       "3   908515     201801        011110       Rijst    11110901     Rijst   \n",
       "4   908515     201801        011110       Rijst    11110901     Rijst   \n",
       "\n",
       "  esba_number                                esba_name   rep_id ean_number  \\\n",
       "0       47_40  Grund-/Nähr-/Hilfsmittel/Frühstück_Reis  3185518    92775.0   \n",
       "1       47_40  Grund-/Nähr-/Hilfsmittel/Frühstück_Reis  3183385    22571.0   \n",
       "2       47_40  Grund-/Nähr-/Hilfsmittel/Frühstück_Reis  3183851    51009.0   \n",
       "3       47_40  Grund-/Nähr-/Hilfsmittel/Frühstück_Reis  3183852    51010.0   \n",
       "4       47_40  Grund-/Nähr-/Hilfsmittel/Frühstück_Reis  3183945    55571.0   \n",
       "\n",
       "   ...    amount  year  month           product_id coicop_level_1  \\\n",
       "0  ...       1.0  2018     01  3267751534058161652             01   \n",
       "1  ...    2565.0  2018     01 -3564191818957410183             01   \n",
       "2  ...  121651.0  2018     01 -4665729291832571192             01   \n",
       "3  ...   66080.0  2018     01 -9042628376296108328             01   \n",
       "4  ...   67783.0  2018     01 -6693002140100701691             01   \n",
       "\n",
       "   coicop_level_2 coicop_level_3 coicop_level_4 count  \\\n",
       "0             011           0111          01111    56   \n",
       "1             011           0111          01111    56   \n",
       "2             011           0111          01111    56   \n",
       "3             011           0111          01111    56   \n",
       "4             011           0111          01111    56   \n",
       "\n",
       "                     receipt_text  \n",
       "0                     sushi rijst  \n",
       "1   italiaanse risotto gesorteerd  \n",
       "2           rijst zilvervlies 1kg  \n",
       "3                   rijst wit 1kg  \n",
       "4  traditionele basmati rijst xxl  \n",
       "\n",
       "[5 rows x 22 columns]"
      ]
     },
     "execution_count": 2,
     "metadata": {},
     "output_type": "execute_result"
    }
   ],
   "source": [
    "lidl_df = pd.read_parquet(os.path.join(data_directory, \"ssi_lidl_revenue.parquet\"), engine=\"pyarrow\")\n",
    "#lidl_df.rename(columns={\"bg_number\": \"supermarket_id\", \"ean_name\": \"receipt_text\"}, inplace=True)\n",
    "lidl_df.receipt_text = lidl_df.receipt_text.str.replace('[^0-9a-zA-Z.,-/ ]', '', regex=True).str.lstrip().str.rstrip().str.lower()\n",
    "lidl_df.head()"
   ]
  },
  {
   "cell_type": "code",
   "execution_count": 38,
   "id": "ecabca8f",
   "metadata": {},
   "outputs": [
    {
     "data": {
      "text/plain": [
       "('201801', '202308', 413280)"
      ]
     },
     "execution_count": 38,
     "metadata": {},
     "output_type": "execute_result"
    }
   ],
   "source": [
    "lidl_df.year_month.min(), lidl_df.year_month.max(), len(lidl_df)\n",
    "                                            "
   ]
  },
  {
   "cell_type": "code",
   "execution_count": 3,
   "id": "78efc251",
   "metadata": {},
   "outputs": [
    {
     "data": {
      "text/plain": [
       "Index(['store_id', 'year_month', 'coicop_number', 'coicop_name', 'isba_number',\n",
       "       'isba_name', 'esba_number', 'esba_name', 'rep_id', 'ean_number',\n",
       "       'ean_name', 'revenue', 'amount', 'year', 'month', 'product_id',\n",
       "       'coicop_level_1', 'coicop_level_2', 'coicop_level_3', 'coicop_level_4',\n",
       "       'count', 'receipt_text'],\n",
       "      dtype='object')"
      ]
     },
     "execution_count": 3,
     "metadata": {},
     "output_type": "execute_result"
    }
   ],
   "source": [
    "lidl_df.columns"
   ]
  },
  {
   "cell_type": "code",
   "execution_count": 4,
   "id": "742a3d09",
   "metadata": {},
   "outputs": [
    {
     "data": {
      "text/plain": [
       "['ssi_plus_revenue.parquet',\n",
       " 'ssi_jumbo_revenue.parquet',\n",
       " 'ssi_ah_revenue.parquet',\n",
       " 'ssi_lidl_revenue.parquet']"
      ]
     },
     "execution_count": 4,
     "metadata": {},
     "output_type": "execute_result"
    }
   ],
   "source": [
    "os.listdir(data_directory)"
   ]
  },
  {
   "cell_type": "code",
   "execution_count": 5,
   "id": "08f901e4",
   "metadata": {},
   "outputs": [
    {
     "data": {
      "text/html": [
       "<div>\n",
       "<style scoped>\n",
       "    .dataframe tbody tr th:only-of-type {\n",
       "        vertical-align: middle;\n",
       "    }\n",
       "\n",
       "    .dataframe tbody tr th {\n",
       "        vertical-align: top;\n",
       "    }\n",
       "\n",
       "    .dataframe thead th {\n",
       "        text-align: right;\n",
       "    }\n",
       "</style>\n",
       "<table border=\"1\" class=\"dataframe\">\n",
       "  <thead>\n",
       "    <tr style=\"text-align: right;\">\n",
       "      <th></th>\n",
       "      <th>start_date</th>\n",
       "      <th>end_date</th>\n",
       "      <th>store_id</th>\n",
       "      <th>year_month</th>\n",
       "      <th>coicop_number</th>\n",
       "      <th>coicop_name</th>\n",
       "      <th>isba_number</th>\n",
       "      <th>isba_name</th>\n",
       "      <th>esba_number</th>\n",
       "      <th>esba_name</th>\n",
       "      <th>...</th>\n",
       "      <th>amount</th>\n",
       "      <th>year</th>\n",
       "      <th>month</th>\n",
       "      <th>product_id</th>\n",
       "      <th>coicop_level_1</th>\n",
       "      <th>coicop_level_2</th>\n",
       "      <th>coicop_level_3</th>\n",
       "      <th>coicop_level_4</th>\n",
       "      <th>count</th>\n",
       "      <th>receipt_text</th>\n",
       "    </tr>\n",
       "  </thead>\n",
       "  <tbody>\n",
       "    <tr>\n",
       "      <th>0</th>\n",
       "      <td>2022-03-01</td>\n",
       "      <td>2022-03-31</td>\n",
       "      <td>901027</td>\n",
       "      <td>202203</td>\n",
       "      <td>011110</td>\n",
       "      <td>Rijst</td>\n",
       "      <td>11110701</td>\n",
       "      <td>Rijst</td>\n",
       "      <td>3711</td>\n",
       "      <td>Witte rijst</td>\n",
       "      <td>...</td>\n",
       "      <td>4781.0</td>\n",
       "      <td>2022</td>\n",
       "      <td>03</td>\n",
       "      <td>-5090812329662242176</td>\n",
       "      <td>01</td>\n",
       "      <td>011</td>\n",
       "      <td>0111</td>\n",
       "      <td>01111</td>\n",
       "      <td>298</td>\n",
       "      <td>snelkookrijst buil</td>\n",
       "    </tr>\n",
       "    <tr>\n",
       "      <th>1</th>\n",
       "      <td>2022-03-01</td>\n",
       "      <td>2022-03-31</td>\n",
       "      <td>901027</td>\n",
       "      <td>202203</td>\n",
       "      <td>011110</td>\n",
       "      <td>Rijst</td>\n",
       "      <td>11110701</td>\n",
       "      <td>Rijst</td>\n",
       "      <td>3711</td>\n",
       "      <td>Witte rijst</td>\n",
       "      <td>...</td>\n",
       "      <td>17145.0</td>\n",
       "      <td>2022</td>\n",
       "      <td>03</td>\n",
       "      <td>3243999266577649169</td>\n",
       "      <td>01</td>\n",
       "      <td>011</td>\n",
       "      <td>0111</td>\n",
       "      <td>01111</td>\n",
       "      <td>298</td>\n",
       "      <td>witte rijst</td>\n",
       "    </tr>\n",
       "    <tr>\n",
       "      <th>2</th>\n",
       "      <td>2022-03-01</td>\n",
       "      <td>2022-03-31</td>\n",
       "      <td>901027</td>\n",
       "      <td>202203</td>\n",
       "      <td>011110</td>\n",
       "      <td>Rijst</td>\n",
       "      <td>11110701</td>\n",
       "      <td>Rijst</td>\n",
       "      <td>3711</td>\n",
       "      <td>Witte rijst</td>\n",
       "      <td>...</td>\n",
       "      <td>24363.0</td>\n",
       "      <td>2022</td>\n",
       "      <td>03</td>\n",
       "      <td>-2599113672145145167</td>\n",
       "      <td>01</td>\n",
       "      <td>011</td>\n",
       "      <td>0111</td>\n",
       "      <td>01111</td>\n",
       "      <td>298</td>\n",
       "      <td>witte rijst</td>\n",
       "    </tr>\n",
       "    <tr>\n",
       "      <th>3</th>\n",
       "      <td>2022-03-01</td>\n",
       "      <td>2022-03-31</td>\n",
       "      <td>901027</td>\n",
       "      <td>202203</td>\n",
       "      <td>011110</td>\n",
       "      <td>Rijst</td>\n",
       "      <td>11110701</td>\n",
       "      <td>Rijst</td>\n",
       "      <td>3711</td>\n",
       "      <td>Witte rijst</td>\n",
       "      <td>...</td>\n",
       "      <td>2051.0</td>\n",
       "      <td>2022</td>\n",
       "      <td>03</td>\n",
       "      <td>4452068391797043079</td>\n",
       "      <td>01</td>\n",
       "      <td>011</td>\n",
       "      <td>0111</td>\n",
       "      <td>01111</td>\n",
       "      <td>298</td>\n",
       "      <td>1 minuut witte rijst</td>\n",
       "    </tr>\n",
       "    <tr>\n",
       "      <th>4</th>\n",
       "      <td>2022-03-01</td>\n",
       "      <td>2022-03-31</td>\n",
       "      <td>901027</td>\n",
       "      <td>202203</td>\n",
       "      <td>011110</td>\n",
       "      <td>Rijst</td>\n",
       "      <td>11110701</td>\n",
       "      <td>Rijst</td>\n",
       "      <td>3711</td>\n",
       "      <td>Witte rijst</td>\n",
       "      <td>...</td>\n",
       "      <td>1864.0</td>\n",
       "      <td>2022</td>\n",
       "      <td>03</td>\n",
       "      <td>676954586733214782</td>\n",
       "      <td>01</td>\n",
       "      <td>011</td>\n",
       "      <td>0111</td>\n",
       "      <td>01111</td>\n",
       "      <td>298</td>\n",
       "      <td>1 minuut zilv.rijst</td>\n",
       "    </tr>\n",
       "  </tbody>\n",
       "</table>\n",
       "<p>5 rows × 24 columns</p>\n",
       "</div>"
      ],
      "text/plain": [
       "   start_date    end_date store_id year_month coicop_number coicop_name  \\\n",
       "0  2022-03-01  2022-03-31   901027     202203        011110       Rijst   \n",
       "1  2022-03-01  2022-03-31   901027     202203        011110       Rijst   \n",
       "2  2022-03-01  2022-03-31   901027     202203        011110       Rijst   \n",
       "3  2022-03-01  2022-03-31   901027     202203        011110       Rijst   \n",
       "4  2022-03-01  2022-03-31   901027     202203        011110       Rijst   \n",
       "\n",
       "  isba_number isba_name esba_number    esba_name  ...   amount  year month  \\\n",
       "0    11110701     Rijst        3711  Witte rijst  ...   4781.0  2022    03   \n",
       "1    11110701     Rijst        3711  Witte rijst  ...  17145.0  2022    03   \n",
       "2    11110701     Rijst        3711  Witte rijst  ...  24363.0  2022    03   \n",
       "3    11110701     Rijst        3711  Witte rijst  ...   2051.0  2022    03   \n",
       "4    11110701     Rijst        3711  Witte rijst  ...   1864.0  2022    03   \n",
       "\n",
       "            product_id  coicop_level_1 coicop_level_2 coicop_level_3  \\\n",
       "0 -5090812329662242176              01            011           0111   \n",
       "1  3243999266577649169              01            011           0111   \n",
       "2 -2599113672145145167              01            011           0111   \n",
       "3  4452068391797043079              01            011           0111   \n",
       "4   676954586733214782              01            011           0111   \n",
       "\n",
       "   coicop_level_4 count          receipt_text  \n",
       "0           01111   298    snelkookrijst buil  \n",
       "1           01111   298           witte rijst  \n",
       "2           01111   298           witte rijst  \n",
       "3           01111   298  1 minuut witte rijst  \n",
       "4           01111   298   1 minuut zilv.rijst  \n",
       "\n",
       "[5 rows x 24 columns]"
      ]
     },
     "execution_count": 5,
     "metadata": {},
     "output_type": "execute_result"
    }
   ],
   "source": [
    "plus_df = pd.read_parquet(os.path.join(data_directory, \"ssi_plus_revenue.parquet\"), engine=\"pyarrow\")\n",
    "plus_df.receipt_text = plus_df.receipt_text.str.replace('[^0-9a-zA-Z.,-/ ]', '', regex=True).str.lstrip().str.rstrip().str.lower()\n",
    "plus_df.head()"
   ]
  },
  {
   "cell_type": "code",
   "execution_count": 44,
   "id": "0bef4bc0",
   "metadata": {},
   "outputs": [
    {
     "data": {
      "text/html": [
       "<div>\n",
       "<style scoped>\n",
       "    .dataframe tbody tr th:only-of-type {\n",
       "        vertical-align: middle;\n",
       "    }\n",
       "\n",
       "    .dataframe tbody tr th {\n",
       "        vertical-align: top;\n",
       "    }\n",
       "\n",
       "    .dataframe thead th {\n",
       "        text-align: right;\n",
       "    }\n",
       "</style>\n",
       "<table border=\"1\" class=\"dataframe\">\n",
       "  <thead>\n",
       "    <tr style=\"text-align: right;\">\n",
       "      <th></th>\n",
       "      <th>store_id</th>\n",
       "      <th>year_month</th>\n",
       "      <th>coicop_number</th>\n",
       "      <th>coicop_name</th>\n",
       "      <th>isba_number</th>\n",
       "      <th>isba_name</th>\n",
       "      <th>esba_number</th>\n",
       "      <th>esba_name</th>\n",
       "      <th>rep_id</th>\n",
       "      <th>ean_number</th>\n",
       "      <th>...</th>\n",
       "      <th>month</th>\n",
       "      <th>product_id</th>\n",
       "      <th>coicop_level_1</th>\n",
       "      <th>coicop_level_2</th>\n",
       "      <th>coicop_level_3</th>\n",
       "      <th>coicop_level_4</th>\n",
       "      <th>count</th>\n",
       "      <th>receipt_text</th>\n",
       "      <th>isba_description</th>\n",
       "      <th>start_date</th>\n",
       "    </tr>\n",
       "  </thead>\n",
       "  <tbody>\n",
       "    <tr>\n",
       "      <th>0</th>\n",
       "      <td>470111</td>\n",
       "      <td>202301</td>\n",
       "      <td>011110</td>\n",
       "      <td>Rijst</td>\n",
       "      <td>0111102201_011118001</td>\n",
       "      <td>Rijst</td>\n",
       "      <td>182200</td>\n",
       "      <td>basis rijst</td>\n",
       "      <td>58650694</td>\n",
       "      <td>5011157996592</td>\n",
       "      <td>...</td>\n",
       "      <td>01</td>\n",
       "      <td>4013017697068537924</td>\n",
       "      <td>01</td>\n",
       "      <td>011</td>\n",
       "      <td>0111</td>\n",
       "      <td>01111</td>\n",
       "      <td>238</td>\n",
       "      <td>tilda rice</td>\n",
       "      <td>Rijst</td>\n",
       "      <td>2023-01-01</td>\n",
       "    </tr>\n",
       "    <tr>\n",
       "      <th>1</th>\n",
       "      <td>470111</td>\n",
       "      <td>202301</td>\n",
       "      <td>011110</td>\n",
       "      <td>Rijst</td>\n",
       "      <td>0111102201_011118001</td>\n",
       "      <td>Rijst</td>\n",
       "      <td>182200</td>\n",
       "      <td>basis rijst</td>\n",
       "      <td>4923416</td>\n",
       "      <td>8718781600624</td>\n",
       "      <td>...</td>\n",
       "      <td>01</td>\n",
       "      <td>6123949729820683062</td>\n",
       "      <td>01</td>\n",
       "      <td>011</td>\n",
       "      <td>0111</td>\n",
       "      <td>01111</td>\n",
       "      <td>238</td>\n",
       "      <td>lassie built</td>\n",
       "      <td>Rijst</td>\n",
       "      <td>2023-01-01</td>\n",
       "    </tr>\n",
       "    <tr>\n",
       "      <th>2</th>\n",
       "      <td>470111</td>\n",
       "      <td>202301</td>\n",
       "      <td>011110</td>\n",
       "      <td>Rijst</td>\n",
       "      <td>0111102201_011118001</td>\n",
       "      <td>Rijst</td>\n",
       "      <td>182200</td>\n",
       "      <td>basis rijst</td>\n",
       "      <td>14857942</td>\n",
       "      <td>8718781601133</td>\n",
       "      <td>...</td>\n",
       "      <td>01</td>\n",
       "      <td>-3771322195463238841</td>\n",
       "      <td>01</td>\n",
       "      <td>011</td>\n",
       "      <td>0111</td>\n",
       "      <td>01111</td>\n",
       "      <td>238</td>\n",
       "      <td>vliesrijst</td>\n",
       "      <td>Rijst</td>\n",
       "      <td>2023-01-01</td>\n",
       "    </tr>\n",
       "    <tr>\n",
       "      <th>3</th>\n",
       "      <td>470111</td>\n",
       "      <td>202301</td>\n",
       "      <td>011110</td>\n",
       "      <td>Rijst</td>\n",
       "      <td>0111102201_011118001</td>\n",
       "      <td>Rijst</td>\n",
       "      <td>182200</td>\n",
       "      <td>basis rijst</td>\n",
       "      <td>58650708</td>\n",
       "      <td>8718781601706</td>\n",
       "      <td>...</td>\n",
       "      <td>01</td>\n",
       "      <td>-2379360330508535683</td>\n",
       "      <td>01</td>\n",
       "      <td>011</td>\n",
       "      <td>0111</td>\n",
       "      <td>01111</td>\n",
       "      <td>238</td>\n",
       "      <td>lassie rijst</td>\n",
       "      <td>Rijst</td>\n",
       "      <td>2023-01-01</td>\n",
       "    </tr>\n",
       "    <tr>\n",
       "      <th>4</th>\n",
       "      <td>470111</td>\n",
       "      <td>202301</td>\n",
       "      <td>011110</td>\n",
       "      <td>Rijst</td>\n",
       "      <td>0111102201_011118001</td>\n",
       "      <td>Rijst</td>\n",
       "      <td>182200</td>\n",
       "      <td>basis rijst</td>\n",
       "      <td>59230031</td>\n",
       "      <td>8718781601768</td>\n",
       "      <td>...</td>\n",
       "      <td>01</td>\n",
       "      <td>5616022400798920137</td>\n",
       "      <td>01</td>\n",
       "      <td>011</td>\n",
       "      <td>0111</td>\n",
       "      <td>01111</td>\n",
       "      <td>238</td>\n",
       "      <td>lassie rijst</td>\n",
       "      <td>Rijst</td>\n",
       "      <td>2023-01-01</td>\n",
       "    </tr>\n",
       "  </tbody>\n",
       "</table>\n",
       "<p>5 rows × 24 columns</p>\n",
       "</div>"
      ],
      "text/plain": [
       "  store_id year_month coicop_number coicop_name           isba_number  \\\n",
       "0   470111     202301        011110       Rijst  0111102201_011118001   \n",
       "1   470111     202301        011110       Rijst  0111102201_011118001   \n",
       "2   470111     202301        011110       Rijst  0111102201_011118001   \n",
       "3   470111     202301        011110       Rijst  0111102201_011118001   \n",
       "4   470111     202301        011110       Rijst  0111102201_011118001   \n",
       "\n",
       "  isba_name esba_number    esba_name    rep_id     ean_number  ... month  \\\n",
       "0     Rijst      182200  basis rijst  58650694  5011157996592  ...    01   \n",
       "1     Rijst      182200  basis rijst   4923416  8718781600624  ...    01   \n",
       "2     Rijst      182200  basis rijst  14857942  8718781601133  ...    01   \n",
       "3     Rijst      182200  basis rijst  58650708  8718781601706  ...    01   \n",
       "4     Rijst      182200  basis rijst  59230031  8718781601768  ...    01   \n",
       "\n",
       "            product_id  coicop_level_1 coicop_level_2 coicop_level_3  \\\n",
       "0  4013017697068537924              01            011           0111   \n",
       "1  6123949729820683062              01            011           0111   \n",
       "2 -3771322195463238841              01            011           0111   \n",
       "3 -2379360330508535683              01            011           0111   \n",
       "4  5616022400798920137              01            011           0111   \n",
       "\n",
       "   coicop_level_4 count  receipt_text isba_description  start_date  \n",
       "0           01111   238    tilda rice            Rijst  2023-01-01  \n",
       "1           01111   238  lassie built            Rijst  2023-01-01  \n",
       "2           01111   238    vliesrijst            Rijst  2023-01-01  \n",
       "3           01111   238  lassie rijst            Rijst  2023-01-01  \n",
       "4           01111   238  lassie rijst            Rijst  2023-01-01  \n",
       "\n",
       "[5 rows x 24 columns]"
      ]
     },
     "execution_count": 44,
     "metadata": {},
     "output_type": "execute_result"
    }
   ],
   "source": [
    "ah_df = pd.read_parquet(os.path.join(data_directory, \"ssi_ah_revenue.parquet\"), engine=\"pyarrow\")\n",
    "ah_df.receipt_text = ah_df.receipt_text.str.replace('[^0-9a-zA-Z.,-/ ]', '', regex=True).str.lstrip().str.rstrip().str.lower()\n",
    "ah_df.head()"
   ]
  },
  {
   "cell_type": "code",
   "execution_count": 66,
   "id": "21b70eb6",
   "metadata": {},
   "outputs": [
    {
     "data": {
      "text/plain": [
       "1297653"
      ]
     },
     "execution_count": 66,
     "metadata": {},
     "output_type": "execute_result"
    }
   ],
   "source": [
    "len(jumbo_df)"
   ]
  },
  {
   "cell_type": "code",
   "execution_count": 47,
   "id": "07934966",
   "metadata": {},
   "outputs": [
    {
     "data": {
      "text/plain": [
       "945023"
      ]
     },
     "execution_count": 47,
     "metadata": {},
     "output_type": "execute_result"
    }
   ],
   "source": [
    "len(ah_df)"
   ]
  },
  {
   "cell_type": "code",
   "execution_count": 51,
   "id": "9d49faad",
   "metadata": {},
   "outputs": [
    {
     "data": {
      "text/plain": [
       "('202301', '202312')"
      ]
     },
     "execution_count": 51,
     "metadata": {},
     "output_type": "execute_result"
    }
   ],
   "source": [
    "ah_df.year_month.min(), ah_df.year_month.max()"
   ]
  },
  {
   "cell_type": "code",
   "execution_count": 56,
   "id": "9346b34b",
   "metadata": {},
   "outputs": [
    {
     "data": {
      "text/plain": [
       "737862    royal tomate\n",
       "606985           kiosk\n",
       "707210    ah koekenpan\n",
       "535075     honig basis\n",
       "652262     bavaria 0.0\n",
       "757818     trappe isid\n",
       "360532     stickerboek\n",
       "70988        wenskaart\n",
       "19682            kiosk\n",
       "94611     gourmet doos\n",
       "Name: receipt_text, dtype: object"
      ]
     },
     "execution_count": 56,
     "metadata": {},
     "output_type": "execute_result"
    }
   ],
   "source": [
    "ah_df.receipt_text.sample(10)"
   ]
  },
  {
   "cell_type": "code",
   "execution_count": 58,
   "id": "dfc679df",
   "metadata": {},
   "outputs": [
    {
     "data": {
      "text/plain": [
       "0"
      ]
     },
     "execution_count": 58,
     "metadata": {},
     "output_type": "execute_result"
    }
   ],
   "source": [
    "ah_df.receipt_text.isna().sum()"
   ]
  },
  {
   "cell_type": "code",
   "execution_count": 65,
   "id": "a0acbdb0",
   "metadata": {},
   "outputs": [
    {
     "data": {
      "text/html": [
       "<div>\n",
       "<style scoped>\n",
       "    .dataframe tbody tr th:only-of-type {\n",
       "        vertical-align: middle;\n",
       "    }\n",
       "\n",
       "    .dataframe tbody tr th {\n",
       "        vertical-align: top;\n",
       "    }\n",
       "\n",
       "    .dataframe thead th {\n",
       "        text-align: right;\n",
       "    }\n",
       "</style>\n",
       "<table border=\"1\" class=\"dataframe\">\n",
       "  <thead>\n",
       "    <tr style=\"text-align: right;\">\n",
       "      <th></th>\n",
       "      <th>start_date</th>\n",
       "      <th>end_date</th>\n",
       "      <th>store_id</th>\n",
       "      <th>year_month</th>\n",
       "      <th>coicop_number</th>\n",
       "      <th>coicop_name</th>\n",
       "      <th>isba_number</th>\n",
       "      <th>isba_name</th>\n",
       "      <th>esba_number</th>\n",
       "      <th>esba_name</th>\n",
       "      <th>...</th>\n",
       "      <th>ean_name</th>\n",
       "      <th>revenue</th>\n",
       "      <th>amount</th>\n",
       "      <th>year</th>\n",
       "      <th>month</th>\n",
       "      <th>coicop_level_1</th>\n",
       "      <th>coicop_level_2</th>\n",
       "      <th>coicop_level_3</th>\n",
       "      <th>coicop_level_4</th>\n",
       "      <th>receipt_text</th>\n",
       "    </tr>\n",
       "  </thead>\n",
       "  <tbody>\n",
       "    <tr>\n",
       "      <th>0</th>\n",
       "      <td>2023-05-01</td>\n",
       "      <td>2023-05-31</td>\n",
       "      <td>906172</td>\n",
       "      <td>202305</td>\n",
       "      <td>011710</td>\n",
       "      <td>Verse of gekoelde groenten behalve aardappele...</td>\n",
       "      <td>011710009_011748002</td>\n",
       "      <td>Overige verse groenten</td>\n",
       "      <td>1628</td>\n",
       "      <td>3D_GRNTN ONBW</td>\n",
       "      <td>...</td>\n",
       "      <td>PREI</td>\n",
       "      <td>1489.079956</td>\n",
       "      <td>1384.0</td>\n",
       "      <td>2023</td>\n",
       "      <td>05</td>\n",
       "      <td>01</td>\n",
       "      <td>011</td>\n",
       "      <td>0117</td>\n",
       "      <td>01171</td>\n",
       "      <td>prei</td>\n",
       "    </tr>\n",
       "    <tr>\n",
       "      <th>1</th>\n",
       "      <td>2023-05-01</td>\n",
       "      <td>2023-05-31</td>\n",
       "      <td>906172</td>\n",
       "      <td>202305</td>\n",
       "      <td>011710</td>\n",
       "      <td>Verse of gekoelde groenten behalve aardappele...</td>\n",
       "      <td>011710009_011748002</td>\n",
       "      <td>Overige verse groenten</td>\n",
       "      <td>1628</td>\n",
       "      <td>3D_GRNTN ONBW</td>\n",
       "      <td>...</td>\n",
       "      <td>PREI</td>\n",
       "      <td>1489.079956</td>\n",
       "      <td>1384.0</td>\n",
       "      <td>2023</td>\n",
       "      <td>05</td>\n",
       "      <td>01</td>\n",
       "      <td>011</td>\n",
       "      <td>0117</td>\n",
       "      <td>01171</td>\n",
       "      <td>vleestomaten</td>\n",
       "    </tr>\n",
       "    <tr>\n",
       "      <th>2</th>\n",
       "      <td>2023-05-01</td>\n",
       "      <td>2023-05-31</td>\n",
       "      <td>906172</td>\n",
       "      <td>202305</td>\n",
       "      <td>011710</td>\n",
       "      <td>Verse of gekoelde groenten behalve aardappele...</td>\n",
       "      <td>011710009_011748002</td>\n",
       "      <td>Overige verse groenten</td>\n",
       "      <td>1628</td>\n",
       "      <td>3D_GRNTN ONBW</td>\n",
       "      <td>...</td>\n",
       "      <td>PREI</td>\n",
       "      <td>1489.079956</td>\n",
       "      <td>1384.0</td>\n",
       "      <td>2023</td>\n",
       "      <td>05</td>\n",
       "      <td>01</td>\n",
       "      <td>011</td>\n",
       "      <td>0117</td>\n",
       "      <td>01171</td>\n",
       "      <td>prei</td>\n",
       "    </tr>\n",
       "    <tr>\n",
       "      <th>3</th>\n",
       "      <td>2023-05-01</td>\n",
       "      <td>2023-05-31</td>\n",
       "      <td>906172</td>\n",
       "      <td>202305</td>\n",
       "      <td>011710</td>\n",
       "      <td>Verse of gekoelde groenten behalve aardappele...</td>\n",
       "      <td>011710009_011748002</td>\n",
       "      <td>Overige verse groenten</td>\n",
       "      <td>1628</td>\n",
       "      <td>3D_GRNTN ONBW</td>\n",
       "      <td>...</td>\n",
       "      <td>ADJUMA ROOD</td>\n",
       "      <td>142.000000</td>\n",
       "      <td>125.0</td>\n",
       "      <td>2023</td>\n",
       "      <td>05</td>\n",
       "      <td>01</td>\n",
       "      <td>011</td>\n",
       "      <td>0117</td>\n",
       "      <td>01171</td>\n",
       "      <td>adjuma rood</td>\n",
       "    </tr>\n",
       "    <tr>\n",
       "      <th>4</th>\n",
       "      <td>2023-05-01</td>\n",
       "      <td>2023-05-31</td>\n",
       "      <td>906172</td>\n",
       "      <td>202305</td>\n",
       "      <td>011710</td>\n",
       "      <td>Verse of gekoelde groenten behalve aardappele...</td>\n",
       "      <td>011710009_011748002</td>\n",
       "      <td>Overige verse groenten</td>\n",
       "      <td>1628</td>\n",
       "      <td>3D_GRNTN ONBW</td>\n",
       "      <td>...</td>\n",
       "      <td>ADJUMA ROOD</td>\n",
       "      <td>142.000000</td>\n",
       "      <td>125.0</td>\n",
       "      <td>2023</td>\n",
       "      <td>05</td>\n",
       "      <td>01</td>\n",
       "      <td>011</td>\n",
       "      <td>0117</td>\n",
       "      <td>01171</td>\n",
       "      <td>adjuma rood</td>\n",
       "    </tr>\n",
       "  </tbody>\n",
       "</table>\n",
       "<p>5 rows × 22 columns</p>\n",
       "</div>"
      ],
      "text/plain": [
       "   start_date    end_date store_id year_month coicop_number  \\\n",
       "0  2023-05-01  2023-05-31   906172     202305        011710   \n",
       "1  2023-05-01  2023-05-31   906172     202305        011710   \n",
       "2  2023-05-01  2023-05-31   906172     202305        011710   \n",
       "3  2023-05-01  2023-05-31   906172     202305        011710   \n",
       "4  2023-05-01  2023-05-31   906172     202305        011710   \n",
       "\n",
       "                                         coicop_name          isba_number  \\\n",
       "0   Verse of gekoelde groenten behalve aardappele...  011710009_011748002   \n",
       "1   Verse of gekoelde groenten behalve aardappele...  011710009_011748002   \n",
       "2   Verse of gekoelde groenten behalve aardappele...  011710009_011748002   \n",
       "3   Verse of gekoelde groenten behalve aardappele...  011710009_011748002   \n",
       "4   Verse of gekoelde groenten behalve aardappele...  011710009_011748002   \n",
       "\n",
       "                isba_name esba_number      esba_name  ...     ean_name  \\\n",
       "0  Overige verse groenten        1628  3D_GRNTN ONBW  ...         PREI   \n",
       "1  Overige verse groenten        1628  3D_GRNTN ONBW  ...         PREI   \n",
       "2  Overige verse groenten        1628  3D_GRNTN ONBW  ...         PREI   \n",
       "3  Overige verse groenten        1628  3D_GRNTN ONBW  ...  ADJUMA ROOD   \n",
       "4  Overige verse groenten        1628  3D_GRNTN ONBW  ...  ADJUMA ROOD   \n",
       "\n",
       "       revenue  amount  year  month coicop_level_1 coicop_level_2  \\\n",
       "0  1489.079956  1384.0  2023     05             01            011   \n",
       "1  1489.079956  1384.0  2023     05             01            011   \n",
       "2  1489.079956  1384.0  2023     05             01            011   \n",
       "3   142.000000   125.0  2023     05             01            011   \n",
       "4   142.000000   125.0  2023     05             01            011   \n",
       "\n",
       "  coicop_level_3 coicop_level_4  receipt_text  \n",
       "0           0117          01171          prei  \n",
       "1           0117          01171  vleestomaten  \n",
       "2           0117          01171          prei  \n",
       "3           0117          01171   adjuma rood  \n",
       "4           0117          01171   adjuma rood  \n",
       "\n",
       "[5 rows x 22 columns]"
      ]
     },
     "execution_count": 65,
     "metadata": {},
     "output_type": "execute_result"
    }
   ],
   "source": [
    "jumbo_df = pd.read_parquet(os.path.join(data_directory, \"ssi_jumbo_revenue.parquet\"), engine=\"pyarrow\")\n",
    "jumbo_df.receipt_text = jumbo_df.receipt_text.str.replace('[^0-9a-zA-Z.,-/ ]', '', regex=True).str.lstrip().str.rstrip().str.lower()\n",
    "jumbo_df.head()"
   ]
  },
  {
   "cell_type": "code",
   "execution_count": 74,
   "id": "ec3d78bb",
   "metadata": {},
   "outputs": [
    {
     "data": {
      "text/plain": [
       "Index(['start_date', 'end_date', 'store_id', 'year_month', 'coicop_number',\n",
       "       'coicop_name', 'isba_number', 'isba_name', 'esba_number', 'esba_name',\n",
       "       'rep_id', 'ean_number', 'ean_name', 'revenue', 'amount', 'year',\n",
       "       'month', 'coicop_level_1', 'coicop_level_2', 'coicop_level_3',\n",
       "       'coicop_level_4', 'receipt_text'],\n",
       "      dtype='object')"
      ]
     },
     "execution_count": 74,
     "metadata": {},
     "output_type": "execute_result"
    }
   ],
   "source": [
    "jumbo_df.columns"
   ]
  },
  {
   "cell_type": "code",
   "execution_count": 75,
   "id": "972cc1d3",
   "metadata": {},
   "outputs": [
    {
     "data": {
      "text/plain": [
       "1297653"
      ]
     },
     "execution_count": 75,
     "metadata": {},
     "output_type": "execute_result"
    }
   ],
   "source": [
    "len(jumbo_df)"
   ]
  },
  {
   "cell_type": "code",
   "execution_count": 72,
   "id": "f1dcbd62",
   "metadata": {},
   "outputs": [],
   "source": [
    "unique_eans_lidl = set(lidl_df.ean_number.values.tolist())\n",
    "unique_eans_plus = set(plus_df.ean_number.values.tolist())\n",
    "unique_eans_ah = set(ah_df.ean_number.values.tolist())\n",
    "unique_eans_jumbo = set(jumbo_df.ean_number.values.tolist())"
   ]
  },
  {
   "cell_type": "code",
   "execution_count": 73,
   "id": "b053e371",
   "metadata": {},
   "outputs": [
    {
     "data": {
      "text/plain": [
       "(40659, 118460, 41060, 1538, 159119)"
      ]
     },
     "execution_count": 73,
     "metadata": {},
     "output_type": "execute_result"
    }
   ],
   "source": [
    "len(unique_eans_lidl), len(unique_eans_plus), len(unique_eans_ah), len(unique_eans_jumbo), len(unique_eans_lidl) + len(unique_eans_plus)"
   ]
  },
  {
   "cell_type": "code",
   "execution_count": 64,
   "id": "05042b32",
   "metadata": {},
   "outputs": [
    {
     "data": {
      "text/plain": [
       "(0.0829567807741376, 10.524699097291876, 0.0)"
      ]
     },
     "execution_count": 64,
     "metadata": {},
     "output_type": "execute_result"
    }
   ],
   "source": [
    "plus_lidl = len(unique_eans_plus.intersection(unique_eans_lidl)) / (len(unique_eans_plus) + len(unique_eans_lidl)) * 100\n",
    "plus_ah = len(unique_eans_plus.intersection(unique_eans_ah)) / (len(unique_eans_plus) + len(unique_eans_ah)) * 100\n",
    "ah_lidl = len(unique_eans_lidl.intersection(unique_eans_ah)) / (len(unique_eans_lidl) + len(unique_eans_ah)) * 100\n",
    "plus_lidl, plus_ah, ah_lidl"
   ]
  },
  {
   "cell_type": "code",
   "execution_count": 48,
   "id": "a3af5f49",
   "metadata": {},
   "outputs": [
    {
     "data": {
      "text/plain": [
       "132"
      ]
     },
     "execution_count": 48,
     "metadata": {},
     "output_type": "execute_result"
    }
   ],
   "source": [
    "same_eans = unique_eans_plus.intersection(unique_eans_lidl)\n",
    "len(same_eans)"
   ]
  },
  {
   "cell_type": "code",
   "execution_count": 49,
   "id": "2eb7194b",
   "metadata": {},
   "outputs": [
    {
     "data": {
      "text/plain": [
       "(31178, 161846, 13976)"
      ]
     },
     "execution_count": 49,
     "metadata": {},
     "output_type": "execute_result"
    }
   ],
   "source": [
    "unique_texts_lidl = set(lidl_df.receipt_text)\n",
    "unique_texts_plus = set(plus_df.receipt_text)\n",
    "unique_texts_ah = set(ah_df.receipt_text)\n",
    "\n",
    "len(unique_texts_lidl), len(unique_texts_plus), len(unique_texts_ah)"
   ]
  },
  {
   "cell_type": "code",
   "execution_count": 50,
   "id": "37bbeda0",
   "metadata": {},
   "outputs": [
    {
     "data": {
      "text/plain": [
       "13976"
      ]
     },
     "execution_count": 50,
     "metadata": {},
     "output_type": "execute_result"
    }
   ],
   "source": [
    "ah_df.receipt_text.nunique()"
   ]
  },
  {
   "cell_type": "code",
   "execution_count": 67,
   "id": "10006d0c",
   "metadata": {},
   "outputs": [
    {
     "data": {
      "text/plain": [
       "16793"
      ]
     },
     "execution_count": 67,
     "metadata": {},
     "output_type": "execute_result"
    }
   ],
   "source": [
    "jumbo_df.receipt_text.nunique()"
   ]
  },
  {
   "cell_type": "code",
   "execution_count": 68,
   "id": "a4cf13e0",
   "metadata": {},
   "outputs": [
    {
     "data": {
      "text/plain": [
       "0"
      ]
     },
     "execution_count": 68,
     "metadata": {},
     "output_type": "execute_result"
    }
   ],
   "source": [
    "jumbo_df.receipt_text.isna().sum()"
   ]
  },
  {
   "cell_type": "code",
   "execution_count": 71,
   "id": "ccdc5ed7",
   "metadata": {},
   "outputs": [
    {
     "data": {
      "text/plain": [
       "591650         cl grof volkoren\n",
       "1191006    slagersboterhamworst\n",
       "1214497                 rib eye\n",
       "232396        grouster rolletje\n",
       "246802             papieren tas\n",
       "86149      actie witte asperges\n",
       "894748     vloer tijger bruin h\n",
       "585145          mammoet pompoen\n",
       "777037         amb gerookt spek\n",
       "1088818    wit tijger vloer hal\n",
       "Name: receipt_text, dtype: object"
      ]
     },
     "execution_count": 71,
     "metadata": {},
     "output_type": "execute_result"
    }
   ],
   "source": [
    "jumbo_df.receipt_text.sample(10)"
   ]
  },
  {
   "cell_type": "code",
   "execution_count": 76,
   "id": "1a9dde6d",
   "metadata": {},
   "outputs": [
    {
     "data": {
      "text/plain": [
       "462579     2259430000000\n",
       "732127     2190010000000\n",
       "1278912    2259060000000\n",
       "887106     2229570000000\n",
       "516251     2249070000000\n",
       "607794     2299440000000\n",
       "970185     2259860000000\n",
       "652716     2229350000000\n",
       "446642     2199080000000\n",
       "21746      2229370000000\n",
       "Name: ean_number, dtype: object"
      ]
     },
     "execution_count": 76,
     "metadata": {},
     "output_type": "execute_result"
    }
   ],
   "source": [
    "jumbo_df.ean_number.sample(10)"
   ]
  },
  {
   "cell_type": "code",
   "execution_count": 77,
   "id": "3c59031a",
   "metadata": {},
   "outputs": [
    {
     "data": {
      "text/plain": [
       "1538"
      ]
     },
     "execution_count": 77,
     "metadata": {},
     "output_type": "execute_result"
    }
   ],
   "source": [
    "jumbo_df.ean_number.nunique()"
   ]
  },
  {
   "cell_type": "code",
   "execution_count": 40,
   "id": "f238a1e5",
   "metadata": {},
   "outputs": [
    {
     "data": {
      "text/plain": [
       "1771"
      ]
     },
     "execution_count": 40,
     "metadata": {},
     "output_type": "execute_result"
    }
   ],
   "source": [
    "# only 1771 texts, even after cleaning the receipt texts\n",
    "\n",
    "same_texts = unique_texts_lidl.intersection(unique_texts_plus)\n",
    "len(same_texts)"
   ]
  },
  {
   "cell_type": "code",
   "execution_count": 11,
   "id": "4419c446",
   "metadata": {},
   "outputs": [
    {
     "data": {
      "text/plain": [
       "193024"
      ]
     },
     "execution_count": 11,
     "metadata": {},
     "output_type": "execute_result"
    }
   ],
   "source": [
    "(len(unique_texts_lidl) + len(unique_texts_plus))"
   ]
  },
  {
   "cell_type": "code",
   "execution_count": 12,
   "id": "583d895d",
   "metadata": {},
   "outputs": [
    {
     "data": {
      "text/plain": [
       "0.9175024867374004"
      ]
     },
     "execution_count": 12,
     "metadata": {},
     "output_type": "execute_result"
    }
   ],
   "source": [
    "# overlap only 0.92 %, very small!\n",
    "\n",
    "len(same_texts) / (len(unique_texts_lidl) + len(unique_texts_plus)) * 100"
   ]
  },
  {
   "cell_type": "code",
   "execution_count": 61,
   "id": "8b9bf629",
   "metadata": {},
   "outputs": [
    {
     "data": {
      "text/plain": [
       "1.036453027417283"
      ]
     },
     "execution_count": 61,
     "metadata": {},
     "output_type": "execute_result"
    }
   ],
   "source": [
    "len(unique_texts_lidl.intersection(unique_texts_ah)) / (len(unique_texts_lidl) + len(unique_texts_ah)) * 100"
   ]
  },
  {
   "cell_type": "code",
   "execution_count": 62,
   "id": "cd024a8b",
   "metadata": {},
   "outputs": [
    {
     "data": {
      "text/plain": [
       "1.3826483602734583"
      ]
     },
     "execution_count": 62,
     "metadata": {},
     "output_type": "execute_result"
    }
   ],
   "source": [
    "len(unique_texts_plus.intersection(unique_texts_ah)) / (len(unique_texts_plus) + len(unique_texts_ah)) * 100"
   ]
  },
  {
   "cell_type": "code",
   "execution_count": 13,
   "id": "d2dcad84",
   "metadata": {},
   "outputs": [
    {
     "data": {
      "text/plain": [
       "(21656, 63101)"
      ]
     },
     "execution_count": 13,
     "metadata": {},
     "output_type": "execute_result"
    }
   ],
   "source": [
    "unique_text_splits_lidl = set([word for receipt_text in unique_texts_lidl for word in receipt_text.split()])\n",
    "unique_text_splits_plus = set([word for receipt_text in unique_texts_plus for word in receipt_text.split()])\n",
    "len(unique_text_splits_lidl), len(unique_text_splits_plus)"
   ]
  },
  {
   "cell_type": "code",
   "execution_count": 41,
   "id": "b69454bb",
   "metadata": {},
   "outputs": [],
   "source": [
    "#unique_text_splits_lidl.intersection(unique_text_splits_plus)"
   ]
  },
  {
   "cell_type": "code",
   "execution_count": 42,
   "id": "d439e438",
   "metadata": {},
   "outputs": [
    {
     "data": {
      "text/plain": [
       "8098"
      ]
     },
     "execution_count": 42,
     "metadata": {},
     "output_type": "execute_result"
    }
   ],
   "source": [
    "len(unique_text_splits_lidl.intersection(unique_text_splits_plus))"
   ]
  },
  {
   "cell_type": "code",
   "execution_count": 43,
   "id": "eb549903",
   "metadata": {},
   "outputs": [
    {
     "data": {
      "text/plain": [
       "9.554373090128248"
      ]
     },
     "execution_count": 43,
     "metadata": {},
     "output_type": "execute_result"
    }
   ],
   "source": [
    "# If we split up the texts and look at the overlap of the separate words in both lidl and plus, overlap is only 9.6 %\n",
    "len(unique_text_splits_lidl.intersection(unique_text_splits_plus)) / (len(unique_text_splits_lidl) + len(unique_text_splits_plus)) * 100"
   ]
  },
  {
   "cell_type": "code",
   "execution_count": 59,
   "id": "5087e57a",
   "metadata": {},
   "outputs": [],
   "source": [
    "unique_to_lidl = unique_text_splits_lidl.difference(unique_text_splits_plus)\n",
    "#unique_to_lidl"
   ]
  },
  {
   "cell_type": "code",
   "execution_count": 60,
   "id": "c1ded003",
   "metadata": {},
   "outputs": [],
   "source": [
    "unique_to_plus = unique_text_splits_plus.difference(unique_text_splits_lidl)\n",
    "#unique_to_plus"
   ]
  },
  {
   "cell_type": "code",
   "execution_count": 19,
   "id": "f90cecb6",
   "metadata": {},
   "outputs": [
    {
     "data": {
      "text/plain": [
       "(9.554373090128248, 9.554373090128248, False)"
      ]
     },
     "execution_count": 19,
     "metadata": {},
     "output_type": "execute_result"
    }
   ],
   "source": [
    "def overlap(words_left: set, words_right_left) -> float:\n",
    "    return len(words_left.intersection(words_right_left)) / (len(words_left) + len(words_right_left)) * 100\n",
    "\n",
    "def process_plus(word: str) -> str:\n",
    "    #if 'eieren' not in word:\n",
    "    #    word = word.replace('eiere', 'eieren')\n",
    "    #if word.endswith('sal'):\n",
    "    #    word = word.replace('sal', 'salade')\n",
    "    return word.lower()\n",
    "\n",
    "def process_words_plus(words: set) -> set:\n",
    "    return set([process_plus(word) for word in words])\n",
    "    \n",
    "overlap_raw = overlap(unique_text_splits_lidl, unique_text_splits_plus)\n",
    "overlap_processed = overlap(process_words_plus(unique_text_splits_lidl), process_words_plus(unique_text_splits_plus))\n",
    "\n",
    "overlap_raw, overlap_processed, overlap_processed > overlap_raw"
   ]
  },
  {
   "cell_type": "code",
   "execution_count": 20,
   "id": "f26dd455",
   "metadata": {},
   "outputs": [
    {
     "data": {
      "text/plain": [
       "Index(['start_date', 'end_date', 'store_id', 'year_month', 'coicop_number',\n",
       "       'coicop_name', 'isba_number', 'isba_name', 'esba_number', 'esba_name',\n",
       "       'rep_id', 'ean_number', 'ean_name', 'revenue', 'amount', 'year',\n",
       "       'month', 'product_id', 'coicop_level_1', 'coicop_level_2',\n",
       "       'coicop_level_3', 'coicop_level_4', 'count', 'receipt_text'],\n",
       "      dtype='object')"
      ]
     },
     "execution_count": 20,
     "metadata": {},
     "output_type": "execute_result"
    }
   ],
   "source": [
    "plus_df.columns"
   ]
  },
  {
   "cell_type": "code",
   "execution_count": 21,
   "id": "941e75e7",
   "metadata": {},
   "outputs": [
    {
     "data": {
      "text/plain": [
       "233073"
      ]
     },
     "execution_count": 21,
     "metadata": {},
     "output_type": "execute_result"
    }
   ],
   "source": [
    "plus_product_descriptions = set(plus_df.ean_name)\n",
    "len(plus_product_descriptions)"
   ]
  },
  {
   "cell_type": "code",
   "execution_count": 22,
   "id": "1365328b",
   "metadata": {},
   "outputs": [
    {
     "data": {
      "text/plain": [
       "['BACARD Bacardi Coco 70 CL',\n",
       " 'OLD AMST Plakken 190 GR',\n",
       " 'PLUS Procureurlap naturel 1 KG',\n",
       " 'LOKAAL Wrap Chicken 1 ST',\n",
       " '## SPARERIBS PIRI',\n",
       " 'TULBAND rozijn 1 ST',\n",
       " '## FRAMBOOS & CRANBE',\n",
       " 'Uienpoeder kookmutsjes 50 GR',\n",
       " '* 2 stuks 2 ST',\n",
       " '## KIP SALADE RUTTEN']"
      ]
     },
     "execution_count": 22,
     "metadata": {},
     "output_type": "execute_result"
    }
   ],
   "source": [
    "[word for i, word in enumerate(plus_product_descriptions) if i < 10]"
   ]
  },
  {
   "cell_type": "code",
   "execution_count": 23,
   "id": "ea0546a0",
   "metadata": {},
   "outputs": [],
   "source": [
    "plus_split_descriptions = set([word for description in plus_product_descriptions for word in description.split()])"
   ]
  },
  {
   "cell_type": "code",
   "execution_count": 24,
   "id": "d8eb3d72",
   "metadata": {},
   "outputs": [
    {
     "data": {
      "text/plain": [
       "(0.0, 5.191900066186881)"
      ]
     },
     "execution_count": 24,
     "metadata": {},
     "output_type": "execute_result"
    }
   ],
   "source": [
    "overlap(unique_texts_lidl, plus_product_descriptions), overlap(unique_text_splits_lidl, plus_split_descriptions)"
   ]
  },
  {
   "cell_type": "code",
   "execution_count": 25,
   "id": "dc481b13",
   "metadata": {},
   "outputs": [
    {
     "data": {
      "text/plain": [
       "<Axes: ylabel='Frequency'>"
      ]
     },
     "execution_count": 25,
     "metadata": {},
     "output_type": "execute_result"
    },
    {
     "data": {
      "image/png": "[encoded data removed]",
      "text/plain": [
       "<Figure size 640x480 with 1 Axes>"
      ]
     },
     "metadata": {},
     "output_type": "display_data"
    }
   ],
   "source": [
    "plus_length_df = pd.DataFrame({\n",
    "    \"word_length\": [len(word) for word in unique_text_splits_plus]\n",
    "})\n",
    "plus_length_df.plot.hist(column=\"word_length\", bins=plus_length_df.word_length.nunique())"
   ]
  },
  {
   "cell_type": "code",
   "execution_count": 26,
   "id": "d0236cdf",
   "metadata": {},
   "outputs": [
    {
     "data": {
      "text/plain": [
       "<Axes: ylabel='Frequency'>"
      ]
     },
     "execution_count": 26,
     "metadata": {},
     "output_type": "execute_result"
    },
    {
     "data": {
      "image/png": "[encoded data removed]",
      "text/plain": [
       "<Figure size 640x480 with 1 Axes>"
      ]
     },
     "metadata": {},
     "output_type": "display_data"
    }
   ],
   "source": [
    "plus_receipt_length_df = pd.DataFrame({\n",
    "    \"word_length\": [len(word) for word in plus_df.receipt_text]\n",
    "})\n",
    "plus_receipt_length_df.plot.hist(column=\"word_length\", bins=plus_receipt_length_df.word_length.nunique())"
   ]
  },
  {
   "cell_type": "code",
   "execution_count": 27,
   "id": "a6acce43",
   "metadata": {},
   "outputs": [
    {
     "data": {
      "text/plain": [
       "<Axes: ylabel='Frequency'>"
      ]
     },
     "execution_count": 27,
     "metadata": {},
     "output_type": "execute_result"
    },
    {
     "data": {
      "image/png": "[encoded data removed]",
      "text/plain": [
       "<Figure size 640x480 with 1 Axes>"
      ]
     },
     "metadata": {},
     "output_type": "display_data"
    }
   ],
   "source": [
    "lidl_length_df = pd.DataFrame({\n",
    "    \"word_length\": [len(word) for word in unique_text_splits_lidl]\n",
    "})\n",
    "lidl_length_df.plot.hist(column=\"word_length\", bins=lidl_length_df.word_length.nunique())"
   ]
  },
  {
   "cell_type": "code",
   "execution_count": 28,
   "id": "16a9d247",
   "metadata": {},
   "outputs": [
    {
     "data": {
      "text/plain": [
       "<Axes: ylabel='Frequency'>"
      ]
     },
     "execution_count": 28,
     "metadata": {},
     "output_type": "execute_result"
    },
    {
     "data": {
      "image/png": "[encoded data removed]",
      "text/plain": [
       "<Figure size 640x480 with 1 Axes>"
      ]
     },
     "metadata": {},
     "output_type": "display_data"
    }
   ],
   "source": [
    "lidl_receipt_length_df = pd.DataFrame({\n",
    "    \"word_length\": [len(word) for word in lidl_df.receipt_text]\n",
    "})\n",
    "lidl_receipt_length_df.plot.hist(column=\"word_length\", bins=lidl_receipt_length_df.word_length.nunique())"
   ]
  },
  {
   "cell_type": "code",
   "execution_count": 29,
   "id": "4ea1058e",
   "metadata": {},
   "outputs": [
    {
     "data": {
      "text/html": [
       "<div>\n",
       "<style scoped>\n",
       "    .dataframe tbody tr th:only-of-type {\n",
       "        vertical-align: middle;\n",
       "    }\n",
       "\n",
       "    .dataframe tbody tr th {\n",
       "        vertical-align: top;\n",
       "    }\n",
       "\n",
       "    .dataframe thead th {\n",
       "        text-align: right;\n",
       "    }\n",
       "</style>\n",
       "<table border=\"1\" class=\"dataframe\">\n",
       "  <thead>\n",
       "    <tr style=\"text-align: right;\">\n",
       "      <th></th>\n",
       "      <th>lidl_word_lengths</th>\n",
       "      <th>plus_word_lengths</th>\n",
       "    </tr>\n",
       "  </thead>\n",
       "  <tbody>\n",
       "    <tr>\n",
       "      <th>0</th>\n",
       "      <td>1</td>\n",
       "      <td>2</td>\n",
       "    </tr>\n",
       "    <tr>\n",
       "      <th>1</th>\n",
       "      <td>110</td>\n",
       "      <td>21</td>\n",
       "    </tr>\n",
       "    <tr>\n",
       "      <th>2</th>\n",
       "      <td>448</td>\n",
       "      <td>0</td>\n",
       "    </tr>\n",
       "    <tr>\n",
       "      <th>3</th>\n",
       "      <td>1793</td>\n",
       "      <td>84</td>\n",
       "    </tr>\n",
       "    <tr>\n",
       "      <th>4</th>\n",
       "      <td>1079</td>\n",
       "      <td>0</td>\n",
       "    </tr>\n",
       "  </tbody>\n",
       "</table>\n",
       "</div>"
      ],
      "text/plain": [
       "   lidl_word_lengths  plus_word_lengths\n",
       "0                  1                  2\n",
       "1                110                 21\n",
       "2                448                  0\n",
       "3               1793                 84\n",
       "4               1079                  0"
      ]
     },
     "execution_count": 29,
     "metadata": {},
     "output_type": "execute_result"
    }
   ],
   "source": [
    "from typing import List\n",
    "import numpy as np\n",
    "\n",
    "def word_length_histograms(supermarket_names: List[str], supermarket_text_series: List[pd.Series]) -> pd.DataFrame:\n",
    "    text_length_per_supermarket = dict()\n",
    "    unique_word_lengths = set()\n",
    "    for supermarket_name, supermarket_texts in zip(supermarket_names, supermarket_text_series):    \n",
    "        all_word_lengths = [len(word) for word in supermarket_texts]\n",
    "        unique_word_lengths = unique_word_lengths.union(set(all_word_lengths))\n",
    "        text_length_per_supermarket[supermarket_name] = all_word_lengths\n",
    "    \n",
    "    min_word_length = min(unique_word_lengths)\n",
    "    max_word_length = max(unique_word_lengths)\n",
    "    \n",
    "    word_length_histogram_df = pd.DataFrame(index=sorted(unique_word_lengths))\n",
    "    for supermarket_name, word_lengths in  text_length_per_supermarket.items():  \n",
    "        hist, bin_edges = np.histogram(word_lengths, bins=len(unique_word_lengths))\n",
    "        word_length_histogram_df[f\"{supermarket_name}_word_lengths\"] = hist\n",
    "    \n",
    "    return word_length_histogram_df\n",
    "        \n",
    "receipt_length_hist = word_length_histograms([\"lidl\", \"plus\"], [lidl_df.receipt_text, plus_df.receipt_text])\n",
    "receipt_length_hist.head()"
   ]
  },
  {
   "cell_type": "code",
   "execution_count": 30,
   "id": "3f161680",
   "metadata": {},
   "outputs": [
    {
     "data": {
      "text/plain": [
       "<Axes: >"
      ]
     },
     "execution_count": 30,
     "metadata": {},
     "output_type": "execute_result"
    },
    {
     "data": {
      "image/png": "[encoded data removed]",
      "text/plain": [
       "<Figure size 640x480 with 1 Axes>"
      ]
     },
     "metadata": {},
     "output_type": "display_data"
    }
   ],
   "source": [
    "# Fix plot to show two overlapping bar plots.\n",
    "receipt_length_hist.plot.bar()"
   ]
  },
  {
   "cell_type": "markdown",
   "id": "56d58b03",
   "metadata": {},
   "source": [
    "## Overlap per COICOP"
   ]
  },
  {
   "cell_type": "code",
   "execution_count": 31,
   "id": "75736abd",
   "metadata": {},
   "outputs": [
    {
     "data": {
      "text/plain": [
       "array(['01', '12', '02', '05', '09', '03', '06', '99'], dtype=object)"
      ]
     },
     "execution_count": 31,
     "metadata": {},
     "output_type": "execute_result"
    }
   ],
   "source": [
    "coicop_lidl = lidl_df.coicop_level_1.unique()\n",
    "coicop_lidl"
   ]
  },
  {
   "cell_type": "code",
   "execution_count": 32,
   "id": "8c8115fa",
   "metadata": {},
   "outputs": [
    {
     "data": {
      "text/plain": [
       "array(['01', '12', '02', '03', '05', '06', '08', '09', '99'], dtype=object)"
      ]
     },
     "execution_count": 32,
     "metadata": {},
     "output_type": "execute_result"
    }
   ],
   "source": [
    "coicop_plus = plus_df.coicop_level_1.unique()\n",
    "coicop_plus"
   ]
  },
  {
   "cell_type": "code",
   "execution_count": 33,
   "id": "d267b5c7",
   "metadata": {},
   "outputs": [
    {
     "data": {
      "text/plain": [
       "{'01', '02', '03', '05', '06', '09', '12', '99'}"
      ]
     },
     "execution_count": 33,
     "metadata": {},
     "output_type": "execute_result"
    }
   ],
   "source": [
    "coicop_both = set(coicop_lidl).intersection(set(coicop_plus))\n",
    "coicop_both"
   ]
  },
  {
   "cell_type": "code",
   "execution_count": 34,
   "id": "b60778a9",
   "metadata": {},
   "outputs": [
    {
     "data": {
      "text/plain": [
       "{'06': 0.4551096400496483,\n",
       " '05': 0.4806591897459373,\n",
       " '01': 0.9187174851492454,\n",
       " '99': 0.596210749458994,\n",
       " '12': 0.19603038470963,\n",
       " '02': 0.10862186014935506,\n",
       " '03': 0.3295978905735003,\n",
       " '09': 1.0526315789473684}"
      ]
     },
     "execution_count": 34,
     "metadata": {},
     "output_type": "execute_result"
    }
   ],
   "source": [
    "coicop_overlap_dict = dict()\n",
    "for coicop in coicop_both:\n",
    "    lidl_texts = set(lidl_df[lidl_df.coicop_level_1 == coicop].receipt_text)\n",
    "    plus_texts = set(plus_df[plus_df.coicop_level_1 == coicop].receipt_text)\n",
    "    coicop_overlap_dict[coicop] = overlap(lidl_texts, plus_texts)\n",
    "coicop_overlap_dict"
   ]
  },
  {
   "cell_type": "code",
   "execution_count": 35,
   "id": "9d42cdc2",
   "metadata": {},
   "outputs": [
    {
     "data": {
      "text/plain": [
       "{'06': 2.4814976055724856,\n",
       " '05': 7.41302972802024,\n",
       " '01': 9.480018932990737,\n",
       " '99': 7.49025974025974,\n",
       " '12': 9.857142857142858,\n",
       " '02': 5.846831486217676,\n",
       " '03': 4.92874109263658,\n",
       " '09': 7.638589533580481}"
      ]
     },
     "execution_count": 35,
     "metadata": {},
     "output_type": "execute_result"
    }
   ],
   "source": [
    "coicop_words_overlap_dict = dict()\n",
    "for coicop in coicop_both:\n",
    "    lidl_texts = set([word for receipt_text in lidl_df[lidl_df.coicop_level_1 == coicop].receipt_text for word in receipt_text.split()])\n",
    "    plus_texts = set([word for receipt_text in plus_df[plus_df.coicop_level_1 == coicop].receipt_text for word in receipt_text.split()])\n",
    "    coicop_words_overlap_dict[coicop] = overlap(lidl_texts, plus_texts)\n",
    "coicop_words_overlap_dict"
   ]
  }
 ],
 "metadata": {
  "kernelspec": {
   "display_name": "Python 3 (ipykernel)",
   "language": "python",
   "name": "python3"
  },
  "language_info": {
   "codemirror_mode": {
    "name": "ipython",
    "version": 3
   },
   "file_extension": ".py",
   "mimetype": "text/x-python",
   "name": "python",
   "nbconvert_exporter": "python",
   "pygments_lexer": "ipython3",
   "version": "3.10.12"
  }
 },
 "nbformat": 4,
 "nbformat_minor": 5
}
