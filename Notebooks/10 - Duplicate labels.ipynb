{
 "cells": [
  {
   "cell_type": "code",
   "execution_count": null,
   "id": "czech-plant",
   "metadata": {},
   "outputs": [],
   "source": [
    "import pandas as pd\n",
    "from dotenv import load_dotenv\n",
    "from pathlib import Path\n",
    "import os\n",
    "\n",
    "# load environment variables from .env file for project\n",
    "dotenv_path = Path('../.env')\n",
    "load_dotenv(dotenv_path=dotenv_path)\n",
    "\n",
    "data_directory = os.getenv(\"OUTPUT_DIRECTORY\")\n",
    "feature_directory = os.path.join(data_directory, \"features\")"
   ]
  },
  {
   "cell_type": "code",
   "execution_count": null,
   "id": "velvet-puzzle",
   "metadata": {},
   "outputs": [],
   "source": [
    "lidl_feature_df = pd.read_parquet(os.path.join(feature_directory, \"ssi_lidl_spacy_nl_md_features.parquet\"), engine=\"pyarrow\")\n",
    "lidl_feature_df.rename(columns={\"bg_number\": \"supermarket_id\", \"ean_name\": \"receipt_text\"}, inplace=True)\n",
    "lidl_feature_df.receipt_text = lidl_feature_df.receipt_text.str.replace('[^0-9a-zA-Z.,-/ ]', '', regex=True).str.lstrip().str.rstrip().str.lower()\n",
    "lidl_feature_df.head()"
   ]
  },
  {
   "cell_type": "code",
   "execution_count": null,
   "id": "following-enhancement",
   "metadata": {},
   "outputs": [],
   "source": [
    "from ..ssi.text_analysis import *"
   ]
  }
 ],
 "metadata": {
  "kernelspec": {
   "display_name": "ssi",
   "language": "python",
   "name": "ssi"
  },
  "language_info": {
   "codemirror_mode": {
    "name": "ipython",
    "version": 3
   },
   "file_extension": ".py",
   "mimetype": "text/x-python",
   "name": "python",
   "nbconvert_exporter": "python",
   "pygments_lexer": "ipython3",
   "version": "3.11.5"
  }
 },
 "nbformat": 4,
 "nbformat_minor": 5
}
