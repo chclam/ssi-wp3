{
 "cells": [
  {
   "cell_type": "code",
   "execution_count": null,
   "id": "premium-omaha",
   "metadata": {},
   "outputs": [],
   "source": [
    "import pandas as pd\n",
    "import os"
   ]
  },
  {
   "cell_type": "code",
   "execution_count": null,
   "id": "elegant-riverside",
   "metadata": {},
   "outputs": [],
   "source": [
    "data_dir = r\"/data/projecten/ssi/data/features\""
   ]
  },
  {
   "cell_type": "code",
   "execution_count": null,
   "id": "acquired-antigua",
   "metadata": {},
   "outputs": [],
   "source": [
    "os.listdir(data_dir)"
   ]
  },
  {
   "cell_type": "code",
   "execution_count": null,
   "id": "advised-browser",
   "metadata": {},
   "outputs": [],
   "source": [
    "df = pd.read_parquet(os.path.join(data_dir, \"ssi_lidl_spacy_nl_sm_features.parquet\"))\n",
    "df.head(10)"
   ]
  },
  {
   "cell_type": "code",
   "execution_count": null,
   "id": "smart-measurement",
   "metadata": {},
   "outputs": [],
   "source": [
    "df.tail(10)"
   ]
  },
  {
   "cell_type": "code",
   "execution_count": null,
   "id": "western-baltimore",
   "metadata": {},
   "outputs": [],
   "source": [
    "coicop_df = df[df.coicop_number == \"011110\"].copy()\n",
    "\n",
    "len(coicop_df) "
   ]
  },
  {
   "cell_type": "code",
   "execution_count": null,
   "id": "illegal-rugby",
   "metadata": {},
   "outputs": [],
   "source": [
    "coicop_df['lag'] = coicop_df['features_spacy_nl_sm'].shift(1)\n",
    "coicop_df"
   ]
  },
  {
   "cell_type": "code",
   "execution_count": null,
   "id": "stock-paste",
   "metadata": {},
   "outputs": [],
   "source": [
    "coicop_df['diff'] = coicop_df['features_spacy_nl_sm'] - coicop_df['lag']\n",
    "#coicop_df['diff'] = coicop_df[\"diff\"].apply(lambda x: x.sum())\n",
    "coicop_df"
   ]
  }
 ],
 "metadata": {
  "kernelspec": {
   "display_name": "ssi",
   "language": "python",
   "name": "ssi"
  },
  "language_info": {
   "codemirror_mode": {
    "name": "ipython",
    "version": 3
   },
   "file_extension": ".py",
   "mimetype": "text/x-python",
   "name": "python",
   "nbconvert_exporter": "python",
   "pygments_lexer": "ipython3",
   "version": "3.11.5"
  }
 },
 "nbformat": 4,
 "nbformat_minor": 5
}
