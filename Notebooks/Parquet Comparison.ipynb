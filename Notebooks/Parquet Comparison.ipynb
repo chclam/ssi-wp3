{
 "cells": [
  {
   "cell_type": "code",
   "execution_count": null,
   "id": "suited-meaning",
   "metadata": {},
   "outputs": [],
   "source": [
    "import pandas as pd\n",
    "import os\n",
    "\n",
    "data_directory = \"/data/projecten/ssi/data/preprocessing\""
   ]
  },
  {
   "cell_type": "code",
   "execution_count": null,
   "id": "figured-cycle",
   "metadata": {},
   "outputs": [],
   "source": [
    "combined_directory = os.path.join(data_directory, \"03-combined\")"
   ]
  },
  {
   "cell_type": "code",
   "execution_count": null,
   "id": "aging-local",
   "metadata": {},
   "outputs": [],
   "source": [
    "combined_files= [os.path.join(combined_directory, filename) for filename in os.listdir(combined_directory)]\n",
    "combined_files"
   ]
  },
  {
   "cell_type": "code",
   "execution_count": null,
   "id": "romantic-retailer",
   "metadata": {},
   "outputs": [],
   "source": [
    "plus_df = pd.read_parquet(combined_files[1], engine=\"pyarrow\")\n",
    "plus_df.head()"
   ]
  },
  {
   "cell_type": "code",
   "execution_count": null,
   "id": "bigger-recycling",
   "metadata": {},
   "outputs": [],
   "source": [
    "len(plus_df)"
   ]
  },
  {
   "cell_type": "code",
   "execution_count": null,
   "id": "small-announcement",
   "metadata": {},
   "outputs": [],
   "source": [
    "plus_df.describe(include=\"all\")"
   ]
  },
  {
   "cell_type": "code",
   "execution_count": null,
   "id": "identical-genre",
   "metadata": {},
   "outputs": [],
   "source": [
    "lidl_df = pd.read_parquet(combined_files[-1], engine=\"pyarrow\")\n",
    "lidl_df.head()"
   ]
  },
  {
   "cell_type": "code",
   "execution_count": null,
   "id": "treated-combining",
   "metadata": {},
   "outputs": [],
   "source": [
    "len(lidl_df)"
   ]
  },
  {
   "cell_type": "code",
   "execution_count": null,
   "id": "deluxe-madonna",
   "metadata": {},
   "outputs": [],
   "source": [
    "lidl_df.describe(include=\"all\")"
   ]
  },
  {
   "cell_type": "code",
   "execution_count": null,
   "id": "thermal-brown",
   "metadata": {},
   "outputs": [],
   "source": [
    "ah_df = pd.read_parquet(combined_files[0], engine=\"pyarrow\")\n",
    "ah_df.head()"
   ]
  },
  {
   "cell_type": "code",
   "execution_count": null,
   "id": "aging-kuwait",
   "metadata": {},
   "outputs": [],
   "source": [
    "len(ah_df)"
   ]
  },
  {
   "cell_type": "code",
   "execution_count": null,
   "id": "floating-medicaid",
   "metadata": {},
   "outputs": [],
   "source": [
    "ah_df.describe(include=\"all\")"
   ]
  },
  {
   "cell_type": "markdown",
   "id": "theoretical-explorer",
   "metadata": {},
   "source": [
    "# Preprocessed"
   ]
  },
  {
   "cell_type": "code",
   "execution_count": null,
   "id": "included-portsmouth",
   "metadata": {},
   "outputs": [],
   "source": [
    "preprocessed_directory = os.path.join(data_directory, \"04-preprocessed\")"
   ]
  },
  {
   "cell_type": "code",
   "execution_count": null,
   "id": "progressive-colombia",
   "metadata": {},
   "outputs": [],
   "source": [
    "preprocessed_files = [os.path.join(preprocessed_directory, filename) for filename in os.listdir(preprocessed_directory)]\n",
    "preprocessed_files"
   ]
  },
  {
   "cell_type": "code",
   "execution_count": null,
   "id": "qualified-print",
   "metadata": {},
   "outputs": [],
   "source": [
    "plus_df = pd.read_parquet(preprocessed_files[1], engine=\"pyarrow\")\n",
    "plus_df.head()"
   ]
  },
  {
   "cell_type": "code",
   "execution_count": null,
   "id": "addressed-uniform",
   "metadata": {},
   "outputs": [],
   "source": [
    "len(plus_df)"
   ]
  },
  {
   "cell_type": "code",
   "execution_count": null,
   "id": "relative-field",
   "metadata": {},
   "outputs": [],
   "source": [
    "plus_df.describe(include=\"all\")"
   ]
  },
  {
   "cell_type": "code",
   "execution_count": null,
   "id": "adjusted-swedish",
   "metadata": {},
   "outputs": [],
   "source": [
    "lidl_df = pd.read_parquet(preprocessed_files[-1], engine=\"pyarrow\")\n",
    "lidl_df.head()"
   ]
  },
  {
   "cell_type": "code",
   "execution_count": null,
   "id": "framed-pressing",
   "metadata": {},
   "outputs": [],
   "source": [
    "len(lidl_df)"
   ]
  },
  {
   "cell_type": "code",
   "execution_count": null,
   "id": "understood-smile",
   "metadata": {},
   "outputs": [],
   "source": [
    "lidl_df.describe(include=\"all\")"
   ]
  },
  {
   "cell_type": "code",
   "execution_count": null,
   "id": "dressed-chassis",
   "metadata": {},
   "outputs": [],
   "source": [
    "ah_df = pd.read_parquet(preprocessed_files[0], engine=\"pyarrow\")\n",
    "ah_df.head()"
   ]
  },
  {
   "cell_type": "code",
   "execution_count": null,
   "id": "broke-finnish",
   "metadata": {},
   "outputs": [],
   "source": [
    "len(ah_df)"
   ]
  },
  {
   "cell_type": "code",
   "execution_count": null,
   "id": "undefined-citizen",
   "metadata": {},
   "outputs": [],
   "source": [
    "ah_df.describe(include=\"all\")"
   ]
  }
 ],
 "metadata": {
  "kernelspec": {
   "display_name": "ssi",
   "language": "python",
   "name": "ssi"
  },
  "language_info": {
   "codemirror_mode": {
    "name": "ipython",
    "version": 3
   },
   "file_extension": ".py",
   "mimetype": "text/x-python",
   "name": "python",
   "nbconvert_exporter": "python",
   "pygments_lexer": "ipython3",
   "version": "3.11.5"
  }
 },
 "nbformat": 4,
 "nbformat_minor": 5
}
