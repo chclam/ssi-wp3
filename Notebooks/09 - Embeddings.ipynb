{
 "cells": [
  {
   "cell_type": "code",
   "execution_count": 2,
   "metadata": {},
   "outputs": [],
   "source": [
    "import spacy\n",
    "\n",
    "nlp = spacy.load(\"nl_core_news_md\")"
   ]
  },
  {
   "cell_type": "code",
   "execution_count": 5,
   "metadata": {},
   "outputs": [
    {
     "data": {
      "text/plain": [
       "(['PAPRIKA GEROOKT', 'APPEL', 'SHASLICK', 'TULBAND'],\n",
       " ['paprika gerookt', 'appel', 'shaslick', 'tulband'])"
      ]
     },
     "execution_count": 5,
     "metadata": {},
     "output_type": "execute_result"
    }
   ],
   "source": [
    "upper_case_words = [\"PAPRIKA GEROOKT\", \"APPEL\", \"SHASLICK\", \"TULBAND\"]\n",
    "lower_case_words = [word.lower() for word in upper_case_words]\n",
    "\n",
    "upper_case_words, lower_case_words"
   ]
  },
  {
   "cell_type": "code",
   "execution_count": 9,
   "metadata": {},
   "outputs": [
    {
     "data": {
      "text/plain": [
       "[0.0, -43.827408, 0.0, 0.0]"
      ]
     },
     "execution_count": 9,
     "metadata": {},
     "output_type": "execute_result"
    }
   ],
   "source": [
    "[doc.vector.sum() for doc in nlp.pipe(upper_case_words)]"
   ]
  },
  {
   "cell_type": "code",
   "execution_count": 7,
   "metadata": {},
   "outputs": [
    {
     "data": {
      "text/plain": [
       "[-10.066506, -13.025373, 8.842014, 20.420483]"
      ]
     },
     "execution_count": 7,
     "metadata": {},
     "output_type": "execute_result"
    }
   ],
   "source": [
    "[doc.vector.sum() for doc in nlp.pipe(lower_case_words)]"
   ]
  }
 ],
 "metadata": {
  "kernelspec": {
   "display_name": "ssi-wp3",
   "language": "python",
   "name": "python3"
  },
  "language_info": {
   "codemirror_mode": {
    "name": "ipython",
    "version": 3
   },
   "file_extension": ".py",
   "mimetype": "text/x-python",
   "name": "python",
   "nbconvert_exporter": "python",
   "pygments_lexer": "ipython3",
   "version": "3.11.4"
  }
 },
 "nbformat": 4,
 "nbformat_minor": 2
}
