{
 "cells": [
  {
   "cell_type": "code",
   "execution_count": 2,
   "metadata": {},
   "outputs": [],
   "source": [
    "import spacy\n",
    "\n",
    "nlp = spacy.load(\"nl_core_news_md\")\n",
    "nlp_lg = spacy.load(\"nl_core_news_lg\")\n"
   ]
  },
  {
   "cell_type": "code",
   "execution_count": 3,
   "metadata": {},
   "outputs": [
    {
     "data": {
      "text/plain": [
       "(['PAPRIKA GEROOKT', 'APPEL', 'SHASLICK', 'TULBAND'],\n",
       " ['paprika gerookt', 'appel', 'shaslick', 'tulband'])"
      ]
     },
     "execution_count": 3,
     "metadata": {},
     "output_type": "execute_result"
    }
   ],
   "source": [
    "upper_case_words = [\"PAPRIKA GEROOKT\", \"APPEL\", \"SHASLICK\", \"TULBAND\"]\n",
    "lower_case_words = [word.lower() for word in upper_case_words]\n",
    "\n",
    "upper_case_words, lower_case_words"
   ]
  },
  {
   "cell_type": "code",
   "execution_count": 4,
   "metadata": {},
   "outputs": [
    {
     "data": {
      "text/plain": [
       "[0.0, -43.827408, 0.0, 0.0]"
      ]
     },
     "execution_count": 4,
     "metadata": {},
     "output_type": "execute_result"
    }
   ],
   "source": [
    "[doc.vector.sum() for doc in nlp.pipe(upper_case_words)]"
   ]
  },
  {
   "cell_type": "code",
   "execution_count": 5,
   "metadata": {},
   "outputs": [
    {
     "data": {
      "text/plain": [
       "[-10.066506, -13.025373, 8.842014, 20.420483]"
      ]
     },
     "execution_count": 5,
     "metadata": {},
     "output_type": "execute_result"
    }
   ],
   "source": [
    "[doc.vector.sum() for doc in nlp.pipe(lower_case_words)]"
   ]
  },
  {
   "cell_type": "code",
   "execution_count": 6,
   "metadata": {},
   "outputs": [
    {
     "data": {
      "text/plain": [
       "[0.0, -11.770597, 0.0, 0.0]"
      ]
     },
     "execution_count": 6,
     "metadata": {},
     "output_type": "execute_result"
    }
   ],
   "source": [
    "[doc.vector.sum() for doc in nlp_lg.pipe(upper_case_words)]"
   ]
  },
  {
   "cell_type": "code",
   "execution_count": 7,
   "metadata": {},
   "outputs": [
    {
     "data": {
      "text/plain": [
       "[-10.066506, -13.025373, 0.5097141, -4.347912]"
      ]
     },
     "execution_count": 7,
     "metadata": {},
     "output_type": "execute_result"
    }
   ],
   "source": [
    "[doc.vector.sum() for doc in nlp_lg.pipe(lower_case_words)]"
   ]
  },
  {
   "cell_type": "code",
   "execution_count": 8,
   "metadata": {},
   "outputs": [],
   "source": [
    "from sentence_transformers import SentenceTransformer\n",
    "\n",
    "model = SentenceTransformer(\"sentence-transformers/all-MiniLM-L6-v2\")\n",
    "embeddings = model.encode(upper_case_words)"
   ]
  },
  {
   "cell_type": "code",
   "execution_count": 9,
   "metadata": {},
   "outputs": [
    {
     "data": {
      "text/plain": [
       "[0.18329561, 0.43232375, -0.02345717, 0.35684395]"
      ]
     },
     "execution_count": 9,
     "metadata": {},
     "output_type": "execute_result"
    }
   ],
   "source": [
    "[vector.sum() for vector in embeddings]"
   ]
  },
  {
   "cell_type": "code",
   "execution_count": 10,
   "metadata": {},
   "outputs": [
    {
     "data": {
      "text/plain": [
       "[0.18329561, 0.43232375, -0.02345717, 0.35684395]"
      ]
     },
     "execution_count": 10,
     "metadata": {},
     "output_type": "execute_result"
    }
   ],
   "source": [
    "lower_case_embeddings = model.encode(lower_case_words)\n",
    "[vector.sum() for vector in lower_case_embeddings]"
   ]
  },
  {
   "cell_type": "code",
   "execution_count": 11,
   "metadata": {},
   "outputs": [
    {
     "data": {
      "text/plain": [
       "[0.30767965, 0.30767965, 0.8065353, 0.8065353]"
      ]
     },
     "execution_count": 11,
     "metadata": {},
     "output_type": "execute_result"
    }
   ],
   "source": [
    "[vector.sum() for vector in model.encode(['Ùtrechtse Sprits', \"Utrechtse Sprits\", \"Öhtu\", \"Ohtu\"])]"
   ]
  },
  {
   "cell_type": "code",
   "execution_count": 12,
   "metadata": {},
   "outputs": [
    {
     "data": {
      "text/plain": [
       "[0.0073274374, 0.15957993]"
      ]
     },
     "execution_count": 12,
     "metadata": {},
     "output_type": "execute_result"
    }
   ],
   "source": [
    "[vector.sum() for vector in model.encode([\"Blauwe schimmelkaas\", \"Blauwschimmelkaas\"])]"
   ]
  },
  {
   "cell_type": "code",
   "execution_count": 13,
   "metadata": {},
   "outputs": [
    {
     "data": {
      "text/plain": [
       "[0.4702052, 0.6472333]"
      ]
     },
     "execution_count": 13,
     "metadata": {},
     "output_type": "execute_result"
    }
   ],
   "source": [
    "[vector.sum() for vector in model.encode([\"Bananen\", \"Banamen\"])]"
   ]
  },
  {
   "cell_type": "code",
   "execution_count": 14,
   "metadata": {},
   "outputs": [
    {
     "name": "stderr",
     "output_type": "stream",
     "text": [
      ".gitattributes: 100%|██████████| 445/445 [00:00<00:00, 2.46MB/s]\n",
      "1_Pooling/config.json: 100%|██████████| 190/190 [00:00<00:00, 1.88MB/s]\n",
      "2_Dense/config.json: 100%|██████████| 114/114 [00:00<00:00, 319kB/s]\n",
      "model.safetensors: 100%|██████████| 2.36M/2.36M [00:00<00:00, 10.8MB/s]\n",
      "pytorch_model.bin: 100%|██████████| 2.36M/2.36M [00:00<00:00, 11.6MB/s]\n",
      "README.md: 100%|██████████| 2.22k/2.22k [00:00<00:00, 24.9MB/s]\n",
      "config.json: 100%|██████████| 804/804 [00:00<00:00, 4.06MB/s]\n",
      "config_sentence_transformers.json: 100%|██████████| 122/122 [00:00<00:00, 295kB/s]\n",
      "model.safetensors: 100%|██████████| 1.88G/1.88G [02:41<00:00, 11.7MB/s]\n",
      "pytorch_model.bin: 100%|██████████| 1.88G/1.88G [02:45<00:00, 11.4MB/s]\n",
      "sentence_bert_config.json: 100%|██████████| 53.0/53.0 [00:00<00:00, 109kB/s]\n",
      "special_tokens_map.json: 100%|██████████| 112/112 [00:00<00:00, 669kB/s]\n",
      "tokenizer.json: 100%|██████████| 9.62M/9.62M [00:01<00:00, 8.95MB/s]\n",
      "tokenizer_config.json: 100%|██████████| 397/397 [00:00<00:00, 2.20MB/s]\n",
      "vocab.txt: 100%|██████████| 5.22M/5.22M [00:00<00:00, 5.80MB/s]\n",
      "modules.json: 100%|██████████| 461/461 [00:00<00:00, 5.01MB/s]\n"
     ]
    }
   ],
   "source": [
    "labse_model = SentenceTransformer(\"sentence-transformers/LaBSE\")"
   ]
  },
  {
   "cell_type": "code",
   "execution_count": 15,
   "metadata": {},
   "outputs": [
    {
     "data": {
      "text/plain": [
       "array([[ 0.00378203,  0.03505579, -0.03506292, ...,  0.03365617,\n",
       "        -0.01337467, -0.04214136],\n",
       "       [ 0.01077567,  0.04062957,  0.00577277, ...,  0.02818001,\n",
       "        -0.0232422 ,  0.03303246]], dtype=float32)"
      ]
     },
     "execution_count": 15,
     "metadata": {},
     "output_type": "execute_result"
    }
   ],
   "source": [
    "labse_model.encode([\"PREI\", \"prei\"])"
   ]
  }
 ],
 "metadata": {
  "kernelspec": {
   "display_name": "ssi-wp3",
   "language": "python",
   "name": "python3"
  },
  "language_info": {
   "codemirror_mode": {
    "name": "ipython",
    "version": 3
   },
   "file_extension": ".py",
   "mimetype": "text/x-python",
   "name": "python",
   "nbconvert_exporter": "python",
   "pygments_lexer": "ipython3",
   "version": "3.11.4"
  }
 },
 "nbformat": 4,
 "nbformat_minor": 2
}
