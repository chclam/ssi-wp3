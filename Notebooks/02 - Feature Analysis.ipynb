{
 "cells": [
  {
   "cell_type": "code",
   "execution_count": null,
   "id": "aggressive-learning",
   "metadata": {},
   "outputs": [],
   "source": [
    "import pandas as pd\n",
    "from dotenv import load_dotenv\n",
    "from pathlib import Path\n",
    "import os"
   ]
  },
  {
   "cell_type": "code",
   "execution_count": null,
   "id": "boring-density",
   "metadata": {},
   "outputs": [],
   "source": [
    "# load environment variables from .env file for project\n",
    "dotenv_path = Path('../.env')\n",
    "load_dotenv(dotenv_path=dotenv_path)"
   ]
  },
  {
   "cell_type": "code",
   "execution_count": null,
   "id": "sticky-meditation",
   "metadata": {},
   "outputs": [],
   "source": [
    "data_directory = os.getenv(\"OUTPUT_DIRECTORY\")"
   ]
  },
  {
   "cell_type": "code",
   "execution_count": null,
   "id": "global-therapist",
   "metadata": {},
   "outputs": [],
   "source": [
    "lidl_df = pd.read_parquet(os.path.join(data_directory, 'ssi_omzet_eans_coicops_lidl_2018_202308.parquet'), engine=\"pyarrow\")\n",
    "lidl_df.head()"
   ]
  },
  {
   "cell_type": "code",
   "execution_count": null,
   "id": "completed-sperm",
   "metadata": {},
   "outputs": [],
   "source": [
    "from sklearn.preprocessing import LabelEncoder\n",
    "from sklearn.feature_extraction.text import TfidfVectorizer, CountVectorizer\n",
    "\n",
    "feature_extractor_dict = {'CountVect': CountVectorizer(analyzer='word', token_pattern=r'\\w{2,}', max_features=5000),\n",
    "                               'TFIDF_word': TfidfVectorizer(analyzer='word', token_pattern=r'\\w{2,}', max_features=5000),\n",
    "                               'TFIDF_char': TfidfVectorizer(analyzer='char', token_pattern=r'\\w{2,}', ngram_range=(2,3), max_features=5000),\n",
    "                               'TFIDF_char34': TfidfVectorizer(analyzer='char', token_pattern=r'\\w{2,}', ngram_range=(3,4), max_features=5000),\n",
    "                               'Count_char': CountVectorizer(analyzer='char', token_pattern=r'\\w{2,}', max_features=5000)\n",
    "                               }"
   ]
  },
  {
   "cell_type": "code",
   "execution_count": null,
   "id": "gothic-logging",
   "metadata": {},
   "outputs": [],
   "source": [
    "lidl_sample_df = lidl_df.sample(1000).reset_index(drop=True)\n",
    "lidl_sample_df.head()"
   ]
  },
  {
   "cell_type": "code",
   "execution_count": null,
   "id": "identical-liver",
   "metadata": {},
   "outputs": [],
   "source": [
    "from sklearn.manifold import TSNE\n",
    "from matplotlib import cm\n",
    "import matplotlib.pyplot as plt\n",
    "import numpy as np\n",
    "\n",
    "def tsne_plot(dataframe: pd.DataFrame, feature_extractor, plot_title: str, text_column: str, label_column: str):\n",
    "    tsne = TSNE(n_components=2, init=\"random\", learning_rate=\"auto\")\n",
    "    label_encoder = LabelEncoder()\n",
    "    y_true = label_encoder.fit_transform(dataframe[label_column].values)\n",
    "\n",
    "    features = feature_extractor.fit_transform(dataframe[text_column])\n",
    "    embedded_features = tsne.fit_transform(features)    \n",
    "    plt.scatter(embedded_features[:,0], embedded_features[:, 1], c=y_true)\n",
    "    plt.title(plot_title)\n",
    "    plt.show()\n",
    "    \n",
    "    \n",
    "for i, (name, extractor) in enumerate(feature_extractor_dict.items()):\n",
    "        #if i > 1:\n",
    "        #    break\n",
    "        tsne_plot(lidl_sample_df, extractor, name, \"ean_name\", \"coicop_division\")\n",
    "    "
   ]
  },
  {
   "cell_type": "code",
   "execution_count": null,
   "id": "figured-mirror",
   "metadata": {},
   "outputs": [],
   "source": [
    "import spacy"
   ]
  },
  {
   "cell_type": "code",
   "execution_count": null,
   "id": "surprised-eight",
   "metadata": {},
   "outputs": [],
   "source": [
    "nlp = spacy.load(\"nl_core_news_sm\")"
   ]
  },
  {
   "cell_type": "code",
   "execution_count": null,
   "id": "patent-namibia",
   "metadata": {},
   "outputs": [],
   "source": [
    "lidl_sample_df[\"ean_name\"][0]"
   ]
  },
  {
   "cell_type": "code",
   "execution_count": null,
   "id": "mighty-producer",
   "metadata": {},
   "outputs": [],
   "source": [
    "doc = nlp(lidl_sample_df[\"ean_name\"][1])\n",
    "doc.vector.shape "
   ]
  },
  {
   "cell_type": "code",
   "execution_count": null,
   "id": "adverse-tissue",
   "metadata": {},
   "outputs": [],
   "source": [
    "tsne = TSNE(n_components=2, init=\"random\", learning_rate=\"auto\")\n",
    "label_encoder = LabelEncoder()\n",
    "y_true = label_encoder.fit_transform(lidl_sample_df[\"coicop_division\"].values)\n",
    "\n",
    "features = np.array([nlp(ean_name).vector for ean_name in lidl_sample_df[\"ean_name\"]])\n",
    "embedded_features = tsne.fit_transform(features)    \n",
    "plt.scatter(embedded_features[:,0], embedded_features[:, 1], c=y_true)\n",
    "plt.title(\"word embeddings\")\n",
    "plt.show()"
   ]
  }
 ],
 "metadata": {
  "kernelspec": {
   "display_name": "ssi",
   "language": "python",
   "name": "ssi"
  },
  "language_info": {
   "codemirror_mode": {
    "name": "ipython",
    "version": 3
   },
   "file_extension": ".py",
   "mimetype": "text/x-python",
   "name": "python",
   "nbconvert_exporter": "python",
   "pygments_lexer": "ipython3",
   "version": "3.11.5"
  }
 },
 "nbformat": 4,
 "nbformat_minor": 5
}
