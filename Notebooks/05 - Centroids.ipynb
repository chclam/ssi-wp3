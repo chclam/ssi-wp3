{
 "cells": [
  {
   "cell_type": "code",
   "execution_count": null,
   "id": "spoken-blink",
   "metadata": {},
   "outputs": [],
   "source": [
    "import pandas as pd\n",
    "from dotenv import load_dotenv\n",
    "from pathlib import Path\n",
    "import os\n",
    "\n",
    "# load environment variables from .env file for project\n",
    "dotenv_path = Path('../.env')\n",
    "load_dotenv(dotenv_path=dotenv_path)\n",
    "\n",
    "data_directory = os.getenv(\"OUTPUT_DIRECTORY\")\n",
    "feature_directory = os.path.join(data_directory, \"features\")"
   ]
  },
  {
   "cell_type": "code",
   "execution_count": null,
   "id": "enhanced-joseph",
   "metadata": {},
   "outputs": [],
   "source": [
    "feature_df = pd.read_parquet(os.path.join(feature_directory, \"ssi_lidl_spacy_nl_md_features.parquet\"), engine=\"pyarrow\")\n",
    "feature_df = feature_df.rename(columns={\"month\": \"year_month\"})\n",
    "feature_df.head()"
   ]
  },
  {
   "cell_type": "code",
   "execution_count": null,
   "id": "differential-creek",
   "metadata": {},
   "outputs": [],
   "source": [
    "centroids_df = feature_df.groupby(by=\"coicop_division\")[\"features_spacy_nl_md\"].mean()\n",
    "centroids_df = centroids_df.rename(\"euclidean_centroid\")\n",
    "centroids_df"
   ]
  },
  {
   "cell_type": "code",
   "execution_count": null,
   "id": "helpful-simulation",
   "metadata": {},
   "outputs": [],
   "source": [
    "feature_df = feature_df.merge(centroids_df, on=\"coicop_division\")\n",
    "feature_df.head()"
   ]
  },
  {
   "cell_type": "code",
   "execution_count": null,
   "id": "passing-rough",
   "metadata": {},
   "outputs": [],
   "source": [
    "from scipy.spatial.distance import euclidean\n",
    "\n",
    "\n",
    "feature_df[\"centroid_distances\"] = feature_df.apply(lambda row: euclidean(row[\"features_spacy_nl_md\"], row[\"euclidean_centroid\"]), axis=1)\n",
    "feature_df"
   ]
  },
  {
   "cell_type": "code",
   "execution_count": null,
   "id": "loaded-infrared",
   "metadata": {},
   "outputs": [],
   "source": [
    "import matplotlib.pyplot as plt\n",
    "\n",
    "feature_df.boxplot(column=\"centroid_distances\", by=\"coicop_division\", figsize=(10,10))"
   ]
  },
  {
   "cell_type": "code",
   "execution_count": null,
   "id": "interstate-clothing",
   "metadata": {},
   "outputs": [],
   "source": [
    "for coicop_division in feature_df.coicop_division.unique():\n",
    "    feature_df[feature_df.coicop_division == coicop_division][\"centroid_distances\"].plot.bar(figsize=(10,10))"
   ]
  },
  {
   "cell_type": "code",
   "execution_count": null,
   "id": "functioning-spanish",
   "metadata": {},
   "outputs": [],
   "source": [
    "# Get outliers for each coicop_division group, i.e. outside of IQR (inter-quartile range)\n",
    "from scipy.stats import iqr \n",
    "\n",
    "centroid_iqr = feature_df.groupby(by=\"coicop_division\")[\"centroid_distances\"]\n",
    "q1 = centroid_iqr.quantile(0.25).rename(\"q1\")\n",
    "q3 = centroid_iqr.quantile(0.75).rename(\"q3\")\n",
    "\n",
    "feature_df = feature_df.merge(q1, on=\"coicop_division\")\n",
    "feature_df = feature_df.merge(q3, on=\"coicop_division\")\n",
    "feature_df[\"iqr\"] = feature_df.q3 - feature_df.q1\n",
    "feature_df"
   ]
  },
  {
   "cell_type": "code",
   "execution_count": null,
   "id": "electric-husband",
   "metadata": {},
   "outputs": [],
   "source": [
    "outliers_df = feature_df[(feature_df.centroid_distances < feature_df.q1 - 1.5 * feature_df.iqr) | (feature_df.centroid_distances > feature_df.q3 + 1.5 * feature_df.iqr )]\n",
    "outliers_df"
   ]
  },
  {
   "cell_type": "code",
   "execution_count": null,
   "id": "official-disclosure",
   "metadata": {},
   "outputs": [],
   "source": [
    "outliers_df[\"coicop_division\"].value_counts()"
   ]
  },
  {
   "cell_type": "code",
   "execution_count": null,
   "id": "continental-poultry",
   "metadata": {},
   "outputs": [],
   "source": [
    "inliers_df = feature_df[(feature_df.centroid_distances >= feature_df.q1 - 1.5 * feature_df.iqr) & (feature_df.centroid_distances <= feature_df.q3 + 1.5 * feature_df.iqr )]\n",
    "inliers_df"
   ]
  },
  {
   "cell_type": "code",
   "execution_count": null,
   "id": "advisory-saskatchewan",
   "metadata": {},
   "outputs": [],
   "source": [
    "inliers_df[\"coicop_division\"].value_counts()"
   ]
  },
  {
   "cell_type": "code",
   "execution_count": null,
   "id": "delayed-march",
   "metadata": {},
   "outputs": [],
   "source": [
    "import wordcloud\n",
    "from IPython.display import SVG, display\n",
    "\n",
    "all_words = wordcloud.WordCloud()\n",
    "\n",
    "inlier_words = \" \".join(inliers_df[inliers_df.coicop_division == \"01\"].ean_name)\n",
    "display(SVG(all_words.generate_from_text(inlier_words).to_svg()))"
   ]
  },
  {
   "cell_type": "code",
   "execution_count": null,
   "id": "aboriginal-tragedy",
   "metadata": {},
   "outputs": [],
   "source": [
    "outlier_words = \" \".join(outliers_df[outliers_df.coicop_division == \"01\"].ean_name)\n",
    "display(SVG(all_words.generate_from_text(outlier_words).to_svg()))"
   ]
  },
  {
   "cell_type": "code",
   "execution_count": null,
   "id": "received-charm",
   "metadata": {},
   "outputs": [],
   "source": [
    "feature_df.boxplot(column=\"centroid_distances\", by=\"coicop_group\", figsize=(10,10))"
   ]
  },
  {
   "cell_type": "code",
   "execution_count": null,
   "id": "industrial-ordering",
   "metadata": {},
   "outputs": [],
   "source": [
    "centroid_iqr_group = feature_df.groupby(by=\"coicop_group\")[\"centroid_distances\"]\n",
    "q1 = centroid_iqr_group.quantile(0.25).rename(\"q1_group\")\n",
    "q3 = centroid_iqr_group.quantile(0.75).rename(\"q3_group\")\n",
    "\n",
    "feature_df = feature_df.merge(q1, on=\"coicop_group\")\n",
    "feature_df = feature_df.merge(q3, on=\"coicop_group\")\n",
    "feature_df[\"iqr_group\"] = feature_df.q3_group - feature_df.q1_group\n",
    "feature_df"
   ]
  },
  {
   "cell_type": "code",
   "execution_count": null,
   "id": "careful-privilege",
   "metadata": {},
   "outputs": [],
   "source": [
    "outliers_group_df = feature_df[(feature_df.centroid_distances < feature_df.q1_group - 1.5 * feature_df.iqr_group) | (feature_df.centroid_distances > feature_df.q3_group + 1.5 * feature_df.iqr_group )]\n",
    "inliers_group_df = feature_df[(feature_df.centroid_distances >= feature_df.q1_group - 1.5 * feature_df.iqr_group) & (feature_df.centroid_distances <= feature_df.q3_group + 1.5 * feature_df.iqr_group )]\n",
    "\n",
    "inliers_group_df"
   ]
  },
  {
   "cell_type": "code",
   "execution_count": null,
   "id": "integrated-supply",
   "metadata": {},
   "outputs": [],
   "source": [
    "inlier_words = \" \".join(inliers_group_df[inliers_group_df.coicop_group == \"012\"].ean_name)\n",
    "display(SVG(all_words.generate_from_text(inlier_words).to_svg()))"
   ]
  },
  {
   "cell_type": "code",
   "execution_count": null,
   "id": "negative-stupid",
   "metadata": {},
   "outputs": [],
   "source": [
    "outlier_words = \" \".join(outliers_group_df[outliers_group_df.coicop_group == \"012\"].ean_name)\n",
    "display(SVG(all_words.generate_from_text(outlier_words).to_svg()))"
   ]
  },
  {
   "cell_type": "code",
   "execution_count": null,
   "id": "sixth-victor",
   "metadata": {},
   "outputs": [],
   "source": [
    "from sklearn.decomposition import PCA\n",
    "\n",
    "pca = PCA()\n",
    "\n",
    "pca.fit(feature_df.features_spacy_nl_md.values.tolist())\n",
    "print(pca.explained_variance_ratio_)"
   ]
  },
  {
   "cell_type": "code",
   "execution_count": null,
   "id": "attempted-estonia",
   "metadata": {},
   "outputs": [],
   "source": [
    "plt.plot(pca.explained_variance_ratio_)\n",
    "x = 12\n",
    "plt.plot([x, x], [0, 0.15])"
   ]
  },
  {
   "cell_type": "code",
   "execution_count": null,
   "id": "vital-crime",
   "metadata": {},
   "outputs": [],
   "source": [
    "diff = pca.explained_variance_ratio_[:-1] - pca.explained_variance_ratio_[1:]\n",
    "plt.plot(diff)"
   ]
  },
  {
   "cell_type": "code",
   "execution_count": null,
   "id": "grand-strengthening",
   "metadata": {},
   "outputs": [],
   "source": [
    "# Cut-off point\n",
    "len(diff[diff > 1e-3]), diff[diff > 1e-3]"
   ]
  },
  {
   "cell_type": "code",
   "execution_count": null,
   "id": "opening-china",
   "metadata": {},
   "outputs": [],
   "source": [
    "pca = PCA(n_components=12)\n",
    "features_pca = pca.fit_transform(feature_df.features_spacy_nl_md.values.tolist())"
   ]
  },
  {
   "cell_type": "code",
   "execution_count": null,
   "id": "tribal-finish",
   "metadata": {},
   "outputs": [],
   "source": [
    "features_pca"
   ]
  },
  {
   "cell_type": "code",
   "execution_count": null,
   "id": "express-continuity",
   "metadata": {},
   "outputs": [],
   "source": [
    "feature_df[\"features_pca\"] = features_pca.tolist() "
   ]
  },
  {
   "cell_type": "code",
   "execution_count": null,
   "id": "destroyed-praise",
   "metadata": {},
   "outputs": [],
   "source": [
    "len(feature_df)"
   ]
  },
  {
   "cell_type": "code",
   "execution_count": null,
   "id": "spread-papua",
   "metadata": {},
   "outputs": [],
   "source": [
    "feature_df"
   ]
  },
  {
   "cell_type": "code",
   "execution_count": null,
   "id": "radical-suite",
   "metadata": {},
   "outputs": [],
   "source": [
    "from sklearn.model_selection import train_test_split\n",
    "\n",
    "train_val_data, test_data = train_test_split(feature_df, test_size=0.2, stratify=feature_df.coicop_division)\n",
    "train_val_data.shape, test_data.shape"
   ]
  },
  {
   "cell_type": "code",
   "execution_count": null,
   "id": "chemical-approval",
   "metadata": {},
   "outputs": [],
   "source": [
    "from sklearn.linear_model import LogisticRegression\n",
    "\n",
    "logistic_regression = LogisticRegression()\n",
    "\n",
    "lr_model = logistic_regression.fit(train_val_data.features_pca.values.tolist(), train_val_data.coicop_division.values.tolist())"
   ]
  },
  {
   "cell_type": "code",
   "execution_count": null,
   "id": "developmental-diversity",
   "metadata": {},
   "outputs": [],
   "source": [
    "from sklearn.metrics import classification_report\n",
    "\n",
    "y_pred = lr_model.predict(test_data.features_pca.values.tolist())\n",
    "\n",
    "print(classification_report(test_data.coicop_division.values, y_pred))"
   ]
  },
  {
   "cell_type": "code",
   "execution_count": null,
   "id": "figured-tenant",
   "metadata": {},
   "outputs": [],
   "source": [
    "from sklearn.linear_model import LogisticRegression\n",
    "\n",
    "lr_features = LogisticRegression()\n",
    "\n",
    "lr_model = lr_features.fit(train_val_data.features_spacy_nl_md.values.tolist(), train_val_data.coicop_division.values.tolist())"
   ]
  },
  {
   "cell_type": "code",
   "execution_count": null,
   "id": "falling-february",
   "metadata": {},
   "outputs": [],
   "source": [
    "from sklearn.metrics import classification_report\n",
    "\n",
    "y_pred = lr_model.predict(test_data.features_spacy_nl_md.values.tolist())\n",
    "\n",
    "print(classification_report(test_data.coicop_division.values, y_pred))"
   ]
  },
  {
   "cell_type": "markdown",
   "id": "exact-conditioning",
   "metadata": {},
   "source": [
    "# Clustering"
   ]
  },
  {
   "cell_type": "code",
   "execution_count": null,
   "id": "permanent-march",
   "metadata": {},
   "outputs": [],
   "source": [
    "feature_df.head()"
   ]
  },
  {
   "cell_type": "code",
   "execution_count": null,
   "id": "elder-advertiser",
   "metadata": {},
   "outputs": [],
   "source": [
    "feature_df[\"year\"] = feature_df.year_month.str[:4]\n",
    "feature_df.head()"
   ]
  },
  {
   "cell_type": "code",
   "execution_count": null,
   "id": "transparent-studio",
   "metadata": {},
   "outputs": [],
   "source": [
    "features_2019 = feature_df[feature_df.year == \"2019\"]\n",
    "features_2019.head()"
   ]
  },
  {
   "cell_type": "code",
   "execution_count": null,
   "id": "requested-profession",
   "metadata": {},
   "outputs": [],
   "source": [
    "from sklearn.cluster import OPTICS\n",
    "\n",
    "# standard uses minowski distance, probably should use cosine distance here\n",
    "optics = OPTICS()\n",
    "clustering = optics.fit(features_2019[\"features_spacy_nl_md\"].values.tolist())"
   ]
  },
  {
   "cell_type": "code",
   "execution_count": null,
   "id": "dominant-journey",
   "metadata": {},
   "outputs": [],
   "source": [
    "clustering"
   ]
  },
  {
   "cell_type": "code",
   "execution_count": null,
   "id": "sought-latex",
   "metadata": {},
   "outputs": [],
   "source": [
    "from joblib import dump\n",
    "\n",
    "dump(optics, 'optics_clustering_spacy_nl_md_lidl_2019')"
   ]
  },
  {
   "cell_type": "code",
   "execution_count": null,
   "id": "rising-adolescent",
   "metadata": {},
   "outputs": [],
   "source": [
    "optics.labels_"
   ]
  },
  {
   "cell_type": "code",
   "execution_count": null,
   "id": "demanding-peripheral",
   "metadata": {},
   "outputs": [],
   "source": [
    "from joblib import load\n",
    "\n",
    "optics2 = load('optics_clustering_spacy_nl_md_lidl_2019')\n",
    "optics2.labels_"
   ]
  },
  {
   "cell_type": "code",
   "execution_count": null,
   "id": "official-cancer",
   "metadata": {},
   "outputs": [],
   "source": [
    "cluster_df = pd.DataFrame({\n",
    "    \"labels\": optics.labels_,\n",
    "    \"reachability\": optics.reachability_,\n",
    "    \"ordering\": optics.ordering_,\n",
    "    \"core_distances\": optics.core_distances_,\n",
    "    \"predecessor\": optics.predecessor_\n",
    "})\n",
    "\n",
    "cluster_df.head()"
   ]
  },
  {
   "cell_type": "code",
   "execution_count": null,
   "id": "remarkable-undergraduate",
   "metadata": {},
   "outputs": [],
   "source": [
    "cluster_df.to_parquet(\"optics_clustering_spacy_nl_md_lidl_2019.parquet\", engine=\"pyarrow\")"
   ]
  },
  {
   "cell_type": "code",
   "execution_count": null,
   "id": "fiscal-mercury",
   "metadata": {},
   "outputs": [],
   "source": [
    "cluster_df.labels.nunique()"
   ]
  },
  {
   "cell_type": "code",
   "execution_count": null,
   "id": "widespread-obligation",
   "metadata": {},
   "outputs": [],
   "source": [
    "cluster_df.describe()"
   ]
  },
  {
   "cell_type": "code",
   "execution_count": null,
   "id": "balanced-tenant",
   "metadata": {},
   "outputs": [],
   "source": [
    "cluster_df.reachability[cluster_df.ordering.sort_values()]"
   ]
  },
  {
   "cell_type": "code",
   "execution_count": null,
   "id": "invalid-report",
   "metadata": {},
   "outputs": [],
   "source": [
    "# check labeling with COICOP labels"
   ]
  },
  {
   "cell_type": "code",
   "execution_count": null,
   "id": "valuable-tulsa",
   "metadata": {},
   "outputs": [],
   "source": [
    "import sklearn\n",
    "from typing import Tuple\n",
    "\n",
    "def optics_cluster(features: pd.Series, **kwargs) -> Tuple[sklearn.cluster.OPTICS, pd.DataFrame]:\n",
    "    optics = OPTICS(**kwargs)\n",
    "    clustering = optics.fit(features.values.tolist())\n",
    "    cluster_df = pd.DataFrame({\n",
    "        \"labels\": optics.labels_,\n",
    "        \"reachability\": optics.reachability_,\n",
    "        \"ordering\": optics.ordering_,\n",
    "        \"core_distances\": optics.core_distances_,\n",
    "        \"predecessor\": optics.predecessor_\n",
    "    })\n",
    "    return clustering, cluster_df"
   ]
  },
  {
   "cell_type": "code",
   "execution_count": null,
   "id": "occasional-suite",
   "metadata": {},
   "outputs": [],
   "source": [
    "cosine_clustering, cosine_cluster_df = optics_cluster(features_2019[\"features_spacy_nl_md\"], metric=\"cosine\")\n",
    "\n",
    "dump(cosine_clustering, 'optics_cosine_clustering_spacy_nl_md_lidl_2019')\n",
    "cosine_cluster_df.to_parquet(\"optics_cosine_clustering_spacy_nl_md_lidl_2019.parquet\", engine=\"pyarrow\")"
   ]
  }
 ],
 "metadata": {
  "kernelspec": {
   "display_name": "ssi",
   "language": "python",
   "name": "ssi"
  },
  "language_info": {
   "codemirror_mode": {
    "name": "ipython",
    "version": 3
   },
   "file_extension": ".py",
   "mimetype": "text/x-python",
   "name": "python",
   "nbconvert_exporter": "python",
   "pygments_lexer": "ipython3",
   "version": "3.11.5"
  }
 },
 "nbformat": 4,
 "nbformat_minor": 5
}
