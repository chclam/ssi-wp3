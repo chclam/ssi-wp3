{
 "cells": [
  {
   "cell_type": "code",
   "execution_count": null,
   "id": "interpreted-holly",
   "metadata": {},
   "outputs": [],
   "source": [
    "import pandas as pd\n",
    "from dotenv import load_dotenv\n",
    "from pathlib import Path\n",
    "import os\n",
    "\n",
    "# load environment variables from .env file for project\n",
    "dotenv_path = Path('../.env')\n",
    "load_dotenv(dotenv_path=dotenv_path)\n",
    "\n",
    "data_directory = os.getenv(\"OUTPUT_DIRECTORY\")\n",
    "feature_directory = os.path.join(data_directory, \"features\")"
   ]
  },
  {
   "cell_type": "code",
   "execution_count": null,
   "id": "future-millennium",
   "metadata": {},
   "outputs": [],
   "source": [
    "feature_df = pd.read_parquet(os.path.join(feature_directory, \"ssi_lidl_spacy_nl_md_features.parquet\"), engine=\"pyarrow\")\n",
    "feature_df = feature_df.rename(columns={\"month\": \"year_month\"})\n",
    "feature_df.head()"
   ]
  },
  {
   "cell_type": "code",
   "execution_count": null,
   "id": "naval-distance",
   "metadata": {},
   "outputs": [],
   "source": [
    "centroids_df = feature_df.groupby(by=\"coicop_division\")[\"features_spacy_nl_md\"].mean()\n",
    "centroids_df = centroids_df.rename(\"euclidean_centroid\")\n",
    "centroids_df"
   ]
  },
  {
   "cell_type": "code",
   "execution_count": null,
   "id": "hundred-refund",
   "metadata": {},
   "outputs": [],
   "source": [
    "feature_df = feature_df.merge(centroids_df, on=\"coicop_division\")\n",
    "feature_df.head()"
   ]
  },
  {
   "cell_type": "code",
   "execution_count": null,
   "id": "broad-french",
   "metadata": {},
   "outputs": [],
   "source": [
    "from scipy.spatial.distance import euclidean\n",
    "\n",
    "\n",
    "feature_df[\"centroid_distances\"] = feature_df.apply(lambda row: euclidean(row[\"features_spacy_nl_md\"], row[\"euclidean_centroid\"]), axis=1)\n",
    "feature_df"
   ]
  },
  {
   "cell_type": "code",
   "execution_count": null,
   "id": "applied-liver",
   "metadata": {},
   "outputs": [],
   "source": [
    "import matplotlib.pyplot as plt\n",
    "\n",
    "feature_df.boxplot(column=\"centroid_distances\", by=\"coicop_division\", figsize=(10,10))"
   ]
  },
  {
   "cell_type": "code",
   "execution_count": null,
   "id": "european-track",
   "metadata": {},
   "outputs": [],
   "source": [
    "for coicop_division in feature_df.coicop_division.unique():\n",
    "    feature_df[feature_df.coicop_division == coicop_division][\"centroid_distances\"].plot.bar(figsize=(10,10))"
   ]
  },
  {
   "cell_type": "code",
   "execution_count": null,
   "id": "aggregate-opposition",
   "metadata": {},
   "outputs": [],
   "source": [
    "# Get outliers for each coicop_division group, i.e. outside of IQR (inter-quartile range)\n",
    "from scipy.stats import iqr \n",
    "\n",
    "centroid_iqr = feature_df.groupby(by=\"coicop_division\")[\"centroid_distances\"]\n",
    "q1 = centroid_iqr.quantile(0.25).rename(\"q1\")\n",
    "q3 = centroid_iqr.quantile(0.75).rename(\"q3\")\n",
    "\n",
    "feature_df = feature_df.merge(q1, on=\"coicop_division\")\n",
    "feature_df = feature_df.merge(q3, on=\"coicop_division\")\n",
    "feature_df[\"iqr\"] = feature_df.q3 - feature_df.q1\n",
    "feature_df"
   ]
  },
  {
   "cell_type": "code",
   "execution_count": null,
   "id": "political-respect",
   "metadata": {},
   "outputs": [],
   "source": [
    "outliers_df = feature_df[(feature_df.centroid_distances < feature_df.q1 - 1.5 * feature_df.iqr) | (feature_df.centroid_distances > feature_df.q3 + 1.5 * feature_df.iqr )]\n",
    "outliers_df"
   ]
  },
  {
   "cell_type": "code",
   "execution_count": null,
   "id": "motivated-profile",
   "metadata": {},
   "outputs": [],
   "source": [
    "outliers_df[\"coicop_division\"].value_counts()"
   ]
  },
  {
   "cell_type": "code",
   "execution_count": null,
   "id": "continental-thread",
   "metadata": {},
   "outputs": [],
   "source": [
    "inliers_df = feature_df[(feature_df.centroid_distances >= feature_df.q1 - 1.5 * feature_df.iqr) & (feature_df.centroid_distances <= feature_df.q3 + 1.5 * feature_df.iqr )]\n",
    "inliers_df"
   ]
  },
  {
   "cell_type": "code",
   "execution_count": null,
   "id": "upset-state",
   "metadata": {},
   "outputs": [],
   "source": [
    "inliers_df[\"coicop_division\"].value_counts()"
   ]
  },
  {
   "cell_type": "code",
   "execution_count": null,
   "id": "developing-textbook",
   "metadata": {},
   "outputs": [],
   "source": [
    "import wordcloud\n",
    "from IPython.display import SVG, display\n",
    "\n",
    "all_words = wordcloud.WordCloud()\n",
    "\n",
    "inlier_words = \" \".join(inliers_df[inliers_df.coicop_division == \"01\"].ean_name)\n",
    "display(SVG(all_words.generate_from_text(inlier_words).to_svg()))"
   ]
  },
  {
   "cell_type": "code",
   "execution_count": null,
   "id": "desirable-master",
   "metadata": {},
   "outputs": [],
   "source": [
    "outlier_words = \" \".join(outliers_df[outliers_df.coicop_division == \"01\"].ean_name)\n",
    "display(SVG(all_words.generate_from_text(outlier_words).to_svg()))"
   ]
  },
  {
   "cell_type": "code",
   "execution_count": null,
   "id": "further-course",
   "metadata": {},
   "outputs": [],
   "source": [
    "feature_df.boxplot(column=\"centroid_distances\", by=\"coicop_group\", figsize=(10,10))"
   ]
  },
  {
   "cell_type": "code",
   "execution_count": null,
   "id": "level-therapist",
   "metadata": {},
   "outputs": [],
   "source": [
    "centroid_iqr_group = feature_df.groupby(by=\"coicop_group\")[\"centroid_distances\"]\n",
    "q1 = centroid_iqr_group.quantile(0.25).rename(\"q1_group\")\n",
    "q3 = centroid_iqr_group.quantile(0.75).rename(\"q3_group\")\n",
    "\n",
    "feature_df = feature_df.merge(q1, on=\"coicop_group\")\n",
    "feature_df = feature_df.merge(q3, on=\"coicop_group\")\n",
    "feature_df[\"iqr_group\"] = feature_df.q3_group - feature_df.q1_group\n",
    "feature_df"
   ]
  },
  {
   "cell_type": "code",
   "execution_count": null,
   "id": "logical-middle",
   "metadata": {},
   "outputs": [],
   "source": [
    "outliers_group_df = feature_df[(feature_df.centroid_distances < feature_df.q1_group - 1.5 * feature_df.iqr_group) | (feature_df.centroid_distances > feature_df.q3_group + 1.5 * feature_df.iqr_group )]\n",
    "inliers_group_df = feature_df[(feature_df.centroid_distances >= feature_df.q1_group - 1.5 * feature_df.iqr_group) & (feature_df.centroid_distances <= feature_df.q3_group + 1.5 * feature_df.iqr_group )]\n",
    "\n",
    "inliers_group_df"
   ]
  },
  {
   "cell_type": "code",
   "execution_count": null,
   "id": "jewish-finding",
   "metadata": {},
   "outputs": [],
   "source": [
    "inlier_words = \" \".join(inliers_group_df[inliers_group_df.coicop_group == \"012\"].ean_name)\n",
    "display(SVG(all_words.generate_from_text(inlier_words).to_svg()))"
   ]
  },
  {
   "cell_type": "code",
   "execution_count": null,
   "id": "radio-potter",
   "metadata": {},
   "outputs": [],
   "source": [
    "outlier_words = \" \".join(outliers_group_df[outliers_group_df.coicop_group == \"012\"].ean_name)\n",
    "display(SVG(all_words.generate_from_text(outlier_words).to_svg()))"
   ]
  },
  {
   "cell_type": "code",
   "execution_count": null,
   "id": "outer-incident",
   "metadata": {},
   "outputs": [],
   "source": [
    "from sklearn.decomposition import PCA\n",
    "\n",
    "pca = PCA()\n",
    "\n",
    "pca.fit(feature_df.features_spacy_nl_md.values.tolist())\n",
    "print(pca.explained_variance_ratio_)"
   ]
  },
  {
   "cell_type": "code",
   "execution_count": null,
   "id": "straight-beijing",
   "metadata": {},
   "outputs": [],
   "source": [
    "plt.plot(pca.explained_variance_ratio_)\n",
    "x = 12\n",
    "plt.plot([x, x], [0, 0.15])"
   ]
  },
  {
   "cell_type": "code",
   "execution_count": null,
   "id": "constitutional-practice",
   "metadata": {},
   "outputs": [],
   "source": [
    "diff = pca.explained_variance_ratio_[:-1] - pca.explained_variance_ratio_[1:]\n",
    "plt.plot(diff)"
   ]
  },
  {
   "cell_type": "code",
   "execution_count": null,
   "id": "voluntary-participant",
   "metadata": {},
   "outputs": [],
   "source": [
    "# Cut-off point\n",
    "len(diff[diff > 1e-3]), diff[diff > 1e-3]"
   ]
  },
  {
   "cell_type": "code",
   "execution_count": null,
   "id": "front-coral",
   "metadata": {},
   "outputs": [],
   "source": [
    "pca = PCA(n_components=12)\n",
    "features_pca = pca.fit_transform(feature_df.features_spacy_nl_md.values.tolist())"
   ]
  },
  {
   "cell_type": "code",
   "execution_count": null,
   "id": "opposite-greece",
   "metadata": {},
   "outputs": [],
   "source": [
    "features_pca"
   ]
  },
  {
   "cell_type": "code",
   "execution_count": null,
   "id": "opponent-commodity",
   "metadata": {},
   "outputs": [],
   "source": [
    "feature_df[\"features_pca\"] = features_pca.tolist() "
   ]
  },
  {
   "cell_type": "code",
   "execution_count": null,
   "id": "alpine-permission",
   "metadata": {},
   "outputs": [],
   "source": [
    "len(feature_df)"
   ]
  },
  {
   "cell_type": "code",
   "execution_count": null,
   "id": "successful-nutrition",
   "metadata": {},
   "outputs": [],
   "source": [
    "feature_df"
   ]
  },
  {
   "cell_type": "code",
   "execution_count": null,
   "id": "silent-navigation",
   "metadata": {},
   "outputs": [],
   "source": [
    "from sklearn.model_selection import train_test_split\n",
    "\n",
    "train_val_data, test_data = train_test_split(feature_df, test_size=0.2, stratify=feature_df.coicop_division)\n",
    "train_val_data.shape, test_data.shape"
   ]
  },
  {
   "cell_type": "code",
   "execution_count": null,
   "id": "circular-target",
   "metadata": {},
   "outputs": [],
   "source": [
    "from sklearn.linear_model import LogisticRegression\n",
    "\n",
    "logistic_regression = LogisticRegression()\n",
    "\n",
    "lr_model = logistic_regression.fit(train_val_data.features_pca.values.tolist(), train_val_data.coicop_division.values.tolist())"
   ]
  },
  {
   "cell_type": "code",
   "execution_count": null,
   "id": "accepting-controversy",
   "metadata": {},
   "outputs": [],
   "source": [
    "from sklearn.metrics import classification_report\n",
    "\n",
    "y_pred = lr_model.predict(test_data.features_pca.values.tolist())\n",
    "\n",
    "print(classification_report(test_data.coicop_division.values, y_pred))"
   ]
  },
  {
   "cell_type": "code",
   "execution_count": null,
   "id": "checked-equation",
   "metadata": {},
   "outputs": [],
   "source": [
    "from sklearn.linear_model import LogisticRegression\n",
    "\n",
    "lr_features = LogisticRegression()\n",
    "\n",
    "lr_model = lr_features.fit(train_val_data.features_spacy_nl_md.values.tolist(), train_val_data.coicop_division.values.tolist())"
   ]
  },
  {
   "cell_type": "code",
   "execution_count": null,
   "id": "charming-simon",
   "metadata": {},
   "outputs": [],
   "source": [
    "from sklearn.metrics import classification_report\n",
    "\n",
    "y_pred = lr_model.predict(test_data.features_spacy_nl_md.values.tolist())\n",
    "\n",
    "print(classification_report(test_data.coicop_division.values, y_pred))"
   ]
  }
 ],
 "metadata": {
  "kernelspec": {
   "display_name": "ssi",
   "language": "python",
   "name": "ssi"
  },
  "language_info": {
   "codemirror_mode": {
    "name": "ipython",
    "version": 3
   },
   "file_extension": ".py",
   "mimetype": "text/x-python",
   "name": "python",
   "nbconvert_exporter": "python",
   "pygments_lexer": "ipython3",
   "version": "3.11.5"
  }
 },
 "nbformat": 4,
 "nbformat_minor": 5
}
